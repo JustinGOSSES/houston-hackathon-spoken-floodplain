{
 "cells": [
  {
   "cell_type": "markdown",
   "id": "3725cf08",
   "metadata": {
    "iooxa": {
     "id": {
      "block": "7vkdUOcwW7mO5gCScqZS",
      "project": "0y7RFnL8NkCdaXBu8Iog",
      "version": 1
     }
    }
   },
   "source": [
    "#  Downloading Floodplain GIS data from FEMA and Converting Floodplain Polygons into Single Geojson"
   ]
  },
  {
   "cell_type": "code",
   "execution_count": 1,
   "id": "a69b075e",
   "metadata": {
    "iooxa": {
     "id": {
      "block": "Y3CLEVZFpgAJq9y4nlP9",
      "project": "0y7RFnL8NkCdaXBu8Iog",
      "version": 1
     },
     "outputId": {
      "block": "EpdnEBcJhvpZvnGmvtYn",
      "project": "0y7RFnL8NkCdaXBu8Iog",
      "version": 1
     }
    }
   },
   "outputs": [
    {
     "name": "stdout",
     "output_type": "stream",
     "text": [
      "FEMA FIRM COUNTY LEVEL DATA HARRIS Shapefile to GEOJSON.ipynb\r\n"
     ]
    }
   ],
   "source": [
    "ls"
   ]
  },
  {
   "cell_type": "code",
   "execution_count": 2,
   "id": "958ef492",
   "metadata": {
    "iooxa": {
     "id": {
      "block": "NyGRsMVWpzLj3QI2nTGm",
      "project": "0y7RFnL8NkCdaXBu8Iog",
      "version": 1
     },
     "outputId": {
      "block": "X3laDy56BV5cq17CQixH",
      "project": "0y7RFnL8NkCdaXBu8Iog",
      "version": 1
     }
    }
   },
   "outputs": [
    {
     "name": "stdout",
     "output_type": "stream",
     "text": [
      "/Users/justingosses/Code/spoken-floodplain\n"
     ]
    }
   ],
   "source": [
    "cd .."
   ]
  },
  {
   "cell_type": "code",
   "execution_count": 3,
   "id": "928d29f3",
   "metadata": {
    "iooxa": {
     "id": {
      "block": "NhHQ8YVtH9waO6icqWm5",
      "project": "0y7RFnL8NkCdaXBu8Iog",
      "version": 1
     },
     "outputId": {
      "block": "G04mpMdvxXB9wsl8r7yl",
      "project": "0y7RFnL8NkCdaXBu8Iog",
      "version": 1
     }
    }
   },
   "outputs": [
    {
     "name": "stdout",
     "output_type": "stream",
     "text": [
      "LICENSE    README.md  \u001b[34mdata\u001b[m\u001b[m/      \u001b[34mnotebooks\u001b[m\u001b[m/\r\n"
     ]
    }
   ],
   "source": [
    "ls"
   ]
  },
  {
   "cell_type": "code",
   "execution_count": 4,
   "id": "acc55188",
   "metadata": {
    "iooxa": {
     "id": {
      "block": "lWvKSb6XthPX2UKXtj0s",
      "project": "0y7RFnL8NkCdaXBu8Iog",
      "version": 1
     },
     "outputId": {
      "block": "Wg73m4pACSvetygNrVPt",
      "project": "0y7RFnL8NkCdaXBu8Iog",
      "version": 1
     }
    }
   },
   "outputs": [
    {
     "name": "stdout",
     "output_type": "stream",
     "text": [
      "/Users/justingosses/Code/spoken-floodplain/data\n"
     ]
    }
   ],
   "source": [
    "cd data"
   ]
  },
  {
   "cell_type": "code",
   "execution_count": 117,
   "id": "79c64861",
   "metadata": {
    "iooxa": {
     "id": {
      "block": "8JlPeqnluzZ3EoxpBVH0",
      "project": "0y7RFnL8NkCdaXBu8Iog",
      "version": 1
     },
     "outputId": {
      "block": "IDlojlhlT7HQPlPXq7AY",
      "project": "0y7RFnL8NkCdaXBu8Iog",
      "version": 1
     }
    }
   },
   "outputs": [
    {
     "name": "stdout",
     "output_type": "stream",
     "text": [
      "\u001b[34m48201C_20220807\u001b[m\u001b[m/ \u001b[34mcreated_data\u001b[m\u001b[m/    \u001b[34mdata_old\u001b[m\u001b[m/        temp.txt\r\n"
     ]
    }
   ],
   "source": [
    "ls"
   ]
  },
  {
   "cell_type": "markdown",
   "id": "ef43d2f2",
   "metadata": {},
   "source": [
    "Go to 'https://msc.fema.gov/portal/downloadProduct?productID=NFHL_48201C' in your browswer and download the data."
   ]
  },
  {
   "cell_type": "markdown",
   "id": "1bcdbf9f",
   "metadata": {},
   "source": [
    "If you would like to see the map interface you get before you click on that download link, it is at https://hazards-fema.maps.arcgis.com/apps/webappviewer/index.html?id=8b0adb51996444d4879338b5529aa9cd"
   ]
  },
  {
   "cell_type": "markdown",
   "id": "117e31e6",
   "metadata": {},
   "source": [
    "Unzip the download and move the resulting folder 48201C_20220807 into the data folder you created above."
   ]
  },
  {
   "cell_type": "code",
   "execution_count": 124,
   "id": "6139d337",
   "metadata": {},
   "outputs": [
    {
     "name": "stdout",
     "output_type": "stream",
     "text": [
      "\u001b[34m48201C_20220807\u001b[m\u001b[m/ \u001b[34mcreated_data\u001b[m\u001b[m/    \u001b[34mdata_old\u001b[m\u001b[m/        temp.txt\r\n"
     ]
    }
   ],
   "source": [
    "ls"
   ]
  },
  {
   "cell_type": "code",
   "execution_count": 7,
   "id": "1a6ddd0a",
   "metadata": {
    "iooxa": {
     "id": {
      "block": "WPwbBnVNsV6s0oNZJ8Xl",
      "project": "0y7RFnL8NkCdaXBu8Iog",
      "version": 1
     },
     "outputId": {
      "block": "bYVhmOVWKfy9be5ZuEJk",
      "project": "0y7RFnL8NkCdaXBu8Iog",
      "version": 1
     }
    }
   },
   "outputs": [
    {
     "name": "stdout",
     "output_type": "stream",
     "text": [
      "/Users/justingosses/Code/spoken-floodplain/data/48201C_20220807\n"
     ]
    }
   ],
   "source": [
    "cd 48201C_20220807"
   ]
  },
  {
   "cell_type": "code",
   "execution_count": 9,
   "id": "3f400ff7",
   "metadata": {
    "iooxa": {
     "id": {
      "block": "biSOrEWsaoGnZvJ16dAv",
      "project": "0y7RFnL8NkCdaXBu8Iog",
      "version": 1
     },
     "outputId": {
      "block": "J7YO1CxfjnOGgM8xguLv",
      "project": "0y7RFnL8NkCdaXBu8Iog",
      "version": 1
     }
    }
   },
   "outputs": [
    {
     "name": "stdout",
     "output_type": "stream",
     "text": [
      "48201C_20220807_metadata.xml  S_LEVEE.dbf\r\n",
      "L_COMM_INFO.dbf               S_LEVEE.prj\r\n",
      "L_COMM_REVIS.dbf              S_LEVEE.shp\r\n",
      "L_MANNINGSN.dbf               S_LEVEE.shx\r\n",
      "L_MEETINGS.dbf                S_LIMWA.dbf\r\n",
      "L_MT2_LOMR.dbf                S_LIMWA.prj\r\n",
      "L_MTG_POC.dbf                 S_LIMWA.shp\r\n",
      "L_PAN_REVIS.dbf               S_LIMWA.shx\r\n",
      "L_POL_FHBM.dbf                S_LOMR.dbf\r\n",
      "L_SOURCE_CIT.dbf              S_LOMR.prj\r\n",
      "L_SUMMARY_DISCHARGES.dbf      S_LOMR.shp\r\n",
      "L_XS_ELEV.dbf                 S_LOMR.shx\r\n",
      "STUDY_INFO.dbf                S_POL_AR.dbf\r\n",
      "S_BFE.dbf                     S_POL_AR.prj\r\n",
      "S_BFE.prj                     S_POL_AR.shp\r\n",
      "S_BFE.shp                     S_POL_AR.shx\r\n",
      "S_BFE.shx                     S_PROFIL_BASLN.dbf\r\n",
      "S_CST_TSCT_LN.dbf             S_PROFIL_BASLN.prj\r\n",
      "S_CST_TSCT_LN.prj             S_PROFIL_BASLN.shp\r\n",
      "S_CST_TSCT_LN.shp             S_PROFIL_BASLN.shx\r\n",
      "S_CST_TSCT_LN.shx             S_STN_START.dbf\r\n",
      "S_FIRM_PAN.dbf                S_STN_START.prj\r\n",
      "S_FIRM_PAN.prj                S_STN_START.shp\r\n",
      "S_FIRM_PAN.shp                S_STN_START.shx\r\n",
      "S_FIRM_PAN.shx                S_SUBBASINS.dbf\r\n",
      "S_FLD_HAZ_AR.dbf              S_SUBBASINS.prj\r\n",
      "S_FLD_HAZ_AR.prj              S_SUBBASINS.shp\r\n",
      "S_FLD_HAZ_AR.shp              S_SUBBASINS.shx\r\n",
      "S_FLD_HAZ_AR.shx              S_TRNSPORT_LN.dbf\r\n",
      "S_FLD_HAZ_LN.dbf              S_TRNSPORT_LN.prj\r\n",
      "S_FLD_HAZ_LN.prj              S_TRNSPORT_LN.shp\r\n",
      "S_FLD_HAZ_LN.shp              S_TRNSPORT_LN.shx\r\n",
      "S_FLD_HAZ_LN.shx              S_WTR_AR.dbf\r\n",
      "S_GEN_STRUCT.dbf              S_WTR_AR.prj\r\n",
      "S_GEN_STRUCT.prj              S_WTR_AR.shp\r\n",
      "S_GEN_STRUCT.shp              S_WTR_AR.shx\r\n",
      "S_GEN_STRUCT.shx              S_WTR_LN.dbf\r\n",
      "S_LABEL_LD.dbf                S_WTR_LN.prj\r\n",
      "S_LABEL_LD.prj                S_WTR_LN.shp\r\n",
      "S_LABEL_LD.shp                S_WTR_LN.shx\r\n",
      "S_LABEL_LD.shx                S_XS.dbf\r\n",
      "S_LABEL_PT.dbf                S_XS.prj\r\n",
      "S_LABEL_PT.prj                S_XS.shp\r\n",
      "S_LABEL_PT.shp                S_XS.shx\r\n",
      "S_LABEL_PT.shx\r\n"
     ]
    }
   ],
   "source": [
    "ls"
   ]
  },
  {
   "cell_type": "markdown",
   "id": "e2eae0d9",
   "metadata": {
    "iooxa": {
     "id": {
      "block": "QdpDQgKKNyMy4OqBBbwF",
      "project": "0y7RFnL8NkCdaXBu8Iog",
      "version": 1
     }
    }
   },
   "source": [
    "Data is from https://hazards-fema.maps.arcgis.com/apps/webappviewer/index.html?id=8b0adb51996444d4879338b5529aa9cd\n",
    "    Using the \"county\" button download"
   ]
  },
  {
   "cell_type": "code",
   "execution_count": 10,
   "id": "f9b0cabf",
   "metadata": {
    "iooxa": {
     "id": {
      "block": "ATk7HmSVXMlr3NASjgT5",
      "project": "0y7RFnL8NkCdaXBu8Iog",
      "version": 1
     },
     "outputId": null
    }
   },
   "outputs": [],
   "source": [
    "import geopandas as gpd"
   ]
  },
  {
   "cell_type": "code",
   "execution_count": 11,
   "id": "478f3382",
   "metadata": {
    "iooxa": {
     "id": {
      "block": "5jO2AGL25Jchsb3F7OzP",
      "project": "0y7RFnL8NkCdaXBu8Iog",
      "version": 1
     },
     "outputId": null
    }
   },
   "outputs": [],
   "source": [
    "url_S_CST_TSCT_LN = \"S_CST_TSCT_LN.shp\"\n",
    "url_S_FIRM_PAN = \"S_FIRM_PAN.shp\"\n",
    "url_S_FLD_HAZ_AR = \"S_FLD_HAZ_AR.shp\"\n",
    "url_S_GEN_STRUCT = \"S_GEN_STRUCT.shp\"\n",
    "url_S_LABEL_LD = \"S_LABEL_LD.shp\"\n",
    "url_S_LEVEE = \"S_LEVEE.shp\"\n",
    "# url_ = \"\"\n",
    "# url_ = \"\"\n",
    "# url_ = \"\""
   ]
  },
  {
   "cell_type": "code",
   "execution_count": 12,
   "id": "48e002de",
   "metadata": {
    "iooxa": {
     "id": {
      "block": "Sm9EjOfouAf8YJ0taw5C",
      "project": "0y7RFnL8NkCdaXBu8Iog",
      "version": 1
     },
     "outputId": {
      "block": "LKFdjMeYiVQqTblqCrPu",
      "project": "0y7RFnL8NkCdaXBu8Iog",
      "version": 1
     }
    }
   },
   "outputs": [
    {
     "name": "stdout",
     "output_type": "stream",
     "text": [
      "<class 'geopandas.geodataframe.GeoDataFrame'>\n",
      "    DFIRM_ID VERSION_ID  TRAN_LN_ID TBASELN_ID TRAN_NO METHOD  XCOORD  YCOORD  \\\n",
      "0     48201C    1.1.1.0  48201C_104         NP     102   None -8888.0 -8888.0   \n",
      "1     48201C    1.1.1.0  48201C_105         NP     101   None -8888.0 -8888.0   \n",
      "2     48201C    1.1.1.0  48201C_106         NP     104   None -8888.0 -8888.0   \n",
      "3     48201C    1.1.1.0  48201C_107         NP     105   None -8888.0 -8888.0   \n",
      "4     48201C    1.1.1.0  48201C_108         NP     106   None -8888.0 -8888.0   \n",
      "..       ...        ...         ...        ...     ...    ...     ...     ...   \n",
      "175   48201C    1.1.1.0  48201C_256         NP     138   None -8888.0 -8888.0   \n",
      "176   48201C    1.1.1.0  48201C_257         NP     166   None -8888.0 -8888.0   \n",
      "177   48201C    1.1.1.0  48201C_258         NP      60   None -8888.0 -8888.0   \n",
      "178   48201C    1.1.1.0  48201C_259         NP      85   None -8888.0 -8888.0   \n",
      "179   48201C    1.1.1.0  48201C_260         NP     145   None -8888.0 -8888.0   \n",
      "\n",
      "    WTR_NM V_DATUM  ...  OVERTOP_TF BW_HGT_TF HVFLOW_TF VZONE_EXT SETUP_DPTH  \\\n",
      "0       NP      NP  ...           U         U         U      None    -9999.0   \n",
      "1       NP      NP  ...           U         U         U      None    -9999.0   \n",
      "2       NP      NP  ...           U         U         U      None    -9999.0   \n",
      "3       NP      NP  ...           U         U         U      None    -9999.0   \n",
      "4       NP      NP  ...           U         U         U      None    -9999.0   \n",
      "..     ...     ...  ...         ...       ...       ...       ...        ...   \n",
      "175     NP      NP  ...           U         U         U      None    -9999.0   \n",
      "176     NP      NP  ...           U         U         U      None    -9999.0   \n",
      "177     NP      NP  ...           U         U         U      None    -9999.0   \n",
      "178     NP      NP  ...           U         U         U      None    -9999.0   \n",
      "179     NP      NP  ...           U         U         U      None    -9999.0   \n",
      "\n",
      "    WAVE_02PCT  LEN_UNIT  TIME_UNIT     SOURCE_CIT  \\\n",
      "0            U      None       None  48201C_STUDY1   \n",
      "1            U      None       None  48201C_STUDY1   \n",
      "2            U      None       None  48201C_STUDY1   \n",
      "3            U      None       None  48201C_STUDY1   \n",
      "4            U      None       None  48201C_STUDY1   \n",
      "..         ...       ...        ...            ...   \n",
      "175          U      None       None  48201C_STUDY1   \n",
      "176          U      None       None  48201C_STUDY1   \n",
      "177          U      None       None  48201C_STUDY1   \n",
      "178          U      None       None  48201C_STUDY1   \n",
      "179          U      None       None  48201C_STUDY1   \n",
      "\n",
      "                                              geometry  \n",
      "0    LINESTRING (-95.00692 29.72163, -95.00863 29.7...  \n",
      "1    LINESTRING (-95.00248 29.71899, -95.00229 29.7...  \n",
      "2    LINESTRING (-95.02165 29.72804, -95.00074 29.7...  \n",
      "3    LINESTRING (-95.02009 29.73222, -95.01412 29.7...  \n",
      "4    LINESTRING (-95.02666 29.73234, -95.01723 29.7...  \n",
      "..                                                 ...  \n",
      "175  LINESTRING (-95.05723 29.79366, -95.05768 29.7...  \n",
      "176  LINESTRING (-95.07947 29.76344, -95.09032 29.7...  \n",
      "177  LINESTRING (-95.01257 29.62998, -95.12731 29.6...  \n",
      "178  LINESTRING (-94.93750 29.69123, -94.93185 29.6...  \n",
      "179  LINESTRING (-95.07071 29.81252, -95.07103 29.8...  \n",
      "\n",
      "[180 rows x 41 columns]\n"
     ]
    }
   ],
   "source": [
    "df_S_CST_TSCT_LN = gpd.read_file(url_S_CST_TSCT_LN)\n",
    "print(type(df_S_CST_TSCT_LN))\n",
    "print(df_S_CST_TSCT_LN)"
   ]
  },
  {
   "cell_type": "code",
   "execution_count": 13,
   "id": "7cd14fb9",
   "metadata": {
    "iooxa": {
     "id": {
      "block": "aqN2a1qo77dmf5Wvzp0H",
      "project": "0y7RFnL8NkCdaXBu8Iog",
      "version": 1
     },
     "outputId": {
      "block": "Ya1E76n9b8FKTa9peYDj",
      "project": "0y7RFnL8NkCdaXBu8Iog",
      "version": 1
     }
    }
   },
   "outputs": [
    {
     "data": {
      "text/html": [
       "<div>\n",
       "<style scoped>\n",
       "    .dataframe tbody tr th:only-of-type {\n",
       "        vertical-align: middle;\n",
       "    }\n",
       "\n",
       "    .dataframe tbody tr th {\n",
       "        vertical-align: top;\n",
       "    }\n",
       "\n",
       "    .dataframe thead th {\n",
       "        text-align: right;\n",
       "    }\n",
       "</style>\n",
       "<table border=\"1\" class=\"dataframe\">\n",
       "  <thead>\n",
       "    <tr style=\"text-align: right;\">\n",
       "      <th></th>\n",
       "      <th>DFIRM_ID</th>\n",
       "      <th>VERSION_ID</th>\n",
       "      <th>TRAN_LN_ID</th>\n",
       "      <th>TBASELN_ID</th>\n",
       "      <th>TRAN_NO</th>\n",
       "      <th>METHOD</th>\n",
       "      <th>XCOORD</th>\n",
       "      <th>YCOORD</th>\n",
       "      <th>WTR_NM</th>\n",
       "      <th>V_DATUM</th>\n",
       "      <th>...</th>\n",
       "      <th>OVERTOP_TF</th>\n",
       "      <th>BW_HGT_TF</th>\n",
       "      <th>HVFLOW_TF</th>\n",
       "      <th>VZONE_EXT</th>\n",
       "      <th>SETUP_DPTH</th>\n",
       "      <th>WAVE_02PCT</th>\n",
       "      <th>LEN_UNIT</th>\n",
       "      <th>TIME_UNIT</th>\n",
       "      <th>SOURCE_CIT</th>\n",
       "      <th>geometry</th>\n",
       "    </tr>\n",
       "  </thead>\n",
       "  <tbody>\n",
       "    <tr>\n",
       "      <th>0</th>\n",
       "      <td>48201C</td>\n",
       "      <td>1.1.1.0</td>\n",
       "      <td>48201C_104</td>\n",
       "      <td>NP</td>\n",
       "      <td>102</td>\n",
       "      <td>None</td>\n",
       "      <td>-8888.0</td>\n",
       "      <td>-8888.0</td>\n",
       "      <td>NP</td>\n",
       "      <td>NP</td>\n",
       "      <td>...</td>\n",
       "      <td>U</td>\n",
       "      <td>U</td>\n",
       "      <td>U</td>\n",
       "      <td>None</td>\n",
       "      <td>-9999.0</td>\n",
       "      <td>U</td>\n",
       "      <td>None</td>\n",
       "      <td>None</td>\n",
       "      <td>48201C_STUDY1</td>\n",
       "      <td>LINESTRING (-95.00692 29.72163, -95.00863 29.7...</td>\n",
       "    </tr>\n",
       "    <tr>\n",
       "      <th>1</th>\n",
       "      <td>48201C</td>\n",
       "      <td>1.1.1.0</td>\n",
       "      <td>48201C_105</td>\n",
       "      <td>NP</td>\n",
       "      <td>101</td>\n",
       "      <td>None</td>\n",
       "      <td>-8888.0</td>\n",
       "      <td>-8888.0</td>\n",
       "      <td>NP</td>\n",
       "      <td>NP</td>\n",
       "      <td>...</td>\n",
       "      <td>U</td>\n",
       "      <td>U</td>\n",
       "      <td>U</td>\n",
       "      <td>None</td>\n",
       "      <td>-9999.0</td>\n",
       "      <td>U</td>\n",
       "      <td>None</td>\n",
       "      <td>None</td>\n",
       "      <td>48201C_STUDY1</td>\n",
       "      <td>LINESTRING (-95.00248 29.71899, -95.00229 29.7...</td>\n",
       "    </tr>\n",
       "    <tr>\n",
       "      <th>2</th>\n",
       "      <td>48201C</td>\n",
       "      <td>1.1.1.0</td>\n",
       "      <td>48201C_106</td>\n",
       "      <td>NP</td>\n",
       "      <td>104</td>\n",
       "      <td>None</td>\n",
       "      <td>-8888.0</td>\n",
       "      <td>-8888.0</td>\n",
       "      <td>NP</td>\n",
       "      <td>NP</td>\n",
       "      <td>...</td>\n",
       "      <td>U</td>\n",
       "      <td>U</td>\n",
       "      <td>U</td>\n",
       "      <td>None</td>\n",
       "      <td>-9999.0</td>\n",
       "      <td>U</td>\n",
       "      <td>None</td>\n",
       "      <td>None</td>\n",
       "      <td>48201C_STUDY1</td>\n",
       "      <td>LINESTRING (-95.02165 29.72804, -95.00074 29.7...</td>\n",
       "    </tr>\n",
       "    <tr>\n",
       "      <th>3</th>\n",
       "      <td>48201C</td>\n",
       "      <td>1.1.1.0</td>\n",
       "      <td>48201C_107</td>\n",
       "      <td>NP</td>\n",
       "      <td>105</td>\n",
       "      <td>None</td>\n",
       "      <td>-8888.0</td>\n",
       "      <td>-8888.0</td>\n",
       "      <td>NP</td>\n",
       "      <td>NP</td>\n",
       "      <td>...</td>\n",
       "      <td>U</td>\n",
       "      <td>U</td>\n",
       "      <td>U</td>\n",
       "      <td>None</td>\n",
       "      <td>-9999.0</td>\n",
       "      <td>U</td>\n",
       "      <td>None</td>\n",
       "      <td>None</td>\n",
       "      <td>48201C_STUDY1</td>\n",
       "      <td>LINESTRING (-95.02009 29.73222, -95.01412 29.7...</td>\n",
       "    </tr>\n",
       "    <tr>\n",
       "      <th>4</th>\n",
       "      <td>48201C</td>\n",
       "      <td>1.1.1.0</td>\n",
       "      <td>48201C_108</td>\n",
       "      <td>NP</td>\n",
       "      <td>106</td>\n",
       "      <td>None</td>\n",
       "      <td>-8888.0</td>\n",
       "      <td>-8888.0</td>\n",
       "      <td>NP</td>\n",
       "      <td>NP</td>\n",
       "      <td>...</td>\n",
       "      <td>U</td>\n",
       "      <td>U</td>\n",
       "      <td>U</td>\n",
       "      <td>None</td>\n",
       "      <td>-9999.0</td>\n",
       "      <td>U</td>\n",
       "      <td>None</td>\n",
       "      <td>None</td>\n",
       "      <td>48201C_STUDY1</td>\n",
       "      <td>LINESTRING (-95.02666 29.73234, -95.01723 29.7...</td>\n",
       "    </tr>\n",
       "    <tr>\n",
       "      <th>...</th>\n",
       "      <td>...</td>\n",
       "      <td>...</td>\n",
       "      <td>...</td>\n",
       "      <td>...</td>\n",
       "      <td>...</td>\n",
       "      <td>...</td>\n",
       "      <td>...</td>\n",
       "      <td>...</td>\n",
       "      <td>...</td>\n",
       "      <td>...</td>\n",
       "      <td>...</td>\n",
       "      <td>...</td>\n",
       "      <td>...</td>\n",
       "      <td>...</td>\n",
       "      <td>...</td>\n",
       "      <td>...</td>\n",
       "      <td>...</td>\n",
       "      <td>...</td>\n",
       "      <td>...</td>\n",
       "      <td>...</td>\n",
       "      <td>...</td>\n",
       "    </tr>\n",
       "    <tr>\n",
       "      <th>175</th>\n",
       "      <td>48201C</td>\n",
       "      <td>1.1.1.0</td>\n",
       "      <td>48201C_256</td>\n",
       "      <td>NP</td>\n",
       "      <td>138</td>\n",
       "      <td>None</td>\n",
       "      <td>-8888.0</td>\n",
       "      <td>-8888.0</td>\n",
       "      <td>NP</td>\n",
       "      <td>NP</td>\n",
       "      <td>...</td>\n",
       "      <td>U</td>\n",
       "      <td>U</td>\n",
       "      <td>U</td>\n",
       "      <td>None</td>\n",
       "      <td>-9999.0</td>\n",
       "      <td>U</td>\n",
       "      <td>None</td>\n",
       "      <td>None</td>\n",
       "      <td>48201C_STUDY1</td>\n",
       "      <td>LINESTRING (-95.05723 29.79366, -95.05768 29.7...</td>\n",
       "    </tr>\n",
       "    <tr>\n",
       "      <th>176</th>\n",
       "      <td>48201C</td>\n",
       "      <td>1.1.1.0</td>\n",
       "      <td>48201C_257</td>\n",
       "      <td>NP</td>\n",
       "      <td>166</td>\n",
       "      <td>None</td>\n",
       "      <td>-8888.0</td>\n",
       "      <td>-8888.0</td>\n",
       "      <td>NP</td>\n",
       "      <td>NP</td>\n",
       "      <td>...</td>\n",
       "      <td>U</td>\n",
       "      <td>U</td>\n",
       "      <td>U</td>\n",
       "      <td>None</td>\n",
       "      <td>-9999.0</td>\n",
       "      <td>U</td>\n",
       "      <td>None</td>\n",
       "      <td>None</td>\n",
       "      <td>48201C_STUDY1</td>\n",
       "      <td>LINESTRING (-95.07947 29.76344, -95.09032 29.7...</td>\n",
       "    </tr>\n",
       "    <tr>\n",
       "      <th>177</th>\n",
       "      <td>48201C</td>\n",
       "      <td>1.1.1.0</td>\n",
       "      <td>48201C_258</td>\n",
       "      <td>NP</td>\n",
       "      <td>60</td>\n",
       "      <td>None</td>\n",
       "      <td>-8888.0</td>\n",
       "      <td>-8888.0</td>\n",
       "      <td>NP</td>\n",
       "      <td>NP</td>\n",
       "      <td>...</td>\n",
       "      <td>U</td>\n",
       "      <td>U</td>\n",
       "      <td>U</td>\n",
       "      <td>None</td>\n",
       "      <td>-9999.0</td>\n",
       "      <td>U</td>\n",
       "      <td>None</td>\n",
       "      <td>None</td>\n",
       "      <td>48201C_STUDY1</td>\n",
       "      <td>LINESTRING (-95.01257 29.62998, -95.12731 29.6...</td>\n",
       "    </tr>\n",
       "    <tr>\n",
       "      <th>178</th>\n",
       "      <td>48201C</td>\n",
       "      <td>1.1.1.0</td>\n",
       "      <td>48201C_259</td>\n",
       "      <td>NP</td>\n",
       "      <td>85</td>\n",
       "      <td>None</td>\n",
       "      <td>-8888.0</td>\n",
       "      <td>-8888.0</td>\n",
       "      <td>NP</td>\n",
       "      <td>NP</td>\n",
       "      <td>...</td>\n",
       "      <td>U</td>\n",
       "      <td>U</td>\n",
       "      <td>U</td>\n",
       "      <td>None</td>\n",
       "      <td>-9999.0</td>\n",
       "      <td>U</td>\n",
       "      <td>None</td>\n",
       "      <td>None</td>\n",
       "      <td>48201C_STUDY1</td>\n",
       "      <td>LINESTRING (-94.93750 29.69123, -94.93185 29.6...</td>\n",
       "    </tr>\n",
       "    <tr>\n",
       "      <th>179</th>\n",
       "      <td>48201C</td>\n",
       "      <td>1.1.1.0</td>\n",
       "      <td>48201C_260</td>\n",
       "      <td>NP</td>\n",
       "      <td>145</td>\n",
       "      <td>None</td>\n",
       "      <td>-8888.0</td>\n",
       "      <td>-8888.0</td>\n",
       "      <td>NP</td>\n",
       "      <td>NP</td>\n",
       "      <td>...</td>\n",
       "      <td>U</td>\n",
       "      <td>U</td>\n",
       "      <td>U</td>\n",
       "      <td>None</td>\n",
       "      <td>-9999.0</td>\n",
       "      <td>U</td>\n",
       "      <td>None</td>\n",
       "      <td>None</td>\n",
       "      <td>48201C_STUDY1</td>\n",
       "      <td>LINESTRING (-95.07071 29.81252, -95.07103 29.8...</td>\n",
       "    </tr>\n",
       "  </tbody>\n",
       "</table>\n",
       "<p>180 rows × 41 columns</p>\n",
       "</div>"
      ],
      "text/plain": [
       "    DFIRM_ID VERSION_ID  TRAN_LN_ID TBASELN_ID TRAN_NO METHOD  XCOORD  YCOORD  \\\n",
       "0     48201C    1.1.1.0  48201C_104         NP     102   None -8888.0 -8888.0   \n",
       "1     48201C    1.1.1.0  48201C_105         NP     101   None -8888.0 -8888.0   \n",
       "2     48201C    1.1.1.0  48201C_106         NP     104   None -8888.0 -8888.0   \n",
       "3     48201C    1.1.1.0  48201C_107         NP     105   None -8888.0 -8888.0   \n",
       "4     48201C    1.1.1.0  48201C_108         NP     106   None -8888.0 -8888.0   \n",
       "..       ...        ...         ...        ...     ...    ...     ...     ...   \n",
       "175   48201C    1.1.1.0  48201C_256         NP     138   None -8888.0 -8888.0   \n",
       "176   48201C    1.1.1.0  48201C_257         NP     166   None -8888.0 -8888.0   \n",
       "177   48201C    1.1.1.0  48201C_258         NP      60   None -8888.0 -8888.0   \n",
       "178   48201C    1.1.1.0  48201C_259         NP      85   None -8888.0 -8888.0   \n",
       "179   48201C    1.1.1.0  48201C_260         NP     145   None -8888.0 -8888.0   \n",
       "\n",
       "    WTR_NM V_DATUM  ...  OVERTOP_TF BW_HGT_TF HVFLOW_TF VZONE_EXT SETUP_DPTH  \\\n",
       "0       NP      NP  ...           U         U         U      None    -9999.0   \n",
       "1       NP      NP  ...           U         U         U      None    -9999.0   \n",
       "2       NP      NP  ...           U         U         U      None    -9999.0   \n",
       "3       NP      NP  ...           U         U         U      None    -9999.0   \n",
       "4       NP      NP  ...           U         U         U      None    -9999.0   \n",
       "..     ...     ...  ...         ...       ...       ...       ...        ...   \n",
       "175     NP      NP  ...           U         U         U      None    -9999.0   \n",
       "176     NP      NP  ...           U         U         U      None    -9999.0   \n",
       "177     NP      NP  ...           U         U         U      None    -9999.0   \n",
       "178     NP      NP  ...           U         U         U      None    -9999.0   \n",
       "179     NP      NP  ...           U         U         U      None    -9999.0   \n",
       "\n",
       "    WAVE_02PCT  LEN_UNIT  TIME_UNIT     SOURCE_CIT  \\\n",
       "0            U      None       None  48201C_STUDY1   \n",
       "1            U      None       None  48201C_STUDY1   \n",
       "2            U      None       None  48201C_STUDY1   \n",
       "3            U      None       None  48201C_STUDY1   \n",
       "4            U      None       None  48201C_STUDY1   \n",
       "..         ...       ...        ...            ...   \n",
       "175          U      None       None  48201C_STUDY1   \n",
       "176          U      None       None  48201C_STUDY1   \n",
       "177          U      None       None  48201C_STUDY1   \n",
       "178          U      None       None  48201C_STUDY1   \n",
       "179          U      None       None  48201C_STUDY1   \n",
       "\n",
       "                                              geometry  \n",
       "0    LINESTRING (-95.00692 29.72163, -95.00863 29.7...  \n",
       "1    LINESTRING (-95.00248 29.71899, -95.00229 29.7...  \n",
       "2    LINESTRING (-95.02165 29.72804, -95.00074 29.7...  \n",
       "3    LINESTRING (-95.02009 29.73222, -95.01412 29.7...  \n",
       "4    LINESTRING (-95.02666 29.73234, -95.01723 29.7...  \n",
       "..                                                 ...  \n",
       "175  LINESTRING (-95.05723 29.79366, -95.05768 29.7...  \n",
       "176  LINESTRING (-95.07947 29.76344, -95.09032 29.7...  \n",
       "177  LINESTRING (-95.01257 29.62998, -95.12731 29.6...  \n",
       "178  LINESTRING (-94.93750 29.69123, -94.93185 29.6...  \n",
       "179  LINESTRING (-95.07071 29.81252, -95.07103 29.8...  \n",
       "\n",
       "[180 rows x 41 columns]"
      ]
     },
     "execution_count": 13,
     "metadata": {},
     "output_type": "execute_result"
    }
   ],
   "source": [
    "df_S_CST_TSCT_LN"
   ]
  },
  {
   "cell_type": "code",
   "execution_count": 14,
   "id": "90f78f8f",
   "metadata": {
    "iooxa": {
     "id": {
      "block": "RsTaC1dJLznYyzojTOS9",
      "project": "0y7RFnL8NkCdaXBu8Iog",
      "version": 1
     },
     "outputId": {
      "block": "dAOlvFxYEIeshJvfL5T7",
      "project": "0y7RFnL8NkCdaXBu8Iog",
      "version": 1
     }
    }
   },
   "outputs": [
    {
     "data": {
      "text/plain": [
       "<Geographic 2D CRS: EPSG:4269>\n",
       "Name: NAD83\n",
       "Axis Info [ellipsoidal]:\n",
       "- Lat[north]: Geodetic latitude (degree)\n",
       "- Lon[east]: Geodetic longitude (degree)\n",
       "Area of Use:\n",
       "- name: North America - onshore and offshore: Canada - Alberta; British Columbia; Manitoba; New Brunswick; Newfoundland and Labrador; Northwest Territories; Nova Scotia; Nunavut; Ontario; Prince Edward Island; Quebec; Saskatchewan; Yukon. Puerto Rico. United States (USA) - Alabama; Alaska; Arizona; Arkansas; California; Colorado; Connecticut; Delaware; Florida; Georgia; Hawaii; Idaho; Illinois; Indiana; Iowa; Kansas; Kentucky; Louisiana; Maine; Maryland; Massachusetts; Michigan; Minnesota; Mississippi; Missouri; Montana; Nebraska; Nevada; New Hampshire; New Jersey; New Mexico; New York; North Carolina; North Dakota; Ohio; Oklahoma; Oregon; Pennsylvania; Rhode Island; South Carolina; South Dakota; Tennessee; Texas; Utah; Vermont; Virginia; Washington; West Virginia; Wisconsin; Wyoming. US Virgin Islands. British Virgin Islands.\n",
       "- bounds: (167.65, 14.92, -40.73, 86.45)\n",
       "Datum: North American Datum 1983\n",
       "- Ellipsoid: GRS 1980\n",
       "- Prime Meridian: Greenwich"
      ]
     },
     "execution_count": 14,
     "metadata": {},
     "output_type": "execute_result"
    }
   ],
   "source": [
    "df_S_CST_TSCT_LN.crs"
   ]
  },
  {
   "cell_type": "code",
   "execution_count": 15,
   "id": "4c11a5ec",
   "metadata": {
    "iooxa": {
     "id": {
      "block": "ylZXm6ZDMUX6kyjIYIfR",
      "project": "0y7RFnL8NkCdaXBu8Iog",
      "version": 1
     },
     "outputId": null
    }
   },
   "outputs": [],
   "source": [
    "from ipyleaflet import *\n",
    "import random"
   ]
  },
  {
   "cell_type": "code",
   "execution_count": 16,
   "id": "a28d6229",
   "metadata": {
    "iooxa": {
     "id": {
      "block": "mSfkArC9uO1qCCWStCgT",
      "project": "0y7RFnL8NkCdaXBu8Iog",
      "version": 1
     },
     "outputId": {
      "block": "DdifPbHxaNMyr6noFfRl",
      "project": "0y7RFnL8NkCdaXBu8Iog",
      "version": 1
     }
    }
   },
   "outputs": [
    {
     "data": {
      "application/vnd.jupyter.widget-view+json": {
       "model_id": "071fb471349b439182838af941dcbda8",
       "version_major": 2,
       "version_minor": 0
      },
      "text/plain": [
       "Map(center=[29.7604, -95.498], controls=(ZoomControl(options=['position', 'zoom_in_text', 'zoom_in_title', 'zo…"
      ]
     },
     "metadata": {},
     "output_type": "display_data"
    }
   ],
   "source": [
    "center = (29.7604, -95.498)\n",
    "\n",
    "m2 = Map(center=center, zoom=13)\n",
    "\n",
    "marker = Marker(location=center, draggable=True)\n",
    "m2.add_layer(marker);\n",
    "\n",
    "\n",
    "def random_color(feature):\n",
    "    return {\n",
    "        'color': 'black',\n",
    "        'fillColor': random.choice(['red', 'yellow', 'green', 'orange']),\n",
    "    }\n",
    "\n",
    "riverGeoData = GeoData(geo_dataframe = df_S_CST_TSCT_LN)\n",
    "\n",
    "m2.add_layer(riverGeoData)\n",
    "\n",
    "\n",
    "display(m2)\n",
    "\n",
    "# Now that the marker is on the Map, you can drag it with your mouse,\n",
    "# it will automatically update the `marker.location` attribute in Python\n",
    "\n",
    "# You can also update the marker location from Python, that will update the\n",
    "# marker location on the Map:\n",
    "marker.location = (50, 356)"
   ]
  },
  {
   "cell_type": "code",
   "execution_count": null,
   "id": "3314c94d",
   "metadata": {},
   "outputs": [],
   "source": []
  },
  {
   "cell_type": "code",
   "execution_count": 17,
   "id": "0561cb09",
   "metadata": {
    "iooxa": {
     "id": {
      "block": "umfuFWNMVPR3DLiLDHi6",
      "project": "0y7RFnL8NkCdaXBu8Iog",
      "version": 1
     },
     "outputId": null
    }
   },
   "outputs": [],
   "source": [
    "df_S_FIRM_PAN = gpd.read_file(url_S_FIRM_PAN)"
   ]
  },
  {
   "cell_type": "code",
   "execution_count": 18,
   "id": "f83001d9",
   "metadata": {
    "iooxa": {
     "id": {
      "block": "N0PZaiwAHPO0Fym77Fiq",
      "project": "0y7RFnL8NkCdaXBu8Iog",
      "version": 1
     },
     "outputId": {
      "block": "EgeBPsDpnpL4YUpmzDdz",
      "project": "0y7RFnL8NkCdaXBu8Iog",
      "version": 1
     }
    }
   },
   "outputs": [
    {
     "data": {
      "text/html": [
       "<div>\n",
       "<style scoped>\n",
       "    .dataframe tbody tr th:only-of-type {\n",
       "        vertical-align: middle;\n",
       "    }\n",
       "\n",
       "    .dataframe tbody tr th {\n",
       "        vertical-align: top;\n",
       "    }\n",
       "\n",
       "    .dataframe thead th {\n",
       "        text-align: right;\n",
       "    }\n",
       "</style>\n",
       "<table border=\"1\" class=\"dataframe\">\n",
       "  <thead>\n",
       "    <tr style=\"text-align: right;\">\n",
       "      <th></th>\n",
       "      <th>DFIRM_ID</th>\n",
       "      <th>VERSION_ID</th>\n",
       "      <th>FIRM_ID</th>\n",
       "      <th>ST_FIPS</th>\n",
       "      <th>PCOMM</th>\n",
       "      <th>PANEL</th>\n",
       "      <th>SUFFIX</th>\n",
       "      <th>FIRM_PAN</th>\n",
       "      <th>PANEL_TYP</th>\n",
       "      <th>PRE_DATE</th>\n",
       "      <th>EFF_DATE</th>\n",
       "      <th>SCALE</th>\n",
       "      <th>PNP_REASON</th>\n",
       "      <th>BASE_TYP</th>\n",
       "      <th>SOURCE_CIT</th>\n",
       "      <th>geometry</th>\n",
       "    </tr>\n",
       "  </thead>\n",
       "  <tbody>\n",
       "    <tr>\n",
       "      <th>0</th>\n",
       "      <td>48201C</td>\n",
       "      <td>1.1.1.0</td>\n",
       "      <td>48201C_105</td>\n",
       "      <td>48</td>\n",
       "      <td>201C</td>\n",
       "      <td>0280</td>\n",
       "      <td>L</td>\n",
       "      <td>48201C0280L</td>\n",
       "      <td>Countywide, Panel Printed</td>\n",
       "      <td>9999-09-09</td>\n",
       "      <td>2007-06-18</td>\n",
       "      <td>12000</td>\n",
       "      <td>None</td>\n",
       "      <td>NP</td>\n",
       "      <td>48201C_FIRM4</td>\n",
       "      <td>POLYGON ((-95.37500 30.12500, -95.31250 30.125...</td>\n",
       "    </tr>\n",
       "    <tr>\n",
       "      <th>1</th>\n",
       "      <td>48201C</td>\n",
       "      <td>1.1.1.0</td>\n",
       "      <td>48201C_106</td>\n",
       "      <td>48</td>\n",
       "      <td>201C</td>\n",
       "      <td>0285</td>\n",
       "      <td>L</td>\n",
       "      <td>48201C0285L</td>\n",
       "      <td>Countywide, Not Printed</td>\n",
       "      <td>9999-09-09</td>\n",
       "      <td>2007-06-18</td>\n",
       "      <td>12000</td>\n",
       "      <td>NO SPECIAL FLOOD HAZARD AREAS</td>\n",
       "      <td>NP</td>\n",
       "      <td>48201C_FIRM4</td>\n",
       "      <td>POLYGON ((-95.31250 30.12501, -95.25000 30.125...</td>\n",
       "    </tr>\n",
       "    <tr>\n",
       "      <th>2</th>\n",
       "      <td>48201C</td>\n",
       "      <td>1.1.1.0</td>\n",
       "      <td>48201C_107</td>\n",
       "      <td>48</td>\n",
       "      <td>201C</td>\n",
       "      <td>0305</td>\n",
       "      <td>L</td>\n",
       "      <td>48201C0305L</td>\n",
       "      <td>Countywide, Panel Printed</td>\n",
       "      <td>9999-09-09</td>\n",
       "      <td>2007-06-18</td>\n",
       "      <td>12000</td>\n",
       "      <td>None</td>\n",
       "      <td>NP</td>\n",
       "      <td>48201C_FIRM4</td>\n",
       "      <td>POLYGON ((-95.18750 30.12501, -95.18750 30.062...</td>\n",
       "    </tr>\n",
       "    <tr>\n",
       "      <th>3</th>\n",
       "      <td>48201C</td>\n",
       "      <td>1.1.1.0</td>\n",
       "      <td>48201C_108</td>\n",
       "      <td>48</td>\n",
       "      <td>201C</td>\n",
       "      <td>0310</td>\n",
       "      <td>L</td>\n",
       "      <td>48201C0310L</td>\n",
       "      <td>Countywide, Panel Printed</td>\n",
       "      <td>9999-09-09</td>\n",
       "      <td>2007-06-18</td>\n",
       "      <td>12000</td>\n",
       "      <td>None</td>\n",
       "      <td>NP</td>\n",
       "      <td>48201C_FIRM4</td>\n",
       "      <td>POLYGON ((-95.12500 30.12500, -95.12500 30.062...</td>\n",
       "    </tr>\n",
       "    <tr>\n",
       "      <th>4</th>\n",
       "      <td>48201C</td>\n",
       "      <td>1.1.1.0</td>\n",
       "      <td>48201C_109</td>\n",
       "      <td>48</td>\n",
       "      <td>201C</td>\n",
       "      <td>0330</td>\n",
       "      <td>L</td>\n",
       "      <td>48201C0330L</td>\n",
       "      <td>Countywide, Panel Printed</td>\n",
       "      <td>9999-09-09</td>\n",
       "      <td>2007-06-18</td>\n",
       "      <td>12000</td>\n",
       "      <td>None</td>\n",
       "      <td>NP</td>\n",
       "      <td>48201C_FIRM4</td>\n",
       "      <td>POLYGON ((-95.06250 30.12501, -95.06250 30.062...</td>\n",
       "    </tr>\n",
       "    <tr>\n",
       "      <th>...</th>\n",
       "      <td>...</td>\n",
       "      <td>...</td>\n",
       "      <td>...</td>\n",
       "      <td>...</td>\n",
       "      <td>...</td>\n",
       "      <td>...</td>\n",
       "      <td>...</td>\n",
       "      <td>...</td>\n",
       "      <td>...</td>\n",
       "      <td>...</td>\n",
       "      <td>...</td>\n",
       "      <td>...</td>\n",
       "      <td>...</td>\n",
       "      <td>...</td>\n",
       "      <td>...</td>\n",
       "      <td>...</td>\n",
       "    </tr>\n",
       "    <tr>\n",
       "      <th>156</th>\n",
       "      <td>48201C</td>\n",
       "      <td>1.1.1.0</td>\n",
       "      <td>48201C_237</td>\n",
       "      <td>48</td>\n",
       "      <td>201C</td>\n",
       "      <td>1065</td>\n",
       "      <td>M</td>\n",
       "      <td>48201C1065M</td>\n",
       "      <td>Countywide, Panel Printed</td>\n",
       "      <td>9999-09-09</td>\n",
       "      <td>2017-01-06</td>\n",
       "      <td>12000</td>\n",
       "      <td>None</td>\n",
       "      <td>NP</td>\n",
       "      <td>48201C_FIRM4</td>\n",
       "      <td>POLYGON ((-95.18750 29.56251, -95.18750 29.500...</td>\n",
       "    </tr>\n",
       "    <tr>\n",
       "      <th>157</th>\n",
       "      <td>48201C</td>\n",
       "      <td>1.1.1.0</td>\n",
       "      <td>48201C_238</td>\n",
       "      <td>48</td>\n",
       "      <td>201C</td>\n",
       "      <td>1070</td>\n",
       "      <td>M</td>\n",
       "      <td>48201C1070M</td>\n",
       "      <td>Countywide, Panel Printed</td>\n",
       "      <td>9999-09-09</td>\n",
       "      <td>2017-01-06</td>\n",
       "      <td>12000</td>\n",
       "      <td>None</td>\n",
       "      <td>NP</td>\n",
       "      <td>48201C_FIRM4</td>\n",
       "      <td>POLYGON ((-95.12500 29.56250, -95.12500 29.500...</td>\n",
       "    </tr>\n",
       "    <tr>\n",
       "      <th>158</th>\n",
       "      <td>48201C</td>\n",
       "      <td>1.1.1.0</td>\n",
       "      <td>48201C_239</td>\n",
       "      <td>48</td>\n",
       "      <td>201C</td>\n",
       "      <td>1090</td>\n",
       "      <td>M</td>\n",
       "      <td>48201C1090M</td>\n",
       "      <td>Countywide, Panel Printed</td>\n",
       "      <td>9999-09-09</td>\n",
       "      <td>2017-01-06</td>\n",
       "      <td>12000</td>\n",
       "      <td>None</td>\n",
       "      <td>NP</td>\n",
       "      <td>48201C_FIRM4</td>\n",
       "      <td>POLYGON ((-95.06250 29.56251, -95.06250 29.500...</td>\n",
       "    </tr>\n",
       "    <tr>\n",
       "      <th>159</th>\n",
       "      <td>48201C</td>\n",
       "      <td>1.1.1.0</td>\n",
       "      <td>48201C_240</td>\n",
       "      <td>48</td>\n",
       "      <td>201C</td>\n",
       "      <td>1095</td>\n",
       "      <td>M</td>\n",
       "      <td>48201C1095M</td>\n",
       "      <td>Countywide, Panel Printed</td>\n",
       "      <td>9999-09-09</td>\n",
       "      <td>2017-01-06</td>\n",
       "      <td>12000</td>\n",
       "      <td>None</td>\n",
       "      <td>NP</td>\n",
       "      <td>48201C_FIRM4</td>\n",
       "      <td>POLYGON ((-95.00000 29.56250, -95.00000 29.500...</td>\n",
       "    </tr>\n",
       "    <tr>\n",
       "      <th>160</th>\n",
       "      <td>48201C</td>\n",
       "      <td>1.1.1.0</td>\n",
       "      <td>48201C_241</td>\n",
       "      <td>48</td>\n",
       "      <td>201C</td>\n",
       "      <td>1150</td>\n",
       "      <td>M</td>\n",
       "      <td>48201C1150M</td>\n",
       "      <td>Countywide, Not Printed</td>\n",
       "      <td>9999-09-09</td>\n",
       "      <td>2017-01-06</td>\n",
       "      <td>24000</td>\n",
       "      <td>AREA ALL WITHIN ZONE AE (EL 18)</td>\n",
       "      <td>NP</td>\n",
       "      <td>48201C_FIRM4</td>\n",
       "      <td>POLYGON ((-95.18750 29.50001, -95.12500 29.500...</td>\n",
       "    </tr>\n",
       "  </tbody>\n",
       "</table>\n",
       "<p>161 rows × 16 columns</p>\n",
       "</div>"
      ],
      "text/plain": [
       "    DFIRM_ID VERSION_ID     FIRM_ID ST_FIPS PCOMM PANEL SUFFIX     FIRM_PAN  \\\n",
       "0     48201C    1.1.1.0  48201C_105      48  201C  0280      L  48201C0280L   \n",
       "1     48201C    1.1.1.0  48201C_106      48  201C  0285      L  48201C0285L   \n",
       "2     48201C    1.1.1.0  48201C_107      48  201C  0305      L  48201C0305L   \n",
       "3     48201C    1.1.1.0  48201C_108      48  201C  0310      L  48201C0310L   \n",
       "4     48201C    1.1.1.0  48201C_109      48  201C  0330      L  48201C0330L   \n",
       "..       ...        ...         ...     ...   ...   ...    ...          ...   \n",
       "156   48201C    1.1.1.0  48201C_237      48  201C  1065      M  48201C1065M   \n",
       "157   48201C    1.1.1.0  48201C_238      48  201C  1070      M  48201C1070M   \n",
       "158   48201C    1.1.1.0  48201C_239      48  201C  1090      M  48201C1090M   \n",
       "159   48201C    1.1.1.0  48201C_240      48  201C  1095      M  48201C1095M   \n",
       "160   48201C    1.1.1.0  48201C_241      48  201C  1150      M  48201C1150M   \n",
       "\n",
       "                     PANEL_TYP    PRE_DATE    EFF_DATE  SCALE  \\\n",
       "0    Countywide, Panel Printed  9999-09-09  2007-06-18  12000   \n",
       "1      Countywide, Not Printed  9999-09-09  2007-06-18  12000   \n",
       "2    Countywide, Panel Printed  9999-09-09  2007-06-18  12000   \n",
       "3    Countywide, Panel Printed  9999-09-09  2007-06-18  12000   \n",
       "4    Countywide, Panel Printed  9999-09-09  2007-06-18  12000   \n",
       "..                         ...         ...         ...    ...   \n",
       "156  Countywide, Panel Printed  9999-09-09  2017-01-06  12000   \n",
       "157  Countywide, Panel Printed  9999-09-09  2017-01-06  12000   \n",
       "158  Countywide, Panel Printed  9999-09-09  2017-01-06  12000   \n",
       "159  Countywide, Panel Printed  9999-09-09  2017-01-06  12000   \n",
       "160    Countywide, Not Printed  9999-09-09  2017-01-06  24000   \n",
       "\n",
       "                          PNP_REASON BASE_TYP    SOURCE_CIT  \\\n",
       "0                               None       NP  48201C_FIRM4   \n",
       "1      NO SPECIAL FLOOD HAZARD AREAS       NP  48201C_FIRM4   \n",
       "2                               None       NP  48201C_FIRM4   \n",
       "3                               None       NP  48201C_FIRM4   \n",
       "4                               None       NP  48201C_FIRM4   \n",
       "..                               ...      ...           ...   \n",
       "156                             None       NP  48201C_FIRM4   \n",
       "157                             None       NP  48201C_FIRM4   \n",
       "158                             None       NP  48201C_FIRM4   \n",
       "159                             None       NP  48201C_FIRM4   \n",
       "160  AREA ALL WITHIN ZONE AE (EL 18)       NP  48201C_FIRM4   \n",
       "\n",
       "                                              geometry  \n",
       "0    POLYGON ((-95.37500 30.12500, -95.31250 30.125...  \n",
       "1    POLYGON ((-95.31250 30.12501, -95.25000 30.125...  \n",
       "2    POLYGON ((-95.18750 30.12501, -95.18750 30.062...  \n",
       "3    POLYGON ((-95.12500 30.12500, -95.12500 30.062...  \n",
       "4    POLYGON ((-95.06250 30.12501, -95.06250 30.062...  \n",
       "..                                                 ...  \n",
       "156  POLYGON ((-95.18750 29.56251, -95.18750 29.500...  \n",
       "157  POLYGON ((-95.12500 29.56250, -95.12500 29.500...  \n",
       "158  POLYGON ((-95.06250 29.56251, -95.06250 29.500...  \n",
       "159  POLYGON ((-95.00000 29.56250, -95.00000 29.500...  \n",
       "160  POLYGON ((-95.18750 29.50001, -95.12500 29.500...  \n",
       "\n",
       "[161 rows x 16 columns]"
      ]
     },
     "execution_count": 18,
     "metadata": {},
     "output_type": "execute_result"
    }
   ],
   "source": [
    "df_S_FIRM_PAN"
   ]
  },
  {
   "cell_type": "code",
   "execution_count": 19,
   "id": "21c53143",
   "metadata": {
    "iooxa": {
     "id": {
      "block": "DmwOiNIKieFyenyKMmdJ",
      "project": "0y7RFnL8NkCdaXBu8Iog",
      "version": 1
     },
     "outputId": {
      "block": "qPeO8HtCFyEhppdVLog5",
      "project": "0y7RFnL8NkCdaXBu8Iog",
      "version": 1
     }
    }
   },
   "outputs": [
    {
     "data": {
      "application/vnd.jupyter.widget-view+json": {
       "model_id": "198c03b585fd449ebcf84ab8ef752f78",
       "version_major": 2,
       "version_minor": 0
      },
      "text/plain": [
       "Map(center=[29.7604, -95.498], controls=(ZoomControl(options=['position', 'zoom_in_text', 'zoom_in_title', 'zo…"
      ]
     },
     "metadata": {},
     "output_type": "display_data"
    }
   ],
   "source": [
    "center = (29.7604, -95.498)\n",
    "\n",
    "m3 = Map(center=center, zoom=13)\n",
    "\n",
    "marker = Marker(location=center, draggable=True)\n",
    "m3.add_layer(marker);\n",
    "\n",
    "\n",
    "def random_color(feature):\n",
    "    return {\n",
    "        'color': 'black',\n",
    "        'fillColor': random.choice(['red', 'yellow', 'green', 'orange']),\n",
    "    }\n",
    "\n",
    "riverGeoData = GeoData(geo_dataframe = df_S_FIRM_PAN)\n",
    "\n",
    "m3.add_layer(riverGeoData)\n",
    "\n",
    "\n",
    "display(m3)\n",
    "\n",
    "# Now that the marker is on the Map, you can drag it with your mouse,\n",
    "# it will automatically update the `marker.location` attribute in Python\n",
    "\n",
    "# You can also update the marker location from Python, that will update the\n",
    "# marker location on the Map:\n",
    "marker.location = (50, 356)"
   ]
  },
  {
   "cell_type": "code",
   "execution_count": null,
   "id": "b5773986",
   "metadata": {},
   "outputs": [],
   "source": []
  },
  {
   "cell_type": "markdown",
   "id": "ccdfe733",
   "metadata": {
    "iooxa": {
     "id": {
      "block": "xvlOCt6i0H7vo52b1FSZ",
      "project": "0y7RFnL8NkCdaXBu8Iog",
      "version": 1
     }
    }
   },
   "source": [
    "How about url_S_FLD_HAZ_AR"
   ]
  },
  {
   "cell_type": "code",
   "execution_count": 20,
   "id": "99e1e5a4",
   "metadata": {
    "iooxa": {
     "id": {
      "block": "XnZKIMBPeKgJXvt3KSKe",
      "project": "0y7RFnL8NkCdaXBu8Iog",
      "version": 1
     },
     "outputId": null
    }
   },
   "outputs": [],
   "source": [
    "df_S_FLD_HAZ_AR = gpd.read_file(url_S_FLD_HAZ_AR)"
   ]
  },
  {
   "cell_type": "code",
   "execution_count": 21,
   "id": "ff73938a",
   "metadata": {
    "iooxa": {
     "id": {
      "block": "VBpU4fMV0G41EQqhhf5a",
      "project": "0y7RFnL8NkCdaXBu8Iog",
      "version": 1
     },
     "outputId": {
      "block": "iW1qBaTNqKSNfBWywu2m",
      "project": "0y7RFnL8NkCdaXBu8Iog",
      "version": 1
     }
    }
   },
   "outputs": [
    {
     "data": {
      "text/html": [
       "<div>\n",
       "<style scoped>\n",
       "    .dataframe tbody tr th:only-of-type {\n",
       "        vertical-align: middle;\n",
       "    }\n",
       "\n",
       "    .dataframe tbody tr th {\n",
       "        vertical-align: top;\n",
       "    }\n",
       "\n",
       "    .dataframe thead th {\n",
       "        text-align: right;\n",
       "    }\n",
       "</style>\n",
       "<table border=\"1\" class=\"dataframe\">\n",
       "  <thead>\n",
       "    <tr style=\"text-align: right;\">\n",
       "      <th></th>\n",
       "      <th>DFIRM_ID</th>\n",
       "      <th>VERSION_ID</th>\n",
       "      <th>FLD_AR_ID</th>\n",
       "      <th>STUDY_TYP</th>\n",
       "      <th>FLD_ZONE</th>\n",
       "      <th>ZONE_SUBTY</th>\n",
       "      <th>SFHA_TF</th>\n",
       "      <th>STATIC_BFE</th>\n",
       "      <th>V_DATUM</th>\n",
       "      <th>DEPTH</th>\n",
       "      <th>LEN_UNIT</th>\n",
       "      <th>VELOCITY</th>\n",
       "      <th>VEL_UNIT</th>\n",
       "      <th>AR_REVERT</th>\n",
       "      <th>AR_SUBTRV</th>\n",
       "      <th>BFE_REVERT</th>\n",
       "      <th>DEP_REVERT</th>\n",
       "      <th>DUAL_ZONE</th>\n",
       "      <th>SOURCE_CIT</th>\n",
       "      <th>geometry</th>\n",
       "    </tr>\n",
       "  </thead>\n",
       "  <tbody>\n",
       "    <tr>\n",
       "      <th>0</th>\n",
       "      <td>48201C</td>\n",
       "      <td>1.1.1.0</td>\n",
       "      <td>48201C_1</td>\n",
       "      <td>SFHAs WITH HIGH FLOOD RISK</td>\n",
       "      <td>X</td>\n",
       "      <td>AREA OF MINIMAL FLOOD HAZARD</td>\n",
       "      <td>F</td>\n",
       "      <td>-9999.0</td>\n",
       "      <td>None</td>\n",
       "      <td>-9999.0</td>\n",
       "      <td>None</td>\n",
       "      <td>-9999.0</td>\n",
       "      <td>None</td>\n",
       "      <td>None</td>\n",
       "      <td>None</td>\n",
       "      <td>-9999.0</td>\n",
       "      <td>-9999.0</td>\n",
       "      <td>None</td>\n",
       "      <td>48201C_LOMC106</td>\n",
       "      <td>POLYGON ((-95.51752 29.94444, -95.51752 29.944...</td>\n",
       "    </tr>\n",
       "    <tr>\n",
       "      <th>1</th>\n",
       "      <td>48201C</td>\n",
       "      <td>1.1.1.0</td>\n",
       "      <td>48201C_2</td>\n",
       "      <td>SFHAs WITH HIGH FLOOD RISK</td>\n",
       "      <td>X</td>\n",
       "      <td>AREA OF MINIMAL FLOOD HAZARD</td>\n",
       "      <td>F</td>\n",
       "      <td>-9999.0</td>\n",
       "      <td>None</td>\n",
       "      <td>-9999.0</td>\n",
       "      <td>None</td>\n",
       "      <td>-9999.0</td>\n",
       "      <td>None</td>\n",
       "      <td>None</td>\n",
       "      <td>None</td>\n",
       "      <td>-9999.0</td>\n",
       "      <td>-9999.0</td>\n",
       "      <td>None</td>\n",
       "      <td>48201C_LOMC106</td>\n",
       "      <td>POLYGON ((-95.51807 29.93961, -95.51808 29.939...</td>\n",
       "    </tr>\n",
       "    <tr>\n",
       "      <th>2</th>\n",
       "      <td>48201C</td>\n",
       "      <td>1.1.1.0</td>\n",
       "      <td>48201C_3</td>\n",
       "      <td>NP</td>\n",
       "      <td>X</td>\n",
       "      <td>AREA OF MINIMAL FLOOD HAZARD</td>\n",
       "      <td>F</td>\n",
       "      <td>-9999.0</td>\n",
       "      <td>None</td>\n",
       "      <td>-9999.0</td>\n",
       "      <td>None</td>\n",
       "      <td>-9999.0</td>\n",
       "      <td>None</td>\n",
       "      <td>None</td>\n",
       "      <td>None</td>\n",
       "      <td>-9999.0</td>\n",
       "      <td>-9999.0</td>\n",
       "      <td>None</td>\n",
       "      <td>48201C_LOMC90</td>\n",
       "      <td>POLYGON ((-95.51803 30.10520, -95.52037 30.108...</td>\n",
       "    </tr>\n",
       "    <tr>\n",
       "      <th>3</th>\n",
       "      <td>48201C</td>\n",
       "      <td>1.1.1.0</td>\n",
       "      <td>48201C_4</td>\n",
       "      <td>NP</td>\n",
       "      <td>AE</td>\n",
       "      <td>None</td>\n",
       "      <td>T</td>\n",
       "      <td>-9999.0</td>\n",
       "      <td>None</td>\n",
       "      <td>-9999.0</td>\n",
       "      <td>None</td>\n",
       "      <td>-9999.0</td>\n",
       "      <td>None</td>\n",
       "      <td>None</td>\n",
       "      <td>None</td>\n",
       "      <td>-9999.0</td>\n",
       "      <td>-9999.0</td>\n",
       "      <td>None</td>\n",
       "      <td>48201C_LOMC90</td>\n",
       "      <td>POLYGON ((-95.51344 30.12135, -95.51382 30.121...</td>\n",
       "    </tr>\n",
       "    <tr>\n",
       "      <th>4</th>\n",
       "      <td>48201C</td>\n",
       "      <td>1.1.1.0</td>\n",
       "      <td>48201C_5</td>\n",
       "      <td>NP</td>\n",
       "      <td>AE</td>\n",
       "      <td>None</td>\n",
       "      <td>T</td>\n",
       "      <td>-9999.0</td>\n",
       "      <td>None</td>\n",
       "      <td>-9999.0</td>\n",
       "      <td>None</td>\n",
       "      <td>-9999.0</td>\n",
       "      <td>None</td>\n",
       "      <td>None</td>\n",
       "      <td>None</td>\n",
       "      <td>-9999.0</td>\n",
       "      <td>-9999.0</td>\n",
       "      <td>None</td>\n",
       "      <td>48201C_LOMC90</td>\n",
       "      <td>POLYGON ((-95.51416 30.12651, -95.51417 30.126...</td>\n",
       "    </tr>\n",
       "    <tr>\n",
       "      <th>...</th>\n",
       "      <td>...</td>\n",
       "      <td>...</td>\n",
       "      <td>...</td>\n",
       "      <td>...</td>\n",
       "      <td>...</td>\n",
       "      <td>...</td>\n",
       "      <td>...</td>\n",
       "      <td>...</td>\n",
       "      <td>...</td>\n",
       "      <td>...</td>\n",
       "      <td>...</td>\n",
       "      <td>...</td>\n",
       "      <td>...</td>\n",
       "      <td>...</td>\n",
       "      <td>...</td>\n",
       "      <td>...</td>\n",
       "      <td>...</td>\n",
       "      <td>...</td>\n",
       "      <td>...</td>\n",
       "      <td>...</td>\n",
       "    </tr>\n",
       "    <tr>\n",
       "      <th>10545</th>\n",
       "      <td>48201C</td>\n",
       "      <td>1.1.1.0</td>\n",
       "      <td>48201C_10579</td>\n",
       "      <td>NP</td>\n",
       "      <td>AE</td>\n",
       "      <td>None</td>\n",
       "      <td>T</td>\n",
       "      <td>-9999.0</td>\n",
       "      <td>None</td>\n",
       "      <td>-9999.0</td>\n",
       "      <td>None</td>\n",
       "      <td>-9999.0</td>\n",
       "      <td>None</td>\n",
       "      <td>None</td>\n",
       "      <td>None</td>\n",
       "      <td>-9999.0</td>\n",
       "      <td>-9999.0</td>\n",
       "      <td>None</td>\n",
       "      <td>48201C_LOMC154</td>\n",
       "      <td>POLYGON ((-95.67234 29.78264, -95.67074 29.782...</td>\n",
       "    </tr>\n",
       "    <tr>\n",
       "      <th>10546</th>\n",
       "      <td>48201C</td>\n",
       "      <td>1.1.1.0</td>\n",
       "      <td>48201C_10580</td>\n",
       "      <td>NP</td>\n",
       "      <td>AE</td>\n",
       "      <td>None</td>\n",
       "      <td>T</td>\n",
       "      <td>-9999.0</td>\n",
       "      <td>None</td>\n",
       "      <td>-9999.0</td>\n",
       "      <td>None</td>\n",
       "      <td>-9999.0</td>\n",
       "      <td>None</td>\n",
       "      <td>None</td>\n",
       "      <td>None</td>\n",
       "      <td>-9999.0</td>\n",
       "      <td>-9999.0</td>\n",
       "      <td>None</td>\n",
       "      <td>48201C_LOMC154</td>\n",
       "      <td>POLYGON ((-95.66059 29.78442, -95.66054 29.784...</td>\n",
       "    </tr>\n",
       "    <tr>\n",
       "      <th>10547</th>\n",
       "      <td>48201C</td>\n",
       "      <td>1.1.1.0</td>\n",
       "      <td>48201C_10575</td>\n",
       "      <td>NP</td>\n",
       "      <td>X</td>\n",
       "      <td>AREA OF MINIMAL FLOOD HAZARD</td>\n",
       "      <td>F</td>\n",
       "      <td>-9999.0</td>\n",
       "      <td>None</td>\n",
       "      <td>-9999.0</td>\n",
       "      <td>None</td>\n",
       "      <td>-9999.0</td>\n",
       "      <td>None</td>\n",
       "      <td>None</td>\n",
       "      <td>None</td>\n",
       "      <td>-9999.0</td>\n",
       "      <td>-9999.0</td>\n",
       "      <td>None</td>\n",
       "      <td>48201C_LOMC154</td>\n",
       "      <td>POLYGON ((-95.66507 29.78253, -95.66492 29.782...</td>\n",
       "    </tr>\n",
       "    <tr>\n",
       "      <th>10548</th>\n",
       "      <td>48201C</td>\n",
       "      <td>1.1.1.0</td>\n",
       "      <td>48201C_10581</td>\n",
       "      <td>NP</td>\n",
       "      <td>X</td>\n",
       "      <td>AREA OF MINIMAL FLOOD HAZARD</td>\n",
       "      <td>F</td>\n",
       "      <td>-9999.0</td>\n",
       "      <td>None</td>\n",
       "      <td>-9999.0</td>\n",
       "      <td>None</td>\n",
       "      <td>-9999.0</td>\n",
       "      <td>None</td>\n",
       "      <td>None</td>\n",
       "      <td>None</td>\n",
       "      <td>-9999.0</td>\n",
       "      <td>-9999.0</td>\n",
       "      <td>None</td>\n",
       "      <td>48201C_LOMC154</td>\n",
       "      <td>POLYGON ((-95.66137 29.78372, -95.66168 29.783...</td>\n",
       "    </tr>\n",
       "    <tr>\n",
       "      <th>10549</th>\n",
       "      <td>48201C</td>\n",
       "      <td>1.1.1.0</td>\n",
       "      <td>48201C_10582</td>\n",
       "      <td>NP</td>\n",
       "      <td>X</td>\n",
       "      <td>AREA OF MINIMAL FLOOD HAZARD</td>\n",
       "      <td>F</td>\n",
       "      <td>-9999.0</td>\n",
       "      <td>None</td>\n",
       "      <td>-9999.0</td>\n",
       "      <td>None</td>\n",
       "      <td>-9999.0</td>\n",
       "      <td>None</td>\n",
       "      <td>None</td>\n",
       "      <td>None</td>\n",
       "      <td>-9999.0</td>\n",
       "      <td>-9999.0</td>\n",
       "      <td>None</td>\n",
       "      <td>48201C_LOMC154</td>\n",
       "      <td>POLYGON ((-95.67596 29.78486, -95.67023 29.784...</td>\n",
       "    </tr>\n",
       "  </tbody>\n",
       "</table>\n",
       "<p>10550 rows × 20 columns</p>\n",
       "</div>"
      ],
      "text/plain": [
       "      DFIRM_ID VERSION_ID     FLD_AR_ID                   STUDY_TYP FLD_ZONE  \\\n",
       "0       48201C    1.1.1.0      48201C_1  SFHAs WITH HIGH FLOOD RISK        X   \n",
       "1       48201C    1.1.1.0      48201C_2  SFHAs WITH HIGH FLOOD RISK        X   \n",
       "2       48201C    1.1.1.0      48201C_3                          NP        X   \n",
       "3       48201C    1.1.1.0      48201C_4                          NP       AE   \n",
       "4       48201C    1.1.1.0      48201C_5                          NP       AE   \n",
       "...        ...        ...           ...                         ...      ...   \n",
       "10545   48201C    1.1.1.0  48201C_10579                          NP       AE   \n",
       "10546   48201C    1.1.1.0  48201C_10580                          NP       AE   \n",
       "10547   48201C    1.1.1.0  48201C_10575                          NP        X   \n",
       "10548   48201C    1.1.1.0  48201C_10581                          NP        X   \n",
       "10549   48201C    1.1.1.0  48201C_10582                          NP        X   \n",
       "\n",
       "                         ZONE_SUBTY SFHA_TF  STATIC_BFE V_DATUM   DEPTH  \\\n",
       "0      AREA OF MINIMAL FLOOD HAZARD       F     -9999.0    None -9999.0   \n",
       "1      AREA OF MINIMAL FLOOD HAZARD       F     -9999.0    None -9999.0   \n",
       "2      AREA OF MINIMAL FLOOD HAZARD       F     -9999.0    None -9999.0   \n",
       "3                              None       T     -9999.0    None -9999.0   \n",
       "4                              None       T     -9999.0    None -9999.0   \n",
       "...                             ...     ...         ...     ...     ...   \n",
       "10545                          None       T     -9999.0    None -9999.0   \n",
       "10546                          None       T     -9999.0    None -9999.0   \n",
       "10547  AREA OF MINIMAL FLOOD HAZARD       F     -9999.0    None -9999.0   \n",
       "10548  AREA OF MINIMAL FLOOD HAZARD       F     -9999.0    None -9999.0   \n",
       "10549  AREA OF MINIMAL FLOOD HAZARD       F     -9999.0    None -9999.0   \n",
       "\n",
       "      LEN_UNIT  VELOCITY VEL_UNIT AR_REVERT AR_SUBTRV  BFE_REVERT  DEP_REVERT  \\\n",
       "0         None   -9999.0     None      None      None     -9999.0     -9999.0   \n",
       "1         None   -9999.0     None      None      None     -9999.0     -9999.0   \n",
       "2         None   -9999.0     None      None      None     -9999.0     -9999.0   \n",
       "3         None   -9999.0     None      None      None     -9999.0     -9999.0   \n",
       "4         None   -9999.0     None      None      None     -9999.0     -9999.0   \n",
       "...        ...       ...      ...       ...       ...         ...         ...   \n",
       "10545     None   -9999.0     None      None      None     -9999.0     -9999.0   \n",
       "10546     None   -9999.0     None      None      None     -9999.0     -9999.0   \n",
       "10547     None   -9999.0     None      None      None     -9999.0     -9999.0   \n",
       "10548     None   -9999.0     None      None      None     -9999.0     -9999.0   \n",
       "10549     None   -9999.0     None      None      None     -9999.0     -9999.0   \n",
       "\n",
       "      DUAL_ZONE      SOURCE_CIT  \\\n",
       "0          None  48201C_LOMC106   \n",
       "1          None  48201C_LOMC106   \n",
       "2          None   48201C_LOMC90   \n",
       "3          None   48201C_LOMC90   \n",
       "4          None   48201C_LOMC90   \n",
       "...         ...             ...   \n",
       "10545      None  48201C_LOMC154   \n",
       "10546      None  48201C_LOMC154   \n",
       "10547      None  48201C_LOMC154   \n",
       "10548      None  48201C_LOMC154   \n",
       "10549      None  48201C_LOMC154   \n",
       "\n",
       "                                                geometry  \n",
       "0      POLYGON ((-95.51752 29.94444, -95.51752 29.944...  \n",
       "1      POLYGON ((-95.51807 29.93961, -95.51808 29.939...  \n",
       "2      POLYGON ((-95.51803 30.10520, -95.52037 30.108...  \n",
       "3      POLYGON ((-95.51344 30.12135, -95.51382 30.121...  \n",
       "4      POLYGON ((-95.51416 30.12651, -95.51417 30.126...  \n",
       "...                                                  ...  \n",
       "10545  POLYGON ((-95.67234 29.78264, -95.67074 29.782...  \n",
       "10546  POLYGON ((-95.66059 29.78442, -95.66054 29.784...  \n",
       "10547  POLYGON ((-95.66507 29.78253, -95.66492 29.782...  \n",
       "10548  POLYGON ((-95.66137 29.78372, -95.66168 29.783...  \n",
       "10549  POLYGON ((-95.67596 29.78486, -95.67023 29.784...  \n",
       "\n",
       "[10550 rows x 20 columns]"
      ]
     },
     "execution_count": 21,
     "metadata": {},
     "output_type": "execute_result"
    }
   ],
   "source": [
    "df_S_FLD_HAZ_AR"
   ]
  },
  {
   "cell_type": "code",
   "execution_count": 22,
   "id": "bfda620b",
   "metadata": {
    "iooxa": {
     "id": {
      "block": "LKK2Hyc8gjYR7MvWEdUt",
      "project": "0y7RFnL8NkCdaXBu8Iog",
      "version": 1
     },
     "outputId": {
      "block": "pxDtLkuPXzuP5iAQC8OS",
      "project": "0y7RFnL8NkCdaXBu8Iog",
      "version": 1
     }
    }
   },
   "outputs": [
    {
     "data": {
      "application/vnd.jupyter.widget-view+json": {
       "model_id": "add74f22f9104983a3587fe9e21208f1",
       "version_major": 2,
       "version_minor": 0
      },
      "text/plain": [
       "Map(center=[29.7604, -95.498], controls=(ZoomControl(options=['position', 'zoom_in_text', 'zoom_in_title', 'zo…"
      ]
     },
     "metadata": {},
     "output_type": "display_data"
    }
   ],
   "source": [
    "center = (29.7604, -95.498)\n",
    "\n",
    "m4 = Map(center=center, zoom=13)\n",
    "\n",
    "marker = Marker(location=center, draggable=True)\n",
    "m4.add_layer(marker);\n",
    "\n",
    "\n",
    "def random_color(feature):\n",
    "    return {\n",
    "        'color': 'black',\n",
    "        'fillColor': random.choice(['red', 'yellow', 'green', 'orange']),\n",
    "    }\n",
    "\n",
    "riverGeoData = GeoData(geo_dataframe = df_S_FLD_HAZ_AR)\n",
    "\n",
    "m4.add_layer(riverGeoData)\n",
    "\n",
    "\n",
    "display(m4)\n",
    "\n",
    "# Now that the marker is on the Map, you can drag it with your mouse,\n",
    "# it will automatically update the `marker.location` attribute in Python\n",
    "\n",
    "# You can also update the marker location from Python, that will update the\n",
    "# marker location on the Map:\n",
    "marker.location = (50, 356)"
   ]
  },
  {
   "cell_type": "code",
   "execution_count": 23,
   "id": "39d1db6d",
   "metadata": {
    "iooxa": {
     "id": {
      "block": "2k1nCPo6keOSqPacP8E9",
      "project": "0y7RFnL8NkCdaXBu8Iog",
      "version": 1
     },
     "outputId": {
      "block": "ItnlHLQ3lrfHR3FzZVlF",
      "project": "0y7RFnL8NkCdaXBu8Iog",
      "version": 1
     }
    }
   },
   "outputs": [
    {
     "data": {
      "text/plain": [
       "array(['X', 'AE', 'A', 'AO', 'VE', 'AREA NOT INCLUDED'], dtype=object)"
      ]
     },
     "execution_count": 23,
     "metadata": {},
     "output_type": "execute_result"
    }
   ],
   "source": [
    "df_S_FLD_HAZ_AR['FLD_ZONE'].unique()"
   ]
  },
  {
   "cell_type": "code",
   "execution_count": 24,
   "id": "00931e15",
   "metadata": {
    "iooxa": {
     "id": {
      "block": "0SDHl9Mx5qQmtg6q89WT",
      "project": "0y7RFnL8NkCdaXBu8Iog",
      "version": 1
     },
     "outputId": {
      "block": "wBIX2I4DQ7m0aYZCIIYf",
      "project": "0y7RFnL8NkCdaXBu8Iog",
      "version": 1
     }
    }
   },
   "outputs": [
    {
     "data": {
      "text/html": [
       "<div>\n",
       "<style scoped>\n",
       "    .dataframe tbody tr th:only-of-type {\n",
       "        vertical-align: middle;\n",
       "    }\n",
       "\n",
       "    .dataframe tbody tr th {\n",
       "        vertical-align: top;\n",
       "    }\n",
       "\n",
       "    .dataframe thead th {\n",
       "        text-align: right;\n",
       "    }\n",
       "</style>\n",
       "<table border=\"1\" class=\"dataframe\">\n",
       "  <thead>\n",
       "    <tr style=\"text-align: right;\">\n",
       "      <th></th>\n",
       "      <th>DFIRM_ID</th>\n",
       "      <th>VERSION_ID</th>\n",
       "      <th>FLD_AR_ID</th>\n",
       "      <th>STUDY_TYP</th>\n",
       "      <th>FLD_ZONE</th>\n",
       "      <th>ZONE_SUBTY</th>\n",
       "      <th>SFHA_TF</th>\n",
       "      <th>STATIC_BFE</th>\n",
       "      <th>V_DATUM</th>\n",
       "      <th>DEPTH</th>\n",
       "      <th>LEN_UNIT</th>\n",
       "      <th>VELOCITY</th>\n",
       "      <th>VEL_UNIT</th>\n",
       "      <th>AR_REVERT</th>\n",
       "      <th>AR_SUBTRV</th>\n",
       "      <th>BFE_REVERT</th>\n",
       "      <th>DEP_REVERT</th>\n",
       "      <th>DUAL_ZONE</th>\n",
       "      <th>SOURCE_CIT</th>\n",
       "      <th>geometry</th>\n",
       "    </tr>\n",
       "  </thead>\n",
       "  <tbody>\n",
       "    <tr>\n",
       "      <th>0</th>\n",
       "      <td>48201C</td>\n",
       "      <td>1.1.1.0</td>\n",
       "      <td>48201C_1</td>\n",
       "      <td>SFHAs WITH HIGH FLOOD RISK</td>\n",
       "      <td>X</td>\n",
       "      <td>AREA OF MINIMAL FLOOD HAZARD</td>\n",
       "      <td>F</td>\n",
       "      <td>-9999.0</td>\n",
       "      <td>None</td>\n",
       "      <td>-9999.0</td>\n",
       "      <td>None</td>\n",
       "      <td>-9999.0</td>\n",
       "      <td>None</td>\n",
       "      <td>None</td>\n",
       "      <td>None</td>\n",
       "      <td>-9999.0</td>\n",
       "      <td>-9999.0</td>\n",
       "      <td>None</td>\n",
       "      <td>48201C_LOMC106</td>\n",
       "      <td>POLYGON ((-95.51752 29.94444, -95.51752 29.944...</td>\n",
       "    </tr>\n",
       "    <tr>\n",
       "      <th>1</th>\n",
       "      <td>48201C</td>\n",
       "      <td>1.1.1.0</td>\n",
       "      <td>48201C_2</td>\n",
       "      <td>SFHAs WITH HIGH FLOOD RISK</td>\n",
       "      <td>X</td>\n",
       "      <td>AREA OF MINIMAL FLOOD HAZARD</td>\n",
       "      <td>F</td>\n",
       "      <td>-9999.0</td>\n",
       "      <td>None</td>\n",
       "      <td>-9999.0</td>\n",
       "      <td>None</td>\n",
       "      <td>-9999.0</td>\n",
       "      <td>None</td>\n",
       "      <td>None</td>\n",
       "      <td>None</td>\n",
       "      <td>-9999.0</td>\n",
       "      <td>-9999.0</td>\n",
       "      <td>None</td>\n",
       "      <td>48201C_LOMC106</td>\n",
       "      <td>POLYGON ((-95.51807 29.93961, -95.51808 29.939...</td>\n",
       "    </tr>\n",
       "    <tr>\n",
       "      <th>2</th>\n",
       "      <td>48201C</td>\n",
       "      <td>1.1.1.0</td>\n",
       "      <td>48201C_3</td>\n",
       "      <td>NP</td>\n",
       "      <td>X</td>\n",
       "      <td>AREA OF MINIMAL FLOOD HAZARD</td>\n",
       "      <td>F</td>\n",
       "      <td>-9999.0</td>\n",
       "      <td>None</td>\n",
       "      <td>-9999.0</td>\n",
       "      <td>None</td>\n",
       "      <td>-9999.0</td>\n",
       "      <td>None</td>\n",
       "      <td>None</td>\n",
       "      <td>None</td>\n",
       "      <td>-9999.0</td>\n",
       "      <td>-9999.0</td>\n",
       "      <td>None</td>\n",
       "      <td>48201C_LOMC90</td>\n",
       "      <td>POLYGON ((-95.51803 30.10520, -95.52037 30.108...</td>\n",
       "    </tr>\n",
       "    <tr>\n",
       "      <th>3</th>\n",
       "      <td>48201C</td>\n",
       "      <td>1.1.1.0</td>\n",
       "      <td>48201C_4</td>\n",
       "      <td>NP</td>\n",
       "      <td>AE</td>\n",
       "      <td>None</td>\n",
       "      <td>T</td>\n",
       "      <td>-9999.0</td>\n",
       "      <td>None</td>\n",
       "      <td>-9999.0</td>\n",
       "      <td>None</td>\n",
       "      <td>-9999.0</td>\n",
       "      <td>None</td>\n",
       "      <td>None</td>\n",
       "      <td>None</td>\n",
       "      <td>-9999.0</td>\n",
       "      <td>-9999.0</td>\n",
       "      <td>None</td>\n",
       "      <td>48201C_LOMC90</td>\n",
       "      <td>POLYGON ((-95.51344 30.12135, -95.51382 30.121...</td>\n",
       "    </tr>\n",
       "  </tbody>\n",
       "</table>\n",
       "</div>"
      ],
      "text/plain": [
       "  DFIRM_ID VERSION_ID FLD_AR_ID                   STUDY_TYP FLD_ZONE  \\\n",
       "0   48201C    1.1.1.0  48201C_1  SFHAs WITH HIGH FLOOD RISK        X   \n",
       "1   48201C    1.1.1.0  48201C_2  SFHAs WITH HIGH FLOOD RISK        X   \n",
       "2   48201C    1.1.1.0  48201C_3                          NP        X   \n",
       "3   48201C    1.1.1.0  48201C_4                          NP       AE   \n",
       "\n",
       "                     ZONE_SUBTY SFHA_TF  STATIC_BFE V_DATUM   DEPTH LEN_UNIT  \\\n",
       "0  AREA OF MINIMAL FLOOD HAZARD       F     -9999.0    None -9999.0     None   \n",
       "1  AREA OF MINIMAL FLOOD HAZARD       F     -9999.0    None -9999.0     None   \n",
       "2  AREA OF MINIMAL FLOOD HAZARD       F     -9999.0    None -9999.0     None   \n",
       "3                          None       T     -9999.0    None -9999.0     None   \n",
       "\n",
       "   VELOCITY VEL_UNIT AR_REVERT AR_SUBTRV  BFE_REVERT  DEP_REVERT DUAL_ZONE  \\\n",
       "0   -9999.0     None      None      None     -9999.0     -9999.0      None   \n",
       "1   -9999.0     None      None      None     -9999.0     -9999.0      None   \n",
       "2   -9999.0     None      None      None     -9999.0     -9999.0      None   \n",
       "3   -9999.0     None      None      None     -9999.0     -9999.0      None   \n",
       "\n",
       "       SOURCE_CIT                                           geometry  \n",
       "0  48201C_LOMC106  POLYGON ((-95.51752 29.94444, -95.51752 29.944...  \n",
       "1  48201C_LOMC106  POLYGON ((-95.51807 29.93961, -95.51808 29.939...  \n",
       "2   48201C_LOMC90  POLYGON ((-95.51803 30.10520, -95.52037 30.108...  \n",
       "3   48201C_LOMC90  POLYGON ((-95.51344 30.12135, -95.51382 30.121...  "
      ]
     },
     "execution_count": 24,
     "metadata": {},
     "output_type": "execute_result"
    }
   ],
   "source": [
    "df_S_FLD_HAZ_AR[0:4]"
   ]
  },
  {
   "cell_type": "code",
   "execution_count": 25,
   "id": "05ff3dee",
   "metadata": {
    "iooxa": {
     "id": {
      "block": "6Dzq4pJK0CbW0Osct1TB",
      "project": "0y7RFnL8NkCdaXBu8Iog",
      "version": 1
     },
     "outputId": {
      "block": "Fyr3jhL98romWmE4Mey6",
      "project": "0y7RFnL8NkCdaXBu8Iog",
      "version": 1
     }
    }
   },
   "outputs": [
    {
     "data": {
      "text/plain": [
       "array(['SFHAs WITH HIGH FLOOD RISK', 'NP', 'SFHAs WITH LOW FLOOD RISK'],\n",
       "      dtype=object)"
      ]
     },
     "execution_count": 25,
     "metadata": {},
     "output_type": "execute_result"
    }
   ],
   "source": [
    "df_S_FLD_HAZ_AR['STUDY_TYP'].unique()"
   ]
  },
  {
   "cell_type": "code",
   "execution_count": 26,
   "id": "403201e1",
   "metadata": {
    "iooxa": {
     "id": {
      "block": "dVOV87MvUJltAWDoOmT3",
      "project": "0y7RFnL8NkCdaXBu8Iog",
      "version": 1
     },
     "outputId": {
      "block": "Bdx2YSW28NjPm0a0CnzE",
      "project": "0y7RFnL8NkCdaXBu8Iog",
      "version": 1
     }
    }
   },
   "outputs": [
    {
     "data": {
      "text/plain": [
       "array(['AREA OF MINIMAL FLOOD HAZARD', None,\n",
       "       '0.2 PCT ANNUAL CHANCE FLOOD HAZARD', 'FLOODWAY',\n",
       "       'RIVERINE FLOODWAY SHOWN IN COASTAL ZONE',\n",
       "       'AREA WITH REDUCED FLOOD RISK DUE TO LEVEE'], dtype=object)"
      ]
     },
     "execution_count": 26,
     "metadata": {},
     "output_type": "execute_result"
    }
   ],
   "source": [
    "df_S_FLD_HAZ_AR['ZONE_SUBTY'].unique()"
   ]
  },
  {
   "cell_type": "code",
   "execution_count": 27,
   "id": "9a3cba20",
   "metadata": {
    "iooxa": {
     "id": {
      "block": "URYB8jOB56gkNTTX29Hx",
      "project": "0y7RFnL8NkCdaXBu8Iog",
      "version": 1
     },
     "outputId": {
      "block": "3D1dZmAgL8Esk2quz0L9",
      "project": "0y7RFnL8NkCdaXBu8Iog",
      "version": 1
     }
    }
   },
   "outputs": [
    {
     "data": {
      "text/plain": [
       "array(['AREA OF MINIMAL FLOOD HAZARD', None,\n",
       "       '0.2 PCT ANNUAL CHANCE FLOOD HAZARD', 'FLOODWAY',\n",
       "       'RIVERINE FLOODWAY SHOWN IN COASTAL ZONE',\n",
       "       'AREA WITH REDUCED FLOOD RISK DUE TO LEVEE'], dtype=object)"
      ]
     },
     "execution_count": 27,
     "metadata": {},
     "output_type": "execute_result"
    }
   ],
   "source": [
    "df_S_FLD_HAZ_AR['ZONE_SUBTY'].unique()"
   ]
  },
  {
   "cell_type": "code",
   "execution_count": 28,
   "id": "fe080d76",
   "metadata": {
    "iooxa": {
     "id": {
      "block": "xFWyypr309rTVKQyk1MD",
      "project": "0y7RFnL8NkCdaXBu8Iog",
      "version": 1
     },
     "outputId": {
      "block": "GfcVdmUgmeubQR37E46A",
      "project": "0y7RFnL8NkCdaXBu8Iog",
      "version": 1
     }
    }
   },
   "outputs": [
    {
     "data": {
      "text/plain": [
       "array(['F', 'T'], dtype=object)"
      ]
     },
     "execution_count": 28,
     "metadata": {},
     "output_type": "execute_result"
    }
   ],
   "source": [
    "df_S_FLD_HAZ_AR['SFHA_TF'].unique()"
   ]
  },
  {
   "cell_type": "code",
   "execution_count": null,
   "id": "e6f9e8de",
   "metadata": {},
   "outputs": [],
   "source": []
  },
  {
   "cell_type": "code",
   "execution_count": 29,
   "id": "7eda4c89",
   "metadata": {
    "iooxa": {
     "id": {
      "block": "hpbTYBdcIb4DYr5c9KfH",
      "project": "0y7RFnL8NkCdaXBu8Iog",
      "version": 1
     },
     "outputId": null
    }
   },
   "outputs": [],
   "source": [
    "df_S_FLD_HAZ_AR.to_file(\"FEMA_FIRM_FloodPolygons_exported20220905.geojson\", driver=\"GeoJSON\")  "
   ]
  },
  {
   "cell_type": "code",
   "execution_count": 30,
   "id": "631b47df",
   "metadata": {
    "iooxa": {
     "id": {
      "block": "yemApIpcJKjEzv7OkLHU",
      "project": "0y7RFnL8NkCdaXBu8Iog",
      "version": 1
     },
     "outputId": {
      "block": "qNVWgXfaFGjY4WscvU0n",
      "project": "0y7RFnL8NkCdaXBu8Iog",
      "version": 1
     }
    }
   },
   "outputs": [
    {
     "name": "stdout",
     "output_type": "stream",
     "text": [
      "48201C_20220807_metadata.xml\r\n",
      "FEMA_FIRM_FloodPolygons_exported20220905.geojson\r\n",
      "L_COMM_INFO.dbf\r\n",
      "L_COMM_REVIS.dbf\r\n",
      "L_MANNINGSN.dbf\r\n",
      "L_MEETINGS.dbf\r\n",
      "L_MT2_LOMR.dbf\r\n",
      "L_MTG_POC.dbf\r\n",
      "L_PAN_REVIS.dbf\r\n",
      "L_POL_FHBM.dbf\r\n",
      "L_SOURCE_CIT.dbf\r\n",
      "L_SUMMARY_DISCHARGES.dbf\r\n",
      "L_XS_ELEV.dbf\r\n",
      "STUDY_INFO.dbf\r\n",
      "S_BFE.dbf\r\n",
      "S_BFE.prj\r\n",
      "S_BFE.shp\r\n",
      "S_BFE.shx\r\n",
      "S_CST_TSCT_LN.dbf\r\n",
      "S_CST_TSCT_LN.prj\r\n",
      "S_CST_TSCT_LN.shp\r\n",
      "S_CST_TSCT_LN.shx\r\n",
      "S_FIRM_PAN.dbf\r\n",
      "S_FIRM_PAN.prj\r\n",
      "S_FIRM_PAN.shp\r\n",
      "S_FIRM_PAN.shx\r\n",
      "S_FLD_HAZ_AR.dbf\r\n",
      "S_FLD_HAZ_AR.prj\r\n",
      "S_FLD_HAZ_AR.shp\r\n",
      "S_FLD_HAZ_AR.shx\r\n",
      "S_FLD_HAZ_LN.dbf\r\n",
      "S_FLD_HAZ_LN.prj\r\n",
      "S_FLD_HAZ_LN.shp\r\n",
      "S_FLD_HAZ_LN.shx\r\n",
      "S_GEN_STRUCT.dbf\r\n",
      "S_GEN_STRUCT.prj\r\n",
      "S_GEN_STRUCT.shp\r\n",
      "S_GEN_STRUCT.shx\r\n",
      "S_LABEL_LD.dbf\r\n",
      "S_LABEL_LD.prj\r\n",
      "S_LABEL_LD.shp\r\n",
      "S_LABEL_LD.shx\r\n",
      "S_LABEL_PT.dbf\r\n",
      "S_LABEL_PT.prj\r\n",
      "S_LABEL_PT.shp\r\n",
      "S_LABEL_PT.shx\r\n",
      "S_LEVEE.dbf\r\n",
      "S_LEVEE.prj\r\n",
      "S_LEVEE.shp\r\n",
      "S_LEVEE.shx\r\n",
      "S_LIMWA.dbf\r\n",
      "S_LIMWA.prj\r\n",
      "S_LIMWA.shp\r\n",
      "S_LIMWA.shx\r\n",
      "S_LOMR.dbf\r\n",
      "S_LOMR.prj\r\n",
      "S_LOMR.shp\r\n",
      "S_LOMR.shx\r\n",
      "S_POL_AR.dbf\r\n",
      "S_POL_AR.prj\r\n",
      "S_POL_AR.shp\r\n",
      "S_POL_AR.shx\r\n",
      "S_PROFIL_BASLN.dbf\r\n",
      "S_PROFIL_BASLN.prj\r\n",
      "S_PROFIL_BASLN.shp\r\n",
      "S_PROFIL_BASLN.shx\r\n",
      "S_STN_START.dbf\r\n",
      "S_STN_START.prj\r\n",
      "S_STN_START.shp\r\n",
      "S_STN_START.shx\r\n",
      "S_SUBBASINS.dbf\r\n",
      "S_SUBBASINS.prj\r\n",
      "S_SUBBASINS.shp\r\n",
      "S_SUBBASINS.shx\r\n",
      "S_TRNSPORT_LN.dbf\r\n",
      "S_TRNSPORT_LN.prj\r\n",
      "S_TRNSPORT_LN.shp\r\n",
      "S_TRNSPORT_LN.shx\r\n",
      "S_WTR_AR.dbf\r\n",
      "S_WTR_AR.prj\r\n",
      "S_WTR_AR.shp\r\n",
      "S_WTR_AR.shx\r\n",
      "S_WTR_LN.dbf\r\n",
      "S_WTR_LN.prj\r\n",
      "S_WTR_LN.shp\r\n",
      "S_WTR_LN.shx\r\n",
      "S_XS.dbf\r\n",
      "S_XS.prj\r\n",
      "S_XS.shp\r\n",
      "S_XS.shx\r\n"
     ]
    }
   ],
   "source": [
    "ls"
   ]
  },
  {
   "cell_type": "code",
   "execution_count": null,
   "id": "e5144c41",
   "metadata": {},
   "outputs": [],
   "source": []
  },
  {
   "cell_type": "code",
   "execution_count": 31,
   "id": "7258938c",
   "metadata": {
    "iooxa": {
     "id": {
      "block": "aKdoHNKqph2NIbG42fLC",
      "project": "0y7RFnL8NkCdaXBu8Iog",
      "version": 1
     },
     "outputId": null
    }
   },
   "outputs": [],
   "source": [
    "geodf_readFromFile_HarrisFloodPolygons = gpd.read_file(\"FEMA_FIRM_FloodPolygons_exported20220905.geojson\")"
   ]
  },
  {
   "cell_type": "code",
   "execution_count": 32,
   "id": "9f936684",
   "metadata": {
    "iooxa": {
     "id": {
      "block": "EgWfKbBSonDYtGjn8C1W",
      "project": "0y7RFnL8NkCdaXBu8Iog",
      "version": 1
     },
     "outputId": {
      "block": "xxVSfxkGlTzN1NN6W3CJ",
      "project": "0y7RFnL8NkCdaXBu8Iog",
      "version": 1
     }
    }
   },
   "outputs": [
    {
     "data": {
      "text/html": [
       "<div>\n",
       "<style scoped>\n",
       "    .dataframe tbody tr th:only-of-type {\n",
       "        vertical-align: middle;\n",
       "    }\n",
       "\n",
       "    .dataframe tbody tr th {\n",
       "        vertical-align: top;\n",
       "    }\n",
       "\n",
       "    .dataframe thead th {\n",
       "        text-align: right;\n",
       "    }\n",
       "</style>\n",
       "<table border=\"1\" class=\"dataframe\">\n",
       "  <thead>\n",
       "    <tr style=\"text-align: right;\">\n",
       "      <th></th>\n",
       "      <th>DFIRM_ID</th>\n",
       "      <th>VERSION_ID</th>\n",
       "      <th>FLD_AR_ID</th>\n",
       "      <th>STUDY_TYP</th>\n",
       "      <th>FLD_ZONE</th>\n",
       "      <th>ZONE_SUBTY</th>\n",
       "      <th>SFHA_TF</th>\n",
       "      <th>STATIC_BFE</th>\n",
       "      <th>V_DATUM</th>\n",
       "      <th>DEPTH</th>\n",
       "      <th>LEN_UNIT</th>\n",
       "      <th>VELOCITY</th>\n",
       "      <th>VEL_UNIT</th>\n",
       "      <th>AR_REVERT</th>\n",
       "      <th>AR_SUBTRV</th>\n",
       "      <th>BFE_REVERT</th>\n",
       "      <th>DEP_REVERT</th>\n",
       "      <th>DUAL_ZONE</th>\n",
       "      <th>SOURCE_CIT</th>\n",
       "      <th>geometry</th>\n",
       "    </tr>\n",
       "  </thead>\n",
       "  <tbody>\n",
       "    <tr>\n",
       "      <th>0</th>\n",
       "      <td>48201C</td>\n",
       "      <td>1.1.1.0</td>\n",
       "      <td>48201C_1</td>\n",
       "      <td>SFHAs WITH HIGH FLOOD RISK</td>\n",
       "      <td>X</td>\n",
       "      <td>AREA OF MINIMAL FLOOD HAZARD</td>\n",
       "      <td>F</td>\n",
       "      <td>-9999.0</td>\n",
       "      <td>None</td>\n",
       "      <td>-9999.0</td>\n",
       "      <td>None</td>\n",
       "      <td>-9999.0</td>\n",
       "      <td>None</td>\n",
       "      <td>None</td>\n",
       "      <td>None</td>\n",
       "      <td>-9999.0</td>\n",
       "      <td>-9999.0</td>\n",
       "      <td>None</td>\n",
       "      <td>48201C_LOMC106</td>\n",
       "      <td>POLYGON ((-95.51752 29.94444, -95.51752 29.944...</td>\n",
       "    </tr>\n",
       "    <tr>\n",
       "      <th>1</th>\n",
       "      <td>48201C</td>\n",
       "      <td>1.1.1.0</td>\n",
       "      <td>48201C_2</td>\n",
       "      <td>SFHAs WITH HIGH FLOOD RISK</td>\n",
       "      <td>X</td>\n",
       "      <td>AREA OF MINIMAL FLOOD HAZARD</td>\n",
       "      <td>F</td>\n",
       "      <td>-9999.0</td>\n",
       "      <td>None</td>\n",
       "      <td>-9999.0</td>\n",
       "      <td>None</td>\n",
       "      <td>-9999.0</td>\n",
       "      <td>None</td>\n",
       "      <td>None</td>\n",
       "      <td>None</td>\n",
       "      <td>-9999.0</td>\n",
       "      <td>-9999.0</td>\n",
       "      <td>None</td>\n",
       "      <td>48201C_LOMC106</td>\n",
       "      <td>POLYGON ((-95.51807 29.93961, -95.51808 29.939...</td>\n",
       "    </tr>\n",
       "    <tr>\n",
       "      <th>2</th>\n",
       "      <td>48201C</td>\n",
       "      <td>1.1.1.0</td>\n",
       "      <td>48201C_3</td>\n",
       "      <td>NP</td>\n",
       "      <td>X</td>\n",
       "      <td>AREA OF MINIMAL FLOOD HAZARD</td>\n",
       "      <td>F</td>\n",
       "      <td>-9999.0</td>\n",
       "      <td>None</td>\n",
       "      <td>-9999.0</td>\n",
       "      <td>None</td>\n",
       "      <td>-9999.0</td>\n",
       "      <td>None</td>\n",
       "      <td>None</td>\n",
       "      <td>None</td>\n",
       "      <td>-9999.0</td>\n",
       "      <td>-9999.0</td>\n",
       "      <td>None</td>\n",
       "      <td>48201C_LOMC90</td>\n",
       "      <td>POLYGON ((-95.51803 30.10520, -95.52037 30.108...</td>\n",
       "    </tr>\n",
       "    <tr>\n",
       "      <th>3</th>\n",
       "      <td>48201C</td>\n",
       "      <td>1.1.1.0</td>\n",
       "      <td>48201C_4</td>\n",
       "      <td>NP</td>\n",
       "      <td>AE</td>\n",
       "      <td>None</td>\n",
       "      <td>T</td>\n",
       "      <td>-9999.0</td>\n",
       "      <td>None</td>\n",
       "      <td>-9999.0</td>\n",
       "      <td>None</td>\n",
       "      <td>-9999.0</td>\n",
       "      <td>None</td>\n",
       "      <td>None</td>\n",
       "      <td>None</td>\n",
       "      <td>-9999.0</td>\n",
       "      <td>-9999.0</td>\n",
       "      <td>None</td>\n",
       "      <td>48201C_LOMC90</td>\n",
       "      <td>POLYGON ((-95.51344 30.12135, -95.51382 30.121...</td>\n",
       "    </tr>\n",
       "    <tr>\n",
       "      <th>4</th>\n",
       "      <td>48201C</td>\n",
       "      <td>1.1.1.0</td>\n",
       "      <td>48201C_5</td>\n",
       "      <td>NP</td>\n",
       "      <td>AE</td>\n",
       "      <td>None</td>\n",
       "      <td>T</td>\n",
       "      <td>-9999.0</td>\n",
       "      <td>None</td>\n",
       "      <td>-9999.0</td>\n",
       "      <td>None</td>\n",
       "      <td>-9999.0</td>\n",
       "      <td>None</td>\n",
       "      <td>None</td>\n",
       "      <td>None</td>\n",
       "      <td>-9999.0</td>\n",
       "      <td>-9999.0</td>\n",
       "      <td>None</td>\n",
       "      <td>48201C_LOMC90</td>\n",
       "      <td>POLYGON ((-95.51416 30.12651, -95.51417 30.126...</td>\n",
       "    </tr>\n",
       "    <tr>\n",
       "      <th>...</th>\n",
       "      <td>...</td>\n",
       "      <td>...</td>\n",
       "      <td>...</td>\n",
       "      <td>...</td>\n",
       "      <td>...</td>\n",
       "      <td>...</td>\n",
       "      <td>...</td>\n",
       "      <td>...</td>\n",
       "      <td>...</td>\n",
       "      <td>...</td>\n",
       "      <td>...</td>\n",
       "      <td>...</td>\n",
       "      <td>...</td>\n",
       "      <td>...</td>\n",
       "      <td>...</td>\n",
       "      <td>...</td>\n",
       "      <td>...</td>\n",
       "      <td>...</td>\n",
       "      <td>...</td>\n",
       "      <td>...</td>\n",
       "    </tr>\n",
       "    <tr>\n",
       "      <th>10545</th>\n",
       "      <td>48201C</td>\n",
       "      <td>1.1.1.0</td>\n",
       "      <td>48201C_10579</td>\n",
       "      <td>NP</td>\n",
       "      <td>AE</td>\n",
       "      <td>None</td>\n",
       "      <td>T</td>\n",
       "      <td>-9999.0</td>\n",
       "      <td>None</td>\n",
       "      <td>-9999.0</td>\n",
       "      <td>None</td>\n",
       "      <td>-9999.0</td>\n",
       "      <td>None</td>\n",
       "      <td>None</td>\n",
       "      <td>None</td>\n",
       "      <td>-9999.0</td>\n",
       "      <td>-9999.0</td>\n",
       "      <td>None</td>\n",
       "      <td>48201C_LOMC154</td>\n",
       "      <td>POLYGON ((-95.67234 29.78264, -95.67074 29.782...</td>\n",
       "    </tr>\n",
       "    <tr>\n",
       "      <th>10546</th>\n",
       "      <td>48201C</td>\n",
       "      <td>1.1.1.0</td>\n",
       "      <td>48201C_10580</td>\n",
       "      <td>NP</td>\n",
       "      <td>AE</td>\n",
       "      <td>None</td>\n",
       "      <td>T</td>\n",
       "      <td>-9999.0</td>\n",
       "      <td>None</td>\n",
       "      <td>-9999.0</td>\n",
       "      <td>None</td>\n",
       "      <td>-9999.0</td>\n",
       "      <td>None</td>\n",
       "      <td>None</td>\n",
       "      <td>None</td>\n",
       "      <td>-9999.0</td>\n",
       "      <td>-9999.0</td>\n",
       "      <td>None</td>\n",
       "      <td>48201C_LOMC154</td>\n",
       "      <td>POLYGON ((-95.66059 29.78442, -95.66054 29.784...</td>\n",
       "    </tr>\n",
       "    <tr>\n",
       "      <th>10547</th>\n",
       "      <td>48201C</td>\n",
       "      <td>1.1.1.0</td>\n",
       "      <td>48201C_10575</td>\n",
       "      <td>NP</td>\n",
       "      <td>X</td>\n",
       "      <td>AREA OF MINIMAL FLOOD HAZARD</td>\n",
       "      <td>F</td>\n",
       "      <td>-9999.0</td>\n",
       "      <td>None</td>\n",
       "      <td>-9999.0</td>\n",
       "      <td>None</td>\n",
       "      <td>-9999.0</td>\n",
       "      <td>None</td>\n",
       "      <td>None</td>\n",
       "      <td>None</td>\n",
       "      <td>-9999.0</td>\n",
       "      <td>-9999.0</td>\n",
       "      <td>None</td>\n",
       "      <td>48201C_LOMC154</td>\n",
       "      <td>POLYGON ((-95.66507 29.78253, -95.66492 29.782...</td>\n",
       "    </tr>\n",
       "    <tr>\n",
       "      <th>10548</th>\n",
       "      <td>48201C</td>\n",
       "      <td>1.1.1.0</td>\n",
       "      <td>48201C_10581</td>\n",
       "      <td>NP</td>\n",
       "      <td>X</td>\n",
       "      <td>AREA OF MINIMAL FLOOD HAZARD</td>\n",
       "      <td>F</td>\n",
       "      <td>-9999.0</td>\n",
       "      <td>None</td>\n",
       "      <td>-9999.0</td>\n",
       "      <td>None</td>\n",
       "      <td>-9999.0</td>\n",
       "      <td>None</td>\n",
       "      <td>None</td>\n",
       "      <td>None</td>\n",
       "      <td>-9999.0</td>\n",
       "      <td>-9999.0</td>\n",
       "      <td>None</td>\n",
       "      <td>48201C_LOMC154</td>\n",
       "      <td>POLYGON ((-95.66137 29.78372, -95.66168 29.783...</td>\n",
       "    </tr>\n",
       "    <tr>\n",
       "      <th>10549</th>\n",
       "      <td>48201C</td>\n",
       "      <td>1.1.1.0</td>\n",
       "      <td>48201C_10582</td>\n",
       "      <td>NP</td>\n",
       "      <td>X</td>\n",
       "      <td>AREA OF MINIMAL FLOOD HAZARD</td>\n",
       "      <td>F</td>\n",
       "      <td>-9999.0</td>\n",
       "      <td>None</td>\n",
       "      <td>-9999.0</td>\n",
       "      <td>None</td>\n",
       "      <td>-9999.0</td>\n",
       "      <td>None</td>\n",
       "      <td>None</td>\n",
       "      <td>None</td>\n",
       "      <td>-9999.0</td>\n",
       "      <td>-9999.0</td>\n",
       "      <td>None</td>\n",
       "      <td>48201C_LOMC154</td>\n",
       "      <td>POLYGON ((-95.67596 29.78486, -95.67023 29.784...</td>\n",
       "    </tr>\n",
       "  </tbody>\n",
       "</table>\n",
       "<p>10550 rows × 20 columns</p>\n",
       "</div>"
      ],
      "text/plain": [
       "      DFIRM_ID VERSION_ID     FLD_AR_ID                   STUDY_TYP FLD_ZONE  \\\n",
       "0       48201C    1.1.1.0      48201C_1  SFHAs WITH HIGH FLOOD RISK        X   \n",
       "1       48201C    1.1.1.0      48201C_2  SFHAs WITH HIGH FLOOD RISK        X   \n",
       "2       48201C    1.1.1.0      48201C_3                          NP        X   \n",
       "3       48201C    1.1.1.0      48201C_4                          NP       AE   \n",
       "4       48201C    1.1.1.0      48201C_5                          NP       AE   \n",
       "...        ...        ...           ...                         ...      ...   \n",
       "10545   48201C    1.1.1.0  48201C_10579                          NP       AE   \n",
       "10546   48201C    1.1.1.0  48201C_10580                          NP       AE   \n",
       "10547   48201C    1.1.1.0  48201C_10575                          NP        X   \n",
       "10548   48201C    1.1.1.0  48201C_10581                          NP        X   \n",
       "10549   48201C    1.1.1.0  48201C_10582                          NP        X   \n",
       "\n",
       "                         ZONE_SUBTY SFHA_TF  STATIC_BFE V_DATUM   DEPTH  \\\n",
       "0      AREA OF MINIMAL FLOOD HAZARD       F     -9999.0    None -9999.0   \n",
       "1      AREA OF MINIMAL FLOOD HAZARD       F     -9999.0    None -9999.0   \n",
       "2      AREA OF MINIMAL FLOOD HAZARD       F     -9999.0    None -9999.0   \n",
       "3                              None       T     -9999.0    None -9999.0   \n",
       "4                              None       T     -9999.0    None -9999.0   \n",
       "...                             ...     ...         ...     ...     ...   \n",
       "10545                          None       T     -9999.0    None -9999.0   \n",
       "10546                          None       T     -9999.0    None -9999.0   \n",
       "10547  AREA OF MINIMAL FLOOD HAZARD       F     -9999.0    None -9999.0   \n",
       "10548  AREA OF MINIMAL FLOOD HAZARD       F     -9999.0    None -9999.0   \n",
       "10549  AREA OF MINIMAL FLOOD HAZARD       F     -9999.0    None -9999.0   \n",
       "\n",
       "      LEN_UNIT  VELOCITY VEL_UNIT AR_REVERT AR_SUBTRV  BFE_REVERT  DEP_REVERT  \\\n",
       "0         None   -9999.0     None      None      None     -9999.0     -9999.0   \n",
       "1         None   -9999.0     None      None      None     -9999.0     -9999.0   \n",
       "2         None   -9999.0     None      None      None     -9999.0     -9999.0   \n",
       "3         None   -9999.0     None      None      None     -9999.0     -9999.0   \n",
       "4         None   -9999.0     None      None      None     -9999.0     -9999.0   \n",
       "...        ...       ...      ...       ...       ...         ...         ...   \n",
       "10545     None   -9999.0     None      None      None     -9999.0     -9999.0   \n",
       "10546     None   -9999.0     None      None      None     -9999.0     -9999.0   \n",
       "10547     None   -9999.0     None      None      None     -9999.0     -9999.0   \n",
       "10548     None   -9999.0     None      None      None     -9999.0     -9999.0   \n",
       "10549     None   -9999.0     None      None      None     -9999.0     -9999.0   \n",
       "\n",
       "      DUAL_ZONE      SOURCE_CIT  \\\n",
       "0          None  48201C_LOMC106   \n",
       "1          None  48201C_LOMC106   \n",
       "2          None   48201C_LOMC90   \n",
       "3          None   48201C_LOMC90   \n",
       "4          None   48201C_LOMC90   \n",
       "...         ...             ...   \n",
       "10545      None  48201C_LOMC154   \n",
       "10546      None  48201C_LOMC154   \n",
       "10547      None  48201C_LOMC154   \n",
       "10548      None  48201C_LOMC154   \n",
       "10549      None  48201C_LOMC154   \n",
       "\n",
       "                                                geometry  \n",
       "0      POLYGON ((-95.51752 29.94444, -95.51752 29.944...  \n",
       "1      POLYGON ((-95.51807 29.93961, -95.51808 29.939...  \n",
       "2      POLYGON ((-95.51803 30.10520, -95.52037 30.108...  \n",
       "3      POLYGON ((-95.51344 30.12135, -95.51382 30.121...  \n",
       "4      POLYGON ((-95.51416 30.12651, -95.51417 30.126...  \n",
       "...                                                  ...  \n",
       "10545  POLYGON ((-95.67234 29.78264, -95.67074 29.782...  \n",
       "10546  POLYGON ((-95.66059 29.78442, -95.66054 29.784...  \n",
       "10547  POLYGON ((-95.66507 29.78253, -95.66492 29.782...  \n",
       "10548  POLYGON ((-95.66137 29.78372, -95.66168 29.783...  \n",
       "10549  POLYGON ((-95.67596 29.78486, -95.67023 29.784...  \n",
       "\n",
       "[10550 rows x 20 columns]"
      ]
     },
     "execution_count": 32,
     "metadata": {},
     "output_type": "execute_result"
    }
   ],
   "source": [
    "geodf_readFromFile_HarrisFloodPolygons"
   ]
  },
  {
   "cell_type": "code",
   "execution_count": 33,
   "id": "818f3572",
   "metadata": {
    "iooxa": {
     "id": {
      "block": "mEUYypp9wdb6zLY8fi0A",
      "project": "0y7RFnL8NkCdaXBu8Iog",
      "version": 1
     },
     "outputId": {
      "block": "kvbON4B7a56Se84APFu8",
      "project": "0y7RFnL8NkCdaXBu8Iog",
      "version": 1
     }
    }
   },
   "outputs": [
    {
     "data": {
      "text/html": [
       "<div>\n",
       "<style scoped>\n",
       "    .dataframe tbody tr th:only-of-type {\n",
       "        vertical-align: middle;\n",
       "    }\n",
       "\n",
       "    .dataframe tbody tr th {\n",
       "        vertical-align: top;\n",
       "    }\n",
       "\n",
       "    .dataframe thead th {\n",
       "        text-align: right;\n",
       "    }\n",
       "</style>\n",
       "<table border=\"1\" class=\"dataframe\">\n",
       "  <thead>\n",
       "    <tr style=\"text-align: right;\">\n",
       "      <th></th>\n",
       "      <th>STATIC_BFE</th>\n",
       "      <th>DEPTH</th>\n",
       "      <th>VELOCITY</th>\n",
       "      <th>BFE_REVERT</th>\n",
       "      <th>DEP_REVERT</th>\n",
       "    </tr>\n",
       "  </thead>\n",
       "  <tbody>\n",
       "    <tr>\n",
       "      <th>count</th>\n",
       "      <td>10550.000000</td>\n",
       "      <td>10550.000000</td>\n",
       "      <td>10550.0</td>\n",
       "      <td>10550.0</td>\n",
       "      <td>10550.0</td>\n",
       "    </tr>\n",
       "    <tr>\n",
       "      <th>mean</th>\n",
       "      <td>-9459.644872</td>\n",
       "      <td>-9970.561611</td>\n",
       "      <td>-9999.0</td>\n",
       "      <td>-9999.0</td>\n",
       "      <td>-9999.0</td>\n",
       "    </tr>\n",
       "    <tr>\n",
       "      <th>std</th>\n",
       "      <td>2261.157105</td>\n",
       "      <td>532.565234</td>\n",
       "      <td>0.0</td>\n",
       "      <td>0.0</td>\n",
       "      <td>0.0</td>\n",
       "    </tr>\n",
       "    <tr>\n",
       "      <th>min</th>\n",
       "      <td>-9999.000000</td>\n",
       "      <td>-9999.000000</td>\n",
       "      <td>-9999.0</td>\n",
       "      <td>-9999.0</td>\n",
       "      <td>-9999.0</td>\n",
       "    </tr>\n",
       "    <tr>\n",
       "      <th>25%</th>\n",
       "      <td>-9999.000000</td>\n",
       "      <td>-9999.000000</td>\n",
       "      <td>-9999.0</td>\n",
       "      <td>-9999.0</td>\n",
       "      <td>-9999.0</td>\n",
       "    </tr>\n",
       "    <tr>\n",
       "      <th>50%</th>\n",
       "      <td>-9999.000000</td>\n",
       "      <td>-9999.000000</td>\n",
       "      <td>-9999.0</td>\n",
       "      <td>-9999.0</td>\n",
       "      <td>-9999.0</td>\n",
       "    </tr>\n",
       "    <tr>\n",
       "      <th>75%</th>\n",
       "      <td>-9999.000000</td>\n",
       "      <td>-9999.000000</td>\n",
       "      <td>-9999.0</td>\n",
       "      <td>-9999.0</td>\n",
       "      <td>-9999.0</td>\n",
       "    </tr>\n",
       "    <tr>\n",
       "      <th>max</th>\n",
       "      <td>243.000000</td>\n",
       "      <td>3.000000</td>\n",
       "      <td>-9999.0</td>\n",
       "      <td>-9999.0</td>\n",
       "      <td>-9999.0</td>\n",
       "    </tr>\n",
       "  </tbody>\n",
       "</table>\n",
       "</div>"
      ],
      "text/plain": [
       "         STATIC_BFE         DEPTH  VELOCITY  BFE_REVERT  DEP_REVERT\n",
       "count  10550.000000  10550.000000   10550.0     10550.0     10550.0\n",
       "mean   -9459.644872  -9970.561611   -9999.0     -9999.0     -9999.0\n",
       "std     2261.157105    532.565234       0.0         0.0         0.0\n",
       "min    -9999.000000  -9999.000000   -9999.0     -9999.0     -9999.0\n",
       "25%    -9999.000000  -9999.000000   -9999.0     -9999.0     -9999.0\n",
       "50%    -9999.000000  -9999.000000   -9999.0     -9999.0     -9999.0\n",
       "75%    -9999.000000  -9999.000000   -9999.0     -9999.0     -9999.0\n",
       "max      243.000000      3.000000   -9999.0     -9999.0     -9999.0"
      ]
     },
     "execution_count": 33,
     "metadata": {},
     "output_type": "execute_result"
    }
   ],
   "source": [
    "geodf_readFromFile_HarrisFloodPolygons.describe()"
   ]
  },
  {
   "cell_type": "markdown",
   "id": "a13313b5",
   "metadata": {
    "iooxa": {
     "id": {
      "block": "QelOMgfzH2FHcbphw9nL",
      "project": "0y7RFnL8NkCdaXBu8Iog",
      "version": 1
     }
    }
   },
   "source": [
    "### Let's drop the columns we may not need for the map and use the rest to improve load speed"
   ]
  },
  {
   "cell_type": "code",
   "execution_count": 34,
   "id": "c5f10420",
   "metadata": {
    "iooxa": {
     "id": {
      "block": "vbi5FOJuaLNuWZ1COmya",
      "project": "0y7RFnL8NkCdaXBu8Iog",
      "version": 1
     },
     "outputId": null
    }
   },
   "outputs": [],
   "source": [
    "geodf_readFromFile_HarrisFloodPolygons_smaller = geodf_readFromFile_HarrisFloodPolygons[['DFIRM_ID','VERSION_ID', 'FLD_AR_ID','STUDY_TYP','FLD_ZONE','ZONE_SUBTY','SFHA_TF','DEPTH','SOURCE_CIT','geometry']]\n",
    "                                                                                        \n",
    "                                                                                        "
   ]
  },
  {
   "cell_type": "code",
   "execution_count": 35,
   "id": "1a3b88d0",
   "metadata": {
    "iooxa": {
     "id": {
      "block": "3gn3XyyyvtlT96CxPNQi",
      "project": "0y7RFnL8NkCdaXBu8Iog",
      "version": 1
     },
     "outputId": {
      "block": "53rPcamiOVgRaukrvQCS",
      "project": "0y7RFnL8NkCdaXBu8Iog",
      "version": 1
     }
    }
   },
   "outputs": [
    {
     "data": {
      "text/html": [
       "<div>\n",
       "<style scoped>\n",
       "    .dataframe tbody tr th:only-of-type {\n",
       "        vertical-align: middle;\n",
       "    }\n",
       "\n",
       "    .dataframe tbody tr th {\n",
       "        vertical-align: top;\n",
       "    }\n",
       "\n",
       "    .dataframe thead th {\n",
       "        text-align: right;\n",
       "    }\n",
       "</style>\n",
       "<table border=\"1\" class=\"dataframe\">\n",
       "  <thead>\n",
       "    <tr style=\"text-align: right;\">\n",
       "      <th></th>\n",
       "      <th>DFIRM_ID</th>\n",
       "      <th>VERSION_ID</th>\n",
       "      <th>FLD_AR_ID</th>\n",
       "      <th>STUDY_TYP</th>\n",
       "      <th>FLD_ZONE</th>\n",
       "      <th>ZONE_SUBTY</th>\n",
       "      <th>SFHA_TF</th>\n",
       "      <th>DEPTH</th>\n",
       "      <th>SOURCE_CIT</th>\n",
       "      <th>geometry</th>\n",
       "    </tr>\n",
       "  </thead>\n",
       "  <tbody>\n",
       "    <tr>\n",
       "      <th>0</th>\n",
       "      <td>48201C</td>\n",
       "      <td>1.1.1.0</td>\n",
       "      <td>48201C_1</td>\n",
       "      <td>SFHAs WITH HIGH FLOOD RISK</td>\n",
       "      <td>X</td>\n",
       "      <td>AREA OF MINIMAL FLOOD HAZARD</td>\n",
       "      <td>F</td>\n",
       "      <td>-9999.0</td>\n",
       "      <td>48201C_LOMC106</td>\n",
       "      <td>POLYGON ((-95.51752 29.94444, -95.51752 29.944...</td>\n",
       "    </tr>\n",
       "    <tr>\n",
       "      <th>1</th>\n",
       "      <td>48201C</td>\n",
       "      <td>1.1.1.0</td>\n",
       "      <td>48201C_2</td>\n",
       "      <td>SFHAs WITH HIGH FLOOD RISK</td>\n",
       "      <td>X</td>\n",
       "      <td>AREA OF MINIMAL FLOOD HAZARD</td>\n",
       "      <td>F</td>\n",
       "      <td>-9999.0</td>\n",
       "      <td>48201C_LOMC106</td>\n",
       "      <td>POLYGON ((-95.51807 29.93961, -95.51808 29.939...</td>\n",
       "    </tr>\n",
       "    <tr>\n",
       "      <th>2</th>\n",
       "      <td>48201C</td>\n",
       "      <td>1.1.1.0</td>\n",
       "      <td>48201C_3</td>\n",
       "      <td>NP</td>\n",
       "      <td>X</td>\n",
       "      <td>AREA OF MINIMAL FLOOD HAZARD</td>\n",
       "      <td>F</td>\n",
       "      <td>-9999.0</td>\n",
       "      <td>48201C_LOMC90</td>\n",
       "      <td>POLYGON ((-95.51803 30.10520, -95.52037 30.108...</td>\n",
       "    </tr>\n",
       "  </tbody>\n",
       "</table>\n",
       "</div>"
      ],
      "text/plain": [
       "  DFIRM_ID VERSION_ID FLD_AR_ID                   STUDY_TYP FLD_ZONE  \\\n",
       "0   48201C    1.1.1.0  48201C_1  SFHAs WITH HIGH FLOOD RISK        X   \n",
       "1   48201C    1.1.1.0  48201C_2  SFHAs WITH HIGH FLOOD RISK        X   \n",
       "2   48201C    1.1.1.0  48201C_3                          NP        X   \n",
       "\n",
       "                     ZONE_SUBTY SFHA_TF   DEPTH      SOURCE_CIT  \\\n",
       "0  AREA OF MINIMAL FLOOD HAZARD       F -9999.0  48201C_LOMC106   \n",
       "1  AREA OF MINIMAL FLOOD HAZARD       F -9999.0  48201C_LOMC106   \n",
       "2  AREA OF MINIMAL FLOOD HAZARD       F -9999.0   48201C_LOMC90   \n",
       "\n",
       "                                            geometry  \n",
       "0  POLYGON ((-95.51752 29.94444, -95.51752 29.944...  \n",
       "1  POLYGON ((-95.51807 29.93961, -95.51808 29.939...  \n",
       "2  POLYGON ((-95.51803 30.10520, -95.52037 30.108...  "
      ]
     },
     "execution_count": 35,
     "metadata": {},
     "output_type": "execute_result"
    }
   ],
   "source": [
    "geodf_readFromFile_HarrisFloodPolygons_smaller[0:3] "
   ]
  },
  {
   "cell_type": "code",
   "execution_count": 36,
   "id": "85373c0d",
   "metadata": {
    "iooxa": {
     "id": {
      "block": "E31pN5zBcJqu7kY0MGER",
      "project": "0y7RFnL8NkCdaXBu8Iog",
      "version": 1
     },
     "outputId": null
    }
   },
   "outputs": [],
   "source": [
    "from ipyleaflet import *\n",
    "import random"
   ]
  },
  {
   "cell_type": "code",
   "execution_count": 37,
   "id": "7f3a0b0b",
   "metadata": {
    "iooxa": {
     "id": {
      "block": "syVtOWfBqaqWGZVhthvZ",
      "project": "0y7RFnL8NkCdaXBu8Iog",
      "version": 1
     },
     "outputId": null
    }
   },
   "outputs": [],
   "source": [
    "geodf_readFromFile_HarrisFloodPolygons_smaller.to_file(\"FEMA_FIRM_FloodPolygons_exported20220905_lessColumns.geojson\", driver=\"GeoJSON\")  "
   ]
  },
  {
   "cell_type": "markdown",
   "id": "0c627ae8",
   "metadata": {
    "iooxa": {
     "id": {
      "block": "ssAFnWUdFuLEcqQPlzvw",
      "project": "0y7RFnL8NkCdaXBu8Iog",
      "version": 1
     }
    }
   },
   "source": [
    "Now let's read that back in "
   ]
  },
  {
   "cell_type": "code",
   "execution_count": 38,
   "id": "0eed5122",
   "metadata": {
    "iooxa": {
     "id": {
      "block": "QhpvvSNEHqkbNHhd3sV3",
      "project": "0y7RFnL8NkCdaXBu8Iog",
      "version": 1
     },
     "outputId": null
    }
   },
   "outputs": [],
   "source": [
    "geodf_readFromFile_HarrisFloodPolygons_smaller = gpd.read_file(\"FEMA_FIRM_FloodPolygons_exported20220905_lessColumns.geojson\")"
   ]
  },
  {
   "cell_type": "markdown",
   "id": "cc764042",
   "metadata": {
    "iooxa": {
     "id": {
      "block": "IG8FLQSXm5805ALtjfgr",
      "project": "0y7RFnL8NkCdaXBu8Iog",
      "version": 1
     }
    }
   },
   "source": [
    "### Now we will add the polygons with different risk as different colors"
   ]
  },
  {
   "cell_type": "code",
   "execution_count": 39,
   "id": "b6f1ecac",
   "metadata": {
    "iooxa": {
     "id": {
      "block": "2YJ6airk7utrzDibLRtg",
      "project": "0y7RFnL8NkCdaXBu8Iog",
      "version": 1
     },
     "outputId": {
      "block": "pZ8OybLZGf9XrLN4epAn",
      "project": "0y7RFnL8NkCdaXBu8Iog",
      "version": 1
     }
    }
   },
   "outputs": [
    {
     "data": {
      "text/plain": [
       "array(['AREA OF MINIMAL FLOOD HAZARD', None,\n",
       "       '0.2 PCT ANNUAL CHANCE FLOOD HAZARD', 'FLOODWAY',\n",
       "       'RIVERINE FLOODWAY SHOWN IN COASTAL ZONE',\n",
       "       'AREA WITH REDUCED FLOOD RISK DUE TO LEVEE'], dtype=object)"
      ]
     },
     "execution_count": 39,
     "metadata": {},
     "output_type": "execute_result"
    }
   ],
   "source": [
    "geodf_readFromFile_HarrisFloodPolygons_smaller['ZONE_SUBTY'].unique()"
   ]
  },
  {
   "cell_type": "code",
   "execution_count": 40,
   "id": "23286bb5",
   "metadata": {
    "iooxa": {
     "id": {
      "block": "k7oG2ZDPtmBeKA2b1LaS",
      "project": "0y7RFnL8NkCdaXBu8Iog",
      "version": 1
     },
     "outputId": null
    }
   },
   "outputs": [],
   "source": [
    "floodway = geodf_readFromFile_HarrisFloodPolygons_smaller[geodf_readFromFile_HarrisFloodPolygons_smaller['ZONE_SUBTY']=='FLOODWAY']\n"
   ]
  },
  {
   "cell_type": "code",
   "execution_count": 41,
   "id": "e77c845c",
   "metadata": {
    "iooxa": {
     "id": {
      "block": "iS5r4nw9Ie02dG6Z9mii",
      "project": "0y7RFnL8NkCdaXBu8Iog",
      "version": 1
     },
     "outputId": null
    }
   },
   "outputs": [],
   "source": [
    "floodwayCoastal = geodf_readFromFile_HarrisFloodPolygons_smaller[geodf_readFromFile_HarrisFloodPolygons_smaller['ZONE_SUBTY']=='RIVERINE FLOODWAY SHOWN IN COASTAL ZONE']\n"
   ]
  },
  {
   "cell_type": "code",
   "execution_count": 42,
   "id": "39331a7f",
   "metadata": {
    "iooxa": {
     "id": {
      "block": "LsE6eMTVn8q0zODC77QF",
      "project": "0y7RFnL8NkCdaXBu8Iog",
      "version": 1
     },
     "outputId": null
    }
   },
   "outputs": [],
   "source": [
    "leveeReducedRisk = geodf_readFromFile_HarrisFloodPolygons_smaller[geodf_readFromFile_HarrisFloodPolygons_smaller['ZONE_SUBTY']=='AREA WITH REDUCED FLOOD RISK DUE TO LEVEE']\n"
   ]
  },
  {
   "cell_type": "code",
   "execution_count": 43,
   "id": "fee0ab9f",
   "metadata": {
    "iooxa": {
     "id": {
      "block": "2uyeAtBs0tnEy6dAZxFM",
      "project": "0y7RFnL8NkCdaXBu8Iog",
      "version": 1
     },
     "outputId": null
    }
   },
   "outputs": [],
   "source": [
    "pointTwoPercentFloodplain = geodf_readFromFile_HarrisFloodPolygons_smaller[geodf_readFromFile_HarrisFloodPolygons_smaller['ZONE_SUBTY']=='0.2 PCT ANNUAL CHANCE FLOOD HAZARD']\n"
   ]
  },
  {
   "cell_type": "code",
   "execution_count": 44,
   "id": "8301ea62",
   "metadata": {
    "iooxa": {
     "id": {
      "block": "ug0eq1J03qRywsB4Jd9I",
      "project": "0y7RFnL8NkCdaXBu8Iog",
      "version": 1
     },
     "outputId": null
    }
   },
   "outputs": [],
   "source": [
    "onePercentFloodplain = geodf_readFromFile_HarrisFloodPolygons_smaller[geodf_readFromFile_HarrisFloodPolygons_smaller['ZONE_SUBTY']=='AREA OF MINIMAL FLOOD HAZARD']\n"
   ]
  },
  {
   "cell_type": "code",
   "execution_count": 45,
   "id": "75ea16ab",
   "metadata": {
    "iooxa": {
     "id": {
      "block": "vyTVIqVNHBSLSUMSaUDn",
      "project": "0y7RFnL8NkCdaXBu8Iog",
      "version": 1
     },
     "outputId": null
    }
   },
   "outputs": [],
   "source": [
    "noneFloodplain = geodf_readFromFile_HarrisFloodPolygons_smaller[geodf_readFromFile_HarrisFloodPolygons_smaller['ZONE_SUBTY']=='None']\n"
   ]
  },
  {
   "cell_type": "code",
   "execution_count": 46,
   "id": "249d9cb4",
   "metadata": {
    "iooxa": {
     "id": {
      "block": "MZpUQoWthwZp3hePTYry",
      "project": "0y7RFnL8NkCdaXBu8Iog",
      "version": 1
     },
     "outputId": {
      "block": "IRQEDLurR1m6lqSOAvwt",
      "project": "0y7RFnL8NkCdaXBu8Iog",
      "version": 1
     }
    },
    "scrolled": true
   },
   "outputs": [
    {
     "data": {
      "application/vnd.jupyter.widget-view+json": {
       "model_id": "7e130adc155b462994e64b4d5b8b4c43",
       "version_major": 2,
       "version_minor": 0
      },
      "text/plain": [
       "Map(center=[29.7604, -95.498], controls=(ZoomControl(options=['position', 'zoom_in_text', 'zoom_in_title', 'zo…"
      ]
     },
     "metadata": {},
     "output_type": "display_data"
    }
   ],
   "source": [
    "center = (29.7604, -95.498)\n",
    "\n",
    "m5 = Map(center=center, zoom=13)\n",
    "\n",
    "marker = Marker(location=center, draggable=True)\n",
    "m5.add_layer(marker);\n",
    "\n",
    "\n",
    "floodway_GeoData = GeoData(geo_dataframe = floodway, style = {'color': 'blue', 'opacity':1, 'weight':1.9, 'fillOpacity':0.5})\n",
    "\n",
    "floodwayCoastal_GeoData = GeoData(geo_dataframe = floodwayCoastal, style = {'color': 'green', 'opacity':1, 'weight':1.9, 'fillOpacity':0.5})\n",
    "leveeReducedRisk_GeoData = GeoData(geo_dataframe = leveeReducedRisk, style = {'color': 'pink', 'opacity':1, 'weight':1.9, 'fillOpacity':0.2})\n",
    "pointTwoPercentFloodplain_GeoData = GeoData(geo_dataframe = pointTwoPercentFloodplain, style = {'color': 'brown', 'opacity':1, 'weight':1.9, 'fillOpacity':0.2})\n",
    "#onePercentFloodplain_GeoData = GeoData(geo_dataframe = onePercentFloodplain, style = {'color': 'orange', 'opacity':1, 'weight':1.9, 'fillOpacity':0.2})\n",
    "noneFloodplain_GeoData = GeoData(geo_dataframe = noneFloodplain, style = {'color': 'tan', 'opacity':1, 'weight':1.9, 'fillOpacity':0.2})\n",
    "\n",
    "\n",
    "m5.add_layer(floodway_GeoData)\n",
    "m5.add_layer(floodwayCoastal_GeoData)\n",
    "m5.add_layer(leveeReducedRisk_GeoData)\n",
    "m5.add_layer(pointTwoPercentFloodplain_GeoData)\n",
    "#m5.add_layer(onePercentFloodplain_GeoData)\n",
    "m5.add_layer(noneFloodplain_GeoData)\n",
    "\n",
    "display(m5)\n",
    "\n",
    "# Now that the marker is on the Map, you can drag it with your mouse,\n",
    "# it will automatically update the `marker.location` attribute in Python\n",
    "\n",
    "# You can also update the marker location from Python, that will update the\n",
    "# marker location on the Map:\n",
    "marker.location = (50, 356)"
   ]
  },
  {
   "cell_type": "markdown",
   "id": "5b6bc6bd",
   "metadata": {
    "iooxa": {
     "id": {
      "block": "Fs4pQRNJnYKCGkZlNvUw",
      "project": "0y7RFnL8NkCdaXBu8Iog",
      "version": 1
     }
    }
   },
   "source": [
    "It seems like the 100 year floodplain is missing!!"
   ]
  },
  {
   "cell_type": "code",
   "execution_count": null,
   "id": "c0d6b83f",
   "metadata": {},
   "outputs": [],
   "source": []
  },
  {
   "cell_type": "code",
   "execution_count": null,
   "id": "69e0ab83",
   "metadata": {},
   "outputs": [],
   "source": []
  },
  {
   "cell_type": "code",
   "execution_count": 53,
   "id": "31afe90b",
   "metadata": {
    "iooxa": {
     "id": {
      "block": "DwL1kaflVdU5XNG50G0K",
      "project": "0y7RFnL8NkCdaXBu8Iog",
      "version": 1
     },
     "outputId": {
      "block": "BmP0RGVSkWKiXs6076WC",
      "project": "0y7RFnL8NkCdaXBu8Iog",
      "version": 1
     }
    }
   },
   "outputs": [
    {
     "data": {
      "text/plain": [
       "array(['X', 'AE', 'A', 'AO', 'VE', 'AREA NOT INCLUDED'], dtype=object)"
      ]
     },
     "execution_count": 53,
     "metadata": {},
     "output_type": "execute_result"
    }
   ],
   "source": [
    "geodf_readFromFile_HarrisFloodPolygons_smaller['FLD_ZONE'].unique()"
   ]
  },
  {
   "cell_type": "code",
   "execution_count": 48,
   "id": "5cb2af44",
   "metadata": {
    "iooxa": {
     "id": {
      "block": "4qX26Muir06uR2l0Xwgu",
      "project": "0y7RFnL8NkCdaXBu8Iog",
      "version": 1
     },
     "outputId": {
      "block": "yYeinJRyD1VbDxqXNuhc",
      "project": "0y7RFnL8NkCdaXBu8Iog",
      "version": 1
     }
    }
   },
   "outputs": [
    {
     "name": "stderr",
     "output_type": "stream",
     "text": [
      "/Users/justingosses/opt/miniconda3/envs/river-maps-experiments/lib/python3.10/site-packages/geopandas/geodataframe.py:1412: UserWarning: Boolean Series key will be reindexed to match DataFrame index.\n",
      "  result = super().__getitem__(key)\n"
     ]
    }
   ],
   "source": [
    "geodf_readFromFile_HarrisFloodPolygons_smaller_LetteredFloodZones = geodf_readFromFile_HarrisFloodPolygons_smaller[geodf_readFromFile_HarrisFloodPolygons_smaller['FLD_ZONE']!='AREA NOT INCLUDED']\n",
    "geodf_readFromFile_HarrisFloodPolygons_smaller_LetteredFloodZones = geodf_readFromFile_HarrisFloodPolygons_smaller_LetteredFloodZones[geodf_readFromFile_HarrisFloodPolygons_smaller['FLD_ZONE']!='X']\n"
   ]
  },
  {
   "cell_type": "code",
   "execution_count": 49,
   "id": "e0e682a7",
   "metadata": {
    "iooxa": {
     "id": {
      "block": "hqlJAo5bOhJdF5kBovjn",
      "project": "0y7RFnL8NkCdaXBu8Iog",
      "version": 1
     },
     "outputId": null
    }
   },
   "outputs": [],
   "source": [
    "\n",
    "\n",
    "\n",
    "geodf_readFromFile_HarrisFloodPolygons_smaller_LetteredFloodZones_X = geodf_readFromFile_HarrisFloodPolygons_smaller[geodf_readFromFile_HarrisFloodPolygons_smaller['FLD_ZONE']=='X']\n",
    "\n"
   ]
  },
  {
   "cell_type": "code",
   "execution_count": 55,
   "id": "688daa9e",
   "metadata": {},
   "outputs": [
    {
     "data": {
      "text/html": [
       "<div>\n",
       "<style scoped>\n",
       "    .dataframe tbody tr th:only-of-type {\n",
       "        vertical-align: middle;\n",
       "    }\n",
       "\n",
       "    .dataframe tbody tr th {\n",
       "        vertical-align: top;\n",
       "    }\n",
       "\n",
       "    .dataframe thead th {\n",
       "        text-align: right;\n",
       "    }\n",
       "</style>\n",
       "<table border=\"1\" class=\"dataframe\">\n",
       "  <thead>\n",
       "    <tr style=\"text-align: right;\">\n",
       "      <th></th>\n",
       "      <th>DFIRM_ID</th>\n",
       "      <th>VERSION_ID</th>\n",
       "      <th>FLD_AR_ID</th>\n",
       "      <th>STUDY_TYP</th>\n",
       "      <th>FLD_ZONE</th>\n",
       "      <th>ZONE_SUBTY</th>\n",
       "      <th>SFHA_TF</th>\n",
       "      <th>DEPTH</th>\n",
       "      <th>SOURCE_CIT</th>\n",
       "      <th>geometry</th>\n",
       "    </tr>\n",
       "  </thead>\n",
       "  <tbody>\n",
       "    <tr>\n",
       "      <th>0</th>\n",
       "      <td>48201C</td>\n",
       "      <td>1.1.1.0</td>\n",
       "      <td>48201C_1</td>\n",
       "      <td>SFHAs WITH HIGH FLOOD RISK</td>\n",
       "      <td>X</td>\n",
       "      <td>AREA OF MINIMAL FLOOD HAZARD</td>\n",
       "      <td>F</td>\n",
       "      <td>-9999.0</td>\n",
       "      <td>48201C_LOMC106</td>\n",
       "      <td>POLYGON ((-95.51752 29.94444, -95.51752 29.944...</td>\n",
       "    </tr>\n",
       "    <tr>\n",
       "      <th>1</th>\n",
       "      <td>48201C</td>\n",
       "      <td>1.1.1.0</td>\n",
       "      <td>48201C_2</td>\n",
       "      <td>SFHAs WITH HIGH FLOOD RISK</td>\n",
       "      <td>X</td>\n",
       "      <td>AREA OF MINIMAL FLOOD HAZARD</td>\n",
       "      <td>F</td>\n",
       "      <td>-9999.0</td>\n",
       "      <td>48201C_LOMC106</td>\n",
       "      <td>POLYGON ((-95.51807 29.93961, -95.51808 29.939...</td>\n",
       "    </tr>\n",
       "    <tr>\n",
       "      <th>2</th>\n",
       "      <td>48201C</td>\n",
       "      <td>1.1.1.0</td>\n",
       "      <td>48201C_3</td>\n",
       "      <td>NP</td>\n",
       "      <td>X</td>\n",
       "      <td>AREA OF MINIMAL FLOOD HAZARD</td>\n",
       "      <td>F</td>\n",
       "      <td>-9999.0</td>\n",
       "      <td>48201C_LOMC90</td>\n",
       "      <td>POLYGON ((-95.51803 30.10520, -95.52037 30.108...</td>\n",
       "    </tr>\n",
       "    <tr>\n",
       "      <th>6</th>\n",
       "      <td>48201C</td>\n",
       "      <td>1.1.1.0</td>\n",
       "      <td>48201C_7</td>\n",
       "      <td>NP</td>\n",
       "      <td>X</td>\n",
       "      <td>0.2 PCT ANNUAL CHANCE FLOOD HAZARD</td>\n",
       "      <td>F</td>\n",
       "      <td>-9999.0</td>\n",
       "      <td>48201C_LOMC90</td>\n",
       "      <td>POLYGON ((-95.51461 30.12651, -95.51450 30.126...</td>\n",
       "    </tr>\n",
       "    <tr>\n",
       "      <th>7</th>\n",
       "      <td>48201C</td>\n",
       "      <td>1.1.1.0</td>\n",
       "      <td>48201C_8</td>\n",
       "      <td>NP</td>\n",
       "      <td>X</td>\n",
       "      <td>0.2 PCT ANNUAL CHANCE FLOOD HAZARD</td>\n",
       "      <td>F</td>\n",
       "      <td>-9999.0</td>\n",
       "      <td>48201C_LOMC90</td>\n",
       "      <td>POLYGON ((-95.51119 30.12650, -95.51295 30.125...</td>\n",
       "    </tr>\n",
       "  </tbody>\n",
       "</table>\n",
       "</div>"
      ],
      "text/plain": [
       "  DFIRM_ID VERSION_ID FLD_AR_ID                   STUDY_TYP FLD_ZONE  \\\n",
       "0   48201C    1.1.1.0  48201C_1  SFHAs WITH HIGH FLOOD RISK        X   \n",
       "1   48201C    1.1.1.0  48201C_2  SFHAs WITH HIGH FLOOD RISK        X   \n",
       "2   48201C    1.1.1.0  48201C_3                          NP        X   \n",
       "6   48201C    1.1.1.0  48201C_7                          NP        X   \n",
       "7   48201C    1.1.1.0  48201C_8                          NP        X   \n",
       "\n",
       "                           ZONE_SUBTY SFHA_TF   DEPTH      SOURCE_CIT  \\\n",
       "0        AREA OF MINIMAL FLOOD HAZARD       F -9999.0  48201C_LOMC106   \n",
       "1        AREA OF MINIMAL FLOOD HAZARD       F -9999.0  48201C_LOMC106   \n",
       "2        AREA OF MINIMAL FLOOD HAZARD       F -9999.0   48201C_LOMC90   \n",
       "6  0.2 PCT ANNUAL CHANCE FLOOD HAZARD       F -9999.0   48201C_LOMC90   \n",
       "7  0.2 PCT ANNUAL CHANCE FLOOD HAZARD       F -9999.0   48201C_LOMC90   \n",
       "\n",
       "                                            geometry  \n",
       "0  POLYGON ((-95.51752 29.94444, -95.51752 29.944...  \n",
       "1  POLYGON ((-95.51807 29.93961, -95.51808 29.939...  \n",
       "2  POLYGON ((-95.51803 30.10520, -95.52037 30.108...  \n",
       "6  POLYGON ((-95.51461 30.12651, -95.51450 30.126...  \n",
       "7  POLYGON ((-95.51119 30.12650, -95.51295 30.125...  "
      ]
     },
     "execution_count": 55,
     "metadata": {},
     "output_type": "execute_result"
    }
   ],
   "source": [
    "geodf_readFromFile_HarrisFloodPolygons_smaller_LetteredFloodZones_X[0:5]"
   ]
  },
  {
   "cell_type": "code",
   "execution_count": 54,
   "id": "791325de",
   "metadata": {
    "iooxa": {
     "id": {
      "block": "YysW0PI6DHnFAbJG2XaL",
      "project": "0y7RFnL8NkCdaXBu8Iog",
      "version": 1
     },
     "outputId": {
      "block": "P4MkQhIaoyybHSWQyer0",
      "project": "0y7RFnL8NkCdaXBu8Iog",
      "version": 1
     }
    }
   },
   "outputs": [
    {
     "data": {
      "application/vnd.jupyter.widget-view+json": {
       "model_id": "4d85190effe746fb9bb51868ae6cbb0f",
       "version_major": 2,
       "version_minor": 0
      },
      "text/plain": [
       "Map(center=[29.7604, -95.498], controls=(ZoomControl(options=['position', 'zoom_in_text', 'zoom_in_title', 'zo…"
      ]
     },
     "metadata": {},
     "output_type": "display_data"
    }
   ],
   "source": [
    "center = (29.7604, -95.498)\n",
    "\n",
    "m3 = Map(center=center, zoom=13)\n",
    "\n",
    "marker = Marker(location=center, draggable=True)\n",
    "m3.add_layer(marker);\n",
    "\n",
    "\n",
    "def random_color(feature):\n",
    "    return {\n",
    "        'color': 'black',\n",
    "        'fillColor': random.choice(['red', 'yellow', 'green', 'orange']),\n",
    "    }\n",
    "\n",
    "floodway_GeoData = GeoData(geo_dataframe = floodway, style = {'color': 'blue', 'opacity':1, 'weight':1.9, 'fillOpacity':0.5})\n",
    "oneHundredYearAndFloodway_GeoData = GeoData(geo_dataframe = geodf_readFromFile_HarrisFloodPolygons_smaller_LetteredFloodZones, style = {'color': 'blue', 'opacity':1, 'weight':1.9, 'fillOpacity':0.3})\n",
    "pointTwoPercentFloodplain_GeoData = GeoData(geo_dataframe = pointTwoPercentFloodplain, style = {'color': 'brown', 'opacity':1, 'weight':1.9, 'fillOpacity':0.2})\n",
    "\n",
    "\n",
    "\n",
    "m3.add_layer(floodway_GeoData )\n",
    "m3.add_layer(oneHundredYearAndFloodway_GeoData)\n",
    "m3.add_layer(pointTwoPercentFloodplain_GeoData)\n",
    "\n",
    "\n",
    "\n",
    "display(m3)\n",
    "\n",
    "# Now that the marker is on the Map, you can drag it with your mouse,\n",
    "# it will automatically update the `marker.location` attribute in Python\n",
    "\n",
    "# You can also update the marker location from Python, that will update the\n",
    "# marker location on the Map:\n",
    "marker.location = (50, 356)"
   ]
  },
  {
   "cell_type": "markdown",
   "id": "6656df36",
   "metadata": {
    "iooxa": {
     "id": {
      "block": "Ajnid07L8WM383wvM99R",
      "project": "0y7RFnL8NkCdaXBu8Iog",
      "version": 1
     }
    }
   },
   "source": [
    "### Now we will add zone X to the map as an experiment"
   ]
  },
  {
   "cell_type": "code",
   "execution_count": 51,
   "id": "49d77654",
   "metadata": {
    "iooxa": {
     "id": {
      "block": "iORuUGOMgUIgBQEO2lIC",
      "project": "0y7RFnL8NkCdaXBu8Iog",
      "version": 1
     },
     "outputId": {
      "block": "wCujAfV17Lk7CEPcfLke",
      "project": "0y7RFnL8NkCdaXBu8Iog",
      "version": 1
     }
    }
   },
   "outputs": [
    {
     "data": {
      "application/vnd.jupyter.widget-view+json": {
       "model_id": "111726a06f774c4591f101cda7b7a420",
       "version_major": 2,
       "version_minor": 0
      },
      "text/plain": [
       "Map(center=[29.7604, -95.498], controls=(ZoomControl(options=['position', 'zoom_in_text', 'zoom_in_title', 'zo…"
      ]
     },
     "metadata": {},
     "output_type": "display_data"
    }
   ],
   "source": [
    "center = (29.7604, -95.498)\n",
    "\n",
    "m6 = Map(center=center, zoom=13)\n",
    "\n",
    "marker = Marker(location=center, draggable=True)\n",
    "m6.add_layer(marker);\n",
    "\n",
    "\n",
    "floodway_GeoData = GeoData(geo_dataframe = floodway, style = {'color': 'blue', 'opacity':1, 'weight':1.9, 'fillOpacity':0.5})\n",
    "oneHundredYearAndFloodway_GeoData = GeoData(geo_dataframe = geodf_readFromFile_HarrisFloodPolygons_smaller_LetteredFloodZones, style = {'color': 'blue', 'opacity':1, 'weight':1.9, 'fillOpacity':0.3})\n",
    "pointTwoPercentFloodplain_GeoData = GeoData(geo_dataframe = pointTwoPercentFloodplain, style = {'color': 'brown', 'opacity':1, 'weight':1.9, 'fillOpacity':0.2})\n",
    "\n",
    "X_GeoData = GeoData(geo_dataframe = geodf_readFromFile_HarrisFloodPolygons_smaller_LetteredFloodZones_X, style = {'color': 'pink', 'opacity':1, 'weight':1, 'fillOpacity':0.2})\n",
    "\n",
    "\n",
    "\n",
    "m6.add_layer(floodway_GeoData )\n",
    "m6.add_layer(oneHundredYearAndFloodway_GeoData)\n",
    "m6.add_layer(pointTwoPercentFloodplain_GeoData)\n",
    "m6.add_layer(X_GeoData )\n",
    "\n",
    "\n",
    "\n",
    "display(m6)\n",
    "\n",
    "# Now that the marker is on the Map, you can drag it with your mouse,\n",
    "# it will automatically update the `marker.location` attribute in Python\n",
    "\n",
    "# You can also update the marker location from Python, that will update the\n",
    "# marker location on the Map:\n",
    "marker.location = (29.7604, -95.498)"
   ]
  },
  {
   "cell_type": "markdown",
   "id": "8188a5ef",
   "metadata": {
    "iooxa": {
     "id": {
      "block": "ivsnTc5miTS3pkwYJnTu",
      "project": "0y7RFnL8NkCdaXBu8Iog",
      "version": 1
     }
    }
   },
   "source": [
    "### Definitions of flood zones letters and such is in this document: \n",
    "\n",
    "https://www.fema.gov/pdf/floodplain/nfip_sg_unit_3.pdf\n",
    "\n",
    "and a good diagram is on page 3-29"
   ]
  },
  {
   "cell_type": "markdown",
   "id": "7416c7e7",
   "metadata": {
    "iooxa": {
     "id": {
      "block": "6NwF80Av6018rR165wMU",
      "project": "0y7RFnL8NkCdaXBu8Iog",
      "version": 1
     }
    }
   },
   "source": [
    "## Need to do:\n",
    "- Read that PDF and then \n",
    "- make a geojson of only relevant polygons mapped into:\n",
    "  - a single geojson with properties for:\n",
    "    - FEMA letters, \n",
    "    - risk column, and \n",
    "    - translated into floodway, 100 year floodplain and 500 year floodplain\n",
    "- and maybe write a blog post about all the wrong places I looked!"
   ]
  },
  {
   "cell_type": "markdown",
   "id": "1a2f56e3",
   "metadata": {},
   "source": [
    "### Combinging the 3 different colored sets of polygons into a single geodataframe"
   ]
  },
  {
   "cell_type": "code",
   "execution_count": 57,
   "id": "e51fe676",
   "metadata": {},
   "outputs": [],
   "source": [
    "import pandas as pd"
   ]
  },
  {
   "cell_type": "code",
   "execution_count": 58,
   "id": "4d0f8f43",
   "metadata": {},
   "outputs": [],
   "source": [
    "floodplains_geodf = gpd.GeoDataFrame( pd.concat( [floodway,geodf_readFromFile_HarrisFloodPolygons_smaller_LetteredFloodZones,pointTwoPercentFloodplain], ignore_index=True) )"
   ]
  },
  {
   "cell_type": "markdown",
   "id": "e9684a0a",
   "metadata": {},
   "source": [
    "It should still have the same columns"
   ]
  },
  {
   "cell_type": "code",
   "execution_count": 60,
   "id": "71b40aea",
   "metadata": {},
   "outputs": [
    {
     "data": {
      "text/html": [
       "<div>\n",
       "<style scoped>\n",
       "    .dataframe tbody tr th:only-of-type {\n",
       "        vertical-align: middle;\n",
       "    }\n",
       "\n",
       "    .dataframe tbody tr th {\n",
       "        vertical-align: top;\n",
       "    }\n",
       "\n",
       "    .dataframe thead th {\n",
       "        text-align: right;\n",
       "    }\n",
       "</style>\n",
       "<table border=\"1\" class=\"dataframe\">\n",
       "  <thead>\n",
       "    <tr style=\"text-align: right;\">\n",
       "      <th></th>\n",
       "      <th>DFIRM_ID</th>\n",
       "      <th>VERSION_ID</th>\n",
       "      <th>FLD_AR_ID</th>\n",
       "      <th>STUDY_TYP</th>\n",
       "      <th>FLD_ZONE</th>\n",
       "      <th>ZONE_SUBTY</th>\n",
       "      <th>SFHA_TF</th>\n",
       "      <th>DEPTH</th>\n",
       "      <th>SOURCE_CIT</th>\n",
       "      <th>geometry</th>\n",
       "    </tr>\n",
       "  </thead>\n",
       "  <tbody>\n",
       "    <tr>\n",
       "      <th>0</th>\n",
       "      <td>48201C</td>\n",
       "      <td>1.1.1.0</td>\n",
       "      <td>48201C_1212</td>\n",
       "      <td>NP</td>\n",
       "      <td>AE</td>\n",
       "      <td>FLOODWAY</td>\n",
       "      <td>T</td>\n",
       "      <td>-9999.0</td>\n",
       "      <td>48201C_STUDY1</td>\n",
       "      <td>POLYGON ((-94.94307 29.72013, -94.94307 29.720...</td>\n",
       "    </tr>\n",
       "    <tr>\n",
       "      <th>1</th>\n",
       "      <td>48201C</td>\n",
       "      <td>1.1.1.0</td>\n",
       "      <td>48201C_8720</td>\n",
       "      <td>NP</td>\n",
       "      <td>AE</td>\n",
       "      <td>FLOODWAY</td>\n",
       "      <td>T</td>\n",
       "      <td>-9999.0</td>\n",
       "      <td>48201C_STUDY1</td>\n",
       "      <td>POLYGON ((-95.12871 29.67164, -95.12869 29.670...</td>\n",
       "    </tr>\n",
       "    <tr>\n",
       "      <th>2</th>\n",
       "      <td>48201C</td>\n",
       "      <td>1.1.1.0</td>\n",
       "      <td>48201C_8722</td>\n",
       "      <td>NP</td>\n",
       "      <td>AE</td>\n",
       "      <td>FLOODWAY</td>\n",
       "      <td>T</td>\n",
       "      <td>-9999.0</td>\n",
       "      <td>48201C_STUDY1</td>\n",
       "      <td>POLYGON ((-95.28631 29.59914, -95.28623 29.599...</td>\n",
       "    </tr>\n",
       "  </tbody>\n",
       "</table>\n",
       "</div>"
      ],
      "text/plain": [
       "  DFIRM_ID VERSION_ID    FLD_AR_ID STUDY_TYP FLD_ZONE ZONE_SUBTY SFHA_TF  \\\n",
       "0   48201C    1.1.1.0  48201C_1212        NP       AE   FLOODWAY       T   \n",
       "1   48201C    1.1.1.0  48201C_8720        NP       AE   FLOODWAY       T   \n",
       "2   48201C    1.1.1.0  48201C_8722        NP       AE   FLOODWAY       T   \n",
       "\n",
       "    DEPTH     SOURCE_CIT                                           geometry  \n",
       "0 -9999.0  48201C_STUDY1  POLYGON ((-94.94307 29.72013, -94.94307 29.720...  \n",
       "1 -9999.0  48201C_STUDY1  POLYGON ((-95.12871 29.67164, -95.12869 29.670...  \n",
       "2 -9999.0  48201C_STUDY1  POLYGON ((-95.28631 29.59914, -95.28623 29.599...  "
      ]
     },
     "execution_count": 60,
     "metadata": {},
     "output_type": "execute_result"
    }
   ],
   "source": [
    "floodplains_geodf[0:3]"
   ]
  },
  {
   "cell_type": "markdown",
   "id": "7301e99b",
   "metadata": {},
   "source": [
    "### Writing combined geodataframe of floodplains & floodway into single geojson"
   ]
  },
  {
   "cell_type": "code",
   "execution_count": 62,
   "id": "4c4bf57b",
   "metadata": {},
   "outputs": [],
   "source": [
    "floodplains_geodf.to_file(\"../created_data/FEMA_FIRM_FloodPolygons_forDisplay_fromNFHL_exported2022_09.geojson\", driver=\"GeoJSON\")  "
   ]
  },
  {
   "cell_type": "code",
   "execution_count": 75,
   "id": "7e6ab59a",
   "metadata": {},
   "outputs": [
    {
     "name": "stdout",
     "output_type": "stream",
     "text": [
      "/Users/justingosses/Code/spoken-floodplain/data\n"
     ]
    }
   ],
   "source": [
    "cd .."
   ]
  },
  {
   "cell_type": "code",
   "execution_count": 76,
   "id": "76e60309",
   "metadata": {},
   "outputs": [
    {
     "name": "stdout",
     "output_type": "stream",
     "text": [
      "/Users/justingosses/Code/spoken-floodplain/data/created_data\n"
     ]
    }
   ],
   "source": [
    "cd 'created_data'"
   ]
  },
  {
   "cell_type": "code",
   "execution_count": 81,
   "id": "fdee9d17",
   "metadata": {},
   "outputs": [
    {
     "name": "stdout",
     "output_type": "stream",
     "text": [
      "FEMA_FIRM_FloodPolygons_forDisplay_fromNFHL_exported202209.geojson\r\n"
     ]
    }
   ],
   "source": [
    "ls"
   ]
  },
  {
   "cell_type": "markdown",
   "id": "a36fe0a0",
   "metadata": {},
   "source": [
    "### ReLoad and Display on Map"
   ]
  },
  {
   "cell_type": "code",
   "execution_count": 82,
   "id": "da361eca",
   "metadata": {},
   "outputs": [],
   "source": [
    "geodf_readFromFile_FEMA_FIRM_FloodPolygons_forDisplay_fromNFHL_exported202209 = gpd.read_file(\"FEMA_FIRM_FloodPolygons_forDisplay_fromNFHL_exported202209.geojson\")"
   ]
  },
  {
   "cell_type": "code",
   "execution_count": 84,
   "id": "8f78a966",
   "metadata": {},
   "outputs": [
    {
     "data": {
      "text/plain": [
       "9728"
      ]
     },
     "execution_count": 84,
     "metadata": {},
     "output_type": "execute_result"
    }
   ],
   "source": [
    "len(geodf_readFromFile_FEMA_FIRM_FloodPolygons_forDisplay_fromNFHL_exported202209)"
   ]
  },
  {
   "cell_type": "code",
   "execution_count": 89,
   "id": "7959bc06",
   "metadata": {},
   "outputs": [
    {
     "data": {
      "application/vnd.jupyter.widget-view+json": {
       "model_id": "9d705daf710f46a393b99cf4d7cf2dde",
       "version_major": 2,
       "version_minor": 0
      },
      "text/plain": [
       "Map(center=[29.7604, -95.498], controls=(ZoomControl(options=['position', 'zoom_in_text', 'zoom_in_title', 'zo…"
      ]
     },
     "metadata": {},
     "output_type": "display_data"
    }
   ],
   "source": [
    "center = (29.7604, -95.498)\n",
    "\n",
    "m7 = Map(center=center, zoom=13)\n",
    "\n",
    "marker = Marker(location=center, draggable=True)\n",
    "m7.add_layer(marker);\n",
    "\n",
    "\n",
    "combined_GeoData = GeoData(geo_dataframe = geodf_readFromFile_FEMA_FIRM_FloodPolygons_forDisplay_fromNFHL_exported202209, style={'color': 'pink', 'opacity':1, 'weight':1, 'fillOpacity':0.5})\n",
    "\n",
    "\n",
    "\n",
    "m7.add_layer(combined_GeoData)\n",
    "\n",
    "\n",
    "display(m7)\n",
    "\n",
    "# Now that the marker is on the Map, you can drag it with your mouse,\n",
    "# it will automatically update the `marker.location` attribute in Python\n",
    "\n",
    "# You can also update the marker location from Python, that will update the\n",
    "# marker location on the Map:\n",
    "marker.location = (29.7604, -95.498)"
   ]
  },
  {
   "cell_type": "markdown",
   "id": "fe3d8a84",
   "metadata": {},
   "source": [
    "### When saved this file was 172MB. How can we make it smaller?"
   ]
  },
  {
   "cell_type": "code",
   "execution_count": 92,
   "id": "38317aa7",
   "metadata": {},
   "outputs": [
    {
     "data": {
      "text/plain": [
       "Index           128\n",
       "DFIRM_ID      77824\n",
       "VERSION_ID    77824\n",
       "FLD_AR_ID     77824\n",
       "STUDY_TYP     77824\n",
       "FLD_ZONE      77824\n",
       "ZONE_SUBTY    77824\n",
       "SFHA_TF       77824\n",
       "DEPTH         77824\n",
       "SOURCE_CIT    77824\n",
       "geometry      77824\n",
       "dtype: int64"
      ]
     },
     "execution_count": 92,
     "metadata": {},
     "output_type": "execute_result"
    }
   ],
   "source": [
    "geodf_readFromFile_FEMA_FIRM_FloodPolygons_forDisplay_fromNFHL_exported202209.memory_usage()"
   ]
  },
  {
   "cell_type": "markdown",
   "id": "1eeb5b27",
   "metadata": {},
   "source": [
    "Do we need all these columns?"
   ]
  },
  {
   "cell_type": "code",
   "execution_count": 102,
   "id": "a5cb0111",
   "metadata": {},
   "outputs": [
    {
     "data": {
      "text/html": [
       "<div>\n",
       "<style scoped>\n",
       "    .dataframe tbody tr th:only-of-type {\n",
       "        vertical-align: middle;\n",
       "    }\n",
       "\n",
       "    .dataframe tbody tr th {\n",
       "        vertical-align: top;\n",
       "    }\n",
       "\n",
       "    .dataframe thead th {\n",
       "        text-align: right;\n",
       "    }\n",
       "</style>\n",
       "<table border=\"1\" class=\"dataframe\">\n",
       "  <thead>\n",
       "    <tr style=\"text-align: right;\">\n",
       "      <th></th>\n",
       "      <th>VERSION_ID</th>\n",
       "      <th>FLD_AR_ID</th>\n",
       "      <th>STUDY_TYP</th>\n",
       "      <th>FLD_ZONE</th>\n",
       "      <th>ZONE_SUBTY</th>\n",
       "      <th>SFHA_TF</th>\n",
       "      <th>geometry</th>\n",
       "    </tr>\n",
       "  </thead>\n",
       "  <tbody>\n",
       "    <tr>\n",
       "      <th>9628</th>\n",
       "      <td>1.1.1.0</td>\n",
       "      <td>48201C_10189</td>\n",
       "      <td>SFHAs WITH HIGH FLOOD RISK</td>\n",
       "      <td>X</td>\n",
       "      <td>0.2 PCT ANNUAL CHANCE FLOOD HAZARD</td>\n",
       "      <td>F</td>\n",
       "      <td>POLYGON ((-95.69191 30.05207, -95.69194 30.052...</td>\n",
       "    </tr>\n",
       "    <tr>\n",
       "      <th>9629</th>\n",
       "      <td>1.1.1.0</td>\n",
       "      <td>48201C_10190</td>\n",
       "      <td>SFHAs WITH HIGH FLOOD RISK</td>\n",
       "      <td>X</td>\n",
       "      <td>0.2 PCT ANNUAL CHANCE FLOOD HAZARD</td>\n",
       "      <td>F</td>\n",
       "      <td>POLYGON ((-95.70649 30.04330, -95.70647 30.043...</td>\n",
       "    </tr>\n",
       "    <tr>\n",
       "      <th>9630</th>\n",
       "      <td>1.1.1.0</td>\n",
       "      <td>48201C_10191</td>\n",
       "      <td>SFHAs WITH HIGH FLOOD RISK</td>\n",
       "      <td>X</td>\n",
       "      <td>0.2 PCT ANNUAL CHANCE FLOOD HAZARD</td>\n",
       "      <td>F</td>\n",
       "      <td>POLYGON ((-95.70669 30.04295, -95.70667 30.043...</td>\n",
       "    </tr>\n",
       "    <tr>\n",
       "      <th>9631</th>\n",
       "      <td>1.1.1.0</td>\n",
       "      <td>48201C_10192</td>\n",
       "      <td>SFHAs WITH HIGH FLOOD RISK</td>\n",
       "      <td>X</td>\n",
       "      <td>0.2 PCT ANNUAL CHANCE FLOOD HAZARD</td>\n",
       "      <td>F</td>\n",
       "      <td>POLYGON ((-95.70629 30.04233, -95.70630 30.042...</td>\n",
       "    </tr>\n",
       "    <tr>\n",
       "      <th>9632</th>\n",
       "      <td>1.1.1.0</td>\n",
       "      <td>48201C_10193</td>\n",
       "      <td>SFHAs WITH HIGH FLOOD RISK</td>\n",
       "      <td>X</td>\n",
       "      <td>0.2 PCT ANNUAL CHANCE FLOOD HAZARD</td>\n",
       "      <td>F</td>\n",
       "      <td>POLYGON ((-95.70588 30.04280, -95.70589 30.042...</td>\n",
       "    </tr>\n",
       "    <tr>\n",
       "      <th>9633</th>\n",
       "      <td>1.1.1.0</td>\n",
       "      <td>48201C_10194</td>\n",
       "      <td>SFHAs WITH HIGH FLOOD RISK</td>\n",
       "      <td>X</td>\n",
       "      <td>0.2 PCT ANNUAL CHANCE FLOOD HAZARD</td>\n",
       "      <td>F</td>\n",
       "      <td>POLYGON ((-95.70601 30.04300, -95.70602 30.043...</td>\n",
       "    </tr>\n",
       "    <tr>\n",
       "      <th>9634</th>\n",
       "      <td>1.1.1.0</td>\n",
       "      <td>48201C_10195</td>\n",
       "      <td>SFHAs WITH HIGH FLOOD RISK</td>\n",
       "      <td>X</td>\n",
       "      <td>0.2 PCT ANNUAL CHANCE FLOOD HAZARD</td>\n",
       "      <td>F</td>\n",
       "      <td>POLYGON ((-95.70511 30.04287, -95.70511 30.042...</td>\n",
       "    </tr>\n",
       "    <tr>\n",
       "      <th>9635</th>\n",
       "      <td>1.1.1.0</td>\n",
       "      <td>48201C_10196</td>\n",
       "      <td>SFHAs WITH HIGH FLOOD RISK</td>\n",
       "      <td>X</td>\n",
       "      <td>0.2 PCT ANNUAL CHANCE FLOOD HAZARD</td>\n",
       "      <td>F</td>\n",
       "      <td>POLYGON ((-95.70492 30.04291, -95.70492 30.042...</td>\n",
       "    </tr>\n",
       "    <tr>\n",
       "      <th>9636</th>\n",
       "      <td>1.1.1.0</td>\n",
       "      <td>48201C_10228</td>\n",
       "      <td>NP</td>\n",
       "      <td>X</td>\n",
       "      <td>0.2 PCT ANNUAL CHANCE FLOOD HAZARD</td>\n",
       "      <td>F</td>\n",
       "      <td>POLYGON ((-95.16102 29.71261, -95.16104 29.712...</td>\n",
       "    </tr>\n",
       "    <tr>\n",
       "      <th>9637</th>\n",
       "      <td>1.1.1.0</td>\n",
       "      <td>48201C_10230</td>\n",
       "      <td>NP</td>\n",
       "      <td>X</td>\n",
       "      <td>0.2 PCT ANNUAL CHANCE FLOOD HAZARD</td>\n",
       "      <td>F</td>\n",
       "      <td>POLYGON ((-95.15775 29.71958, -95.15781 29.719...</td>\n",
       "    </tr>\n",
       "    <tr>\n",
       "      <th>9638</th>\n",
       "      <td>1.1.1.0</td>\n",
       "      <td>48201C_10232</td>\n",
       "      <td>NP</td>\n",
       "      <td>X</td>\n",
       "      <td>0.2 PCT ANNUAL CHANCE FLOOD HAZARD</td>\n",
       "      <td>F</td>\n",
       "      <td>POLYGON ((-95.16565 29.72067, -95.16580 29.720...</td>\n",
       "    </tr>\n",
       "    <tr>\n",
       "      <th>9639</th>\n",
       "      <td>1.1.1.0</td>\n",
       "      <td>48201C_10234</td>\n",
       "      <td>NP</td>\n",
       "      <td>X</td>\n",
       "      <td>0.2 PCT ANNUAL CHANCE FLOOD HAZARD</td>\n",
       "      <td>F</td>\n",
       "      <td>POLYGON ((-95.15883 29.72001, -95.15905 29.720...</td>\n",
       "    </tr>\n",
       "    <tr>\n",
       "      <th>9640</th>\n",
       "      <td>1.1.1.0</td>\n",
       "      <td>48201C_10235</td>\n",
       "      <td>NP</td>\n",
       "      <td>X</td>\n",
       "      <td>0.2 PCT ANNUAL CHANCE FLOOD HAZARD</td>\n",
       "      <td>F</td>\n",
       "      <td>POLYGON ((-95.16545 29.71951, -95.16558 29.719...</td>\n",
       "    </tr>\n",
       "    <tr>\n",
       "      <th>9641</th>\n",
       "      <td>1.1.1.0</td>\n",
       "      <td>48201C_10238</td>\n",
       "      <td>NP</td>\n",
       "      <td>X</td>\n",
       "      <td>0.2 PCT ANNUAL CHANCE FLOOD HAZARD</td>\n",
       "      <td>F</td>\n",
       "      <td>POLYGON ((-95.16141 29.72176, -95.16148 29.721...</td>\n",
       "    </tr>\n",
       "    <tr>\n",
       "      <th>9642</th>\n",
       "      <td>1.1.1.0</td>\n",
       "      <td>48201C_10241</td>\n",
       "      <td>NP</td>\n",
       "      <td>X</td>\n",
       "      <td>0.2 PCT ANNUAL CHANCE FLOOD HAZARD</td>\n",
       "      <td>F</td>\n",
       "      <td>POLYGON ((-95.16092 29.72198, -95.16093 29.721...</td>\n",
       "    </tr>\n",
       "    <tr>\n",
       "      <th>9643</th>\n",
       "      <td>1.1.1.0</td>\n",
       "      <td>48201C_10264</td>\n",
       "      <td>NP</td>\n",
       "      <td>X</td>\n",
       "      <td>0.2 PCT ANNUAL CHANCE FLOOD HAZARD</td>\n",
       "      <td>F</td>\n",
       "      <td>POLYGON ((-95.55981 29.99491, -95.55985 29.994...</td>\n",
       "    </tr>\n",
       "    <tr>\n",
       "      <th>9644</th>\n",
       "      <td>1.1.1.0</td>\n",
       "      <td>48201C_10271</td>\n",
       "      <td>SFHAs WITH HIGH FLOOD RISK</td>\n",
       "      <td>X</td>\n",
       "      <td>0.2 PCT ANNUAL CHANCE FLOOD HAZARD</td>\n",
       "      <td>F</td>\n",
       "      <td>POLYGON ((-95.57363 30.00809, -95.57361 30.008...</td>\n",
       "    </tr>\n",
       "    <tr>\n",
       "      <th>9645</th>\n",
       "      <td>1.1.1.0</td>\n",
       "      <td>48201C_10299</td>\n",
       "      <td>NP</td>\n",
       "      <td>X</td>\n",
       "      <td>0.2 PCT ANNUAL CHANCE FLOOD HAZARD</td>\n",
       "      <td>F</td>\n",
       "      <td>POLYGON ((-95.49414 30.10234, -95.49412 30.102...</td>\n",
       "    </tr>\n",
       "    <tr>\n",
       "      <th>9646</th>\n",
       "      <td>1.1.1.0</td>\n",
       "      <td>48201C_10300</td>\n",
       "      <td>SFHAs WITH LOW FLOOD RISK</td>\n",
       "      <td>X</td>\n",
       "      <td>0.2 PCT ANNUAL CHANCE FLOOD HAZARD</td>\n",
       "      <td>F</td>\n",
       "      <td>POLYGON ((-95.41731 29.59076, -95.41732 29.590...</td>\n",
       "    </tr>\n",
       "    <tr>\n",
       "      <th>9647</th>\n",
       "      <td>1.1.1.0</td>\n",
       "      <td>48201C_10301</td>\n",
       "      <td>SFHAs WITH LOW FLOOD RISK</td>\n",
       "      <td>X</td>\n",
       "      <td>0.2 PCT ANNUAL CHANCE FLOOD HAZARD</td>\n",
       "      <td>F</td>\n",
       "      <td>POLYGON ((-95.41730 29.58627, -95.41731 29.586...</td>\n",
       "    </tr>\n",
       "    <tr>\n",
       "      <th>9648</th>\n",
       "      <td>1.1.1.0</td>\n",
       "      <td>48201C_10302</td>\n",
       "      <td>SFHAs WITH LOW FLOOD RISK</td>\n",
       "      <td>X</td>\n",
       "      <td>0.2 PCT ANNUAL CHANCE FLOOD HAZARD</td>\n",
       "      <td>F</td>\n",
       "      <td>POLYGON ((-95.41646 29.58954, -95.41651 29.589...</td>\n",
       "    </tr>\n",
       "    <tr>\n",
       "      <th>9649</th>\n",
       "      <td>1.1.1.0</td>\n",
       "      <td>48201C_10303</td>\n",
       "      <td>SFHAs WITH LOW FLOOD RISK</td>\n",
       "      <td>X</td>\n",
       "      <td>0.2 PCT ANNUAL CHANCE FLOOD HAZARD</td>\n",
       "      <td>F</td>\n",
       "      <td>POLYGON ((-95.41624 29.58833, -95.41627 29.588...</td>\n",
       "    </tr>\n",
       "    <tr>\n",
       "      <th>9650</th>\n",
       "      <td>1.1.1.0</td>\n",
       "      <td>48201C_10317</td>\n",
       "      <td>SFHAs WITH LOW FLOOD RISK</td>\n",
       "      <td>X</td>\n",
       "      <td>0.2 PCT ANNUAL CHANCE FLOOD HAZARD</td>\n",
       "      <td>F</td>\n",
       "      <td>POLYGON ((-95.40182 29.59214, -95.40186 29.592...</td>\n",
       "    </tr>\n",
       "    <tr>\n",
       "      <th>9651</th>\n",
       "      <td>1.1.1.0</td>\n",
       "      <td>48201C_10318</td>\n",
       "      <td>SFHAs WITH LOW FLOOD RISK</td>\n",
       "      <td>X</td>\n",
       "      <td>0.2 PCT ANNUAL CHANCE FLOOD HAZARD</td>\n",
       "      <td>F</td>\n",
       "      <td>POLYGON ((-95.39482 29.60293, -95.39482 29.602...</td>\n",
       "    </tr>\n",
       "    <tr>\n",
       "      <th>9652</th>\n",
       "      <td>1.1.1.0</td>\n",
       "      <td>48201C_10319</td>\n",
       "      <td>SFHAs WITH LOW FLOOD RISK</td>\n",
       "      <td>X</td>\n",
       "      <td>0.2 PCT ANNUAL CHANCE FLOOD HAZARD</td>\n",
       "      <td>F</td>\n",
       "      <td>POLYGON ((-95.39659 29.60238, -95.39660 29.602...</td>\n",
       "    </tr>\n",
       "    <tr>\n",
       "      <th>9653</th>\n",
       "      <td>1.1.1.0</td>\n",
       "      <td>48201C_10320</td>\n",
       "      <td>SFHAs WITH LOW FLOOD RISK</td>\n",
       "      <td>X</td>\n",
       "      <td>0.2 PCT ANNUAL CHANCE FLOOD HAZARD</td>\n",
       "      <td>F</td>\n",
       "      <td>POLYGON ((-95.38790 29.59999, -95.38792 29.599...</td>\n",
       "    </tr>\n",
       "    <tr>\n",
       "      <th>9654</th>\n",
       "      <td>1.1.1.0</td>\n",
       "      <td>48201C_10321</td>\n",
       "      <td>SFHAs WITH LOW FLOOD RISK</td>\n",
       "      <td>X</td>\n",
       "      <td>0.2 PCT ANNUAL CHANCE FLOOD HAZARD</td>\n",
       "      <td>F</td>\n",
       "      <td>POLYGON ((-95.39461 29.60308, -95.39460 29.603...</td>\n",
       "    </tr>\n",
       "    <tr>\n",
       "      <th>9655</th>\n",
       "      <td>1.1.1.0</td>\n",
       "      <td>48201C_10322</td>\n",
       "      <td>SFHAs WITH LOW FLOOD RISK</td>\n",
       "      <td>X</td>\n",
       "      <td>0.2 PCT ANNUAL CHANCE FLOOD HAZARD</td>\n",
       "      <td>F</td>\n",
       "      <td>POLYGON ((-95.39415 29.60289, -95.39411 29.602...</td>\n",
       "    </tr>\n",
       "    <tr>\n",
       "      <th>9656</th>\n",
       "      <td>1.1.1.0</td>\n",
       "      <td>48201C_10323</td>\n",
       "      <td>SFHAs WITH LOW FLOOD RISK</td>\n",
       "      <td>X</td>\n",
       "      <td>0.2 PCT ANNUAL CHANCE FLOOD HAZARD</td>\n",
       "      <td>F</td>\n",
       "      <td>POLYGON ((-95.39303 29.60365, -95.39312 29.603...</td>\n",
       "    </tr>\n",
       "    <tr>\n",
       "      <th>9657</th>\n",
       "      <td>1.1.1.0</td>\n",
       "      <td>48201C_10324</td>\n",
       "      <td>SFHAs WITH LOW FLOOD RISK</td>\n",
       "      <td>X</td>\n",
       "      <td>0.2 PCT ANNUAL CHANCE FLOOD HAZARD</td>\n",
       "      <td>F</td>\n",
       "      <td>POLYGON ((-95.39601 29.60350, -95.39602 29.603...</td>\n",
       "    </tr>\n",
       "    <tr>\n",
       "      <th>9658</th>\n",
       "      <td>1.1.1.0</td>\n",
       "      <td>48201C_10325</td>\n",
       "      <td>SFHAs WITH LOW FLOOD RISK</td>\n",
       "      <td>X</td>\n",
       "      <td>0.2 PCT ANNUAL CHANCE FLOOD HAZARD</td>\n",
       "      <td>F</td>\n",
       "      <td>POLYGON ((-95.39457 29.60413, -95.39461 29.604...</td>\n",
       "    </tr>\n",
       "    <tr>\n",
       "      <th>9659</th>\n",
       "      <td>1.1.1.0</td>\n",
       "      <td>48201C_10326</td>\n",
       "      <td>SFHAs WITH LOW FLOOD RISK</td>\n",
       "      <td>X</td>\n",
       "      <td>0.2 PCT ANNUAL CHANCE FLOOD HAZARD</td>\n",
       "      <td>F</td>\n",
       "      <td>POLYGON ((-95.39252 29.60440, -95.39257 29.604...</td>\n",
       "    </tr>\n",
       "    <tr>\n",
       "      <th>9660</th>\n",
       "      <td>1.1.1.0</td>\n",
       "      <td>48201C_10327</td>\n",
       "      <td>SFHAs WITH LOW FLOOD RISK</td>\n",
       "      <td>X</td>\n",
       "      <td>0.2 PCT ANNUAL CHANCE FLOOD HAZARD</td>\n",
       "      <td>F</td>\n",
       "      <td>POLYGON ((-95.39247 29.60466, -95.39248 29.604...</td>\n",
       "    </tr>\n",
       "    <tr>\n",
       "      <th>9661</th>\n",
       "      <td>1.1.1.0</td>\n",
       "      <td>48201C_10328</td>\n",
       "      <td>SFHAs WITH LOW FLOOD RISK</td>\n",
       "      <td>X</td>\n",
       "      <td>0.2 PCT ANNUAL CHANCE FLOOD HAZARD</td>\n",
       "      <td>F</td>\n",
       "      <td>POLYGON ((-95.39056 29.60530, -95.39056 29.605...</td>\n",
       "    </tr>\n",
       "    <tr>\n",
       "      <th>9662</th>\n",
       "      <td>1.1.1.0</td>\n",
       "      <td>48201C_10329</td>\n",
       "      <td>SFHAs WITH LOW FLOOD RISK</td>\n",
       "      <td>X</td>\n",
       "      <td>0.2 PCT ANNUAL CHANCE FLOOD HAZARD</td>\n",
       "      <td>F</td>\n",
       "      <td>POLYGON ((-95.39051 29.60540, -95.39052 29.605...</td>\n",
       "    </tr>\n",
       "    <tr>\n",
       "      <th>9663</th>\n",
       "      <td>1.1.1.0</td>\n",
       "      <td>48201C_10330</td>\n",
       "      <td>SFHAs WITH LOW FLOOD RISK</td>\n",
       "      <td>X</td>\n",
       "      <td>0.2 PCT ANNUAL CHANCE FLOOD HAZARD</td>\n",
       "      <td>F</td>\n",
       "      <td>POLYGON ((-95.39041 29.60591, -95.39041 29.605...</td>\n",
       "    </tr>\n",
       "    <tr>\n",
       "      <th>9664</th>\n",
       "      <td>1.1.1.0</td>\n",
       "      <td>48201C_10331</td>\n",
       "      <td>SFHAs WITH LOW FLOOD RISK</td>\n",
       "      <td>X</td>\n",
       "      <td>0.2 PCT ANNUAL CHANCE FLOOD HAZARD</td>\n",
       "      <td>F</td>\n",
       "      <td>POLYGON ((-95.38879 29.60686, -95.38880 29.606...</td>\n",
       "    </tr>\n",
       "    <tr>\n",
       "      <th>9665</th>\n",
       "      <td>1.1.1.0</td>\n",
       "      <td>48201C_10332</td>\n",
       "      <td>SFHAs WITH LOW FLOOD RISK</td>\n",
       "      <td>X</td>\n",
       "      <td>0.2 PCT ANNUAL CHANCE FLOOD HAZARD</td>\n",
       "      <td>F</td>\n",
       "      <td>POLYGON ((-95.38717 29.60776, -95.38717 29.607...</td>\n",
       "    </tr>\n",
       "    <tr>\n",
       "      <th>9666</th>\n",
       "      <td>1.1.1.0</td>\n",
       "      <td>48201C_10347</td>\n",
       "      <td>SFHAs WITH HIGH FLOOD RISK</td>\n",
       "      <td>X</td>\n",
       "      <td>0.2 PCT ANNUAL CHANCE FLOOD HAZARD</td>\n",
       "      <td>F</td>\n",
       "      <td>POLYGON ((-95.22149 29.93518, -95.22146 29.935...</td>\n",
       "    </tr>\n",
       "    <tr>\n",
       "      <th>9667</th>\n",
       "      <td>1.1.1.0</td>\n",
       "      <td>48201C_10348</td>\n",
       "      <td>SFHAs WITH HIGH FLOOD RISK</td>\n",
       "      <td>X</td>\n",
       "      <td>0.2 PCT ANNUAL CHANCE FLOOD HAZARD</td>\n",
       "      <td>F</td>\n",
       "      <td>POLYGON ((-95.22146 29.93520, -95.22143 29.935...</td>\n",
       "    </tr>\n",
       "    <tr>\n",
       "      <th>9668</th>\n",
       "      <td>1.1.1.0</td>\n",
       "      <td>48201C_10361</td>\n",
       "      <td>SFHAs WITH HIGH FLOOD RISK</td>\n",
       "      <td>X</td>\n",
       "      <td>0.2 PCT ANNUAL CHANCE FLOOD HAZARD</td>\n",
       "      <td>F</td>\n",
       "      <td>POLYGON ((-95.21305 29.94727, -95.21305 29.947...</td>\n",
       "    </tr>\n",
       "    <tr>\n",
       "      <th>9669</th>\n",
       "      <td>1.1.1.0</td>\n",
       "      <td>48201C_10362</td>\n",
       "      <td>SFHAs WITH HIGH FLOOD RISK</td>\n",
       "      <td>X</td>\n",
       "      <td>0.2 PCT ANNUAL CHANCE FLOOD HAZARD</td>\n",
       "      <td>F</td>\n",
       "      <td>POLYGON ((-95.21694 29.95180, -95.21692 29.951...</td>\n",
       "    </tr>\n",
       "    <tr>\n",
       "      <th>9670</th>\n",
       "      <td>1.1.1.0</td>\n",
       "      <td>48201C_10363</td>\n",
       "      <td>SFHAs WITH HIGH FLOOD RISK</td>\n",
       "      <td>X</td>\n",
       "      <td>0.2 PCT ANNUAL CHANCE FLOOD HAZARD</td>\n",
       "      <td>F</td>\n",
       "      <td>POLYGON ((-95.22214 29.94669, -95.22212 29.946...</td>\n",
       "    </tr>\n",
       "    <tr>\n",
       "      <th>9671</th>\n",
       "      <td>1.1.1.0</td>\n",
       "      <td>48201C_10364</td>\n",
       "      <td>SFHAs WITH HIGH FLOOD RISK</td>\n",
       "      <td>X</td>\n",
       "      <td>0.2 PCT ANNUAL CHANCE FLOOD HAZARD</td>\n",
       "      <td>F</td>\n",
       "      <td>POLYGON ((-95.21692 29.95181, -95.21688 29.951...</td>\n",
       "    </tr>\n",
       "    <tr>\n",
       "      <th>9672</th>\n",
       "      <td>1.1.1.0</td>\n",
       "      <td>48201C_10365</td>\n",
       "      <td>SFHAs WITH HIGH FLOOD RISK</td>\n",
       "      <td>X</td>\n",
       "      <td>0.2 PCT ANNUAL CHANCE FLOOD HAZARD</td>\n",
       "      <td>F</td>\n",
       "      <td>POLYGON ((-95.21942 29.95148, -95.21942 29.951...</td>\n",
       "    </tr>\n",
       "    <tr>\n",
       "      <th>9673</th>\n",
       "      <td>1.1.1.0</td>\n",
       "      <td>48201C_10366</td>\n",
       "      <td>SFHAs WITH HIGH FLOOD RISK</td>\n",
       "      <td>X</td>\n",
       "      <td>0.2 PCT ANNUAL CHANCE FLOOD HAZARD</td>\n",
       "      <td>F</td>\n",
       "      <td>POLYGON ((-95.21675 29.95191, -95.21671 29.951...</td>\n",
       "    </tr>\n",
       "    <tr>\n",
       "      <th>9674</th>\n",
       "      <td>1.1.1.0</td>\n",
       "      <td>48201C_10367</td>\n",
       "      <td>SFHAs WITH HIGH FLOOD RISK</td>\n",
       "      <td>X</td>\n",
       "      <td>0.2 PCT ANNUAL CHANCE FLOOD HAZARD</td>\n",
       "      <td>F</td>\n",
       "      <td>POLYGON ((-95.21647 29.95203, -95.21646 29.952...</td>\n",
       "    </tr>\n",
       "    <tr>\n",
       "      <th>9675</th>\n",
       "      <td>1.1.1.0</td>\n",
       "      <td>48201C_10368</td>\n",
       "      <td>SFHAs WITH HIGH FLOOD RISK</td>\n",
       "      <td>X</td>\n",
       "      <td>0.2 PCT ANNUAL CHANCE FLOOD HAZARD</td>\n",
       "      <td>F</td>\n",
       "      <td>POLYGON ((-95.21648 29.95205, -95.21648 29.952...</td>\n",
       "    </tr>\n",
       "    <tr>\n",
       "      <th>9676</th>\n",
       "      <td>1.1.1.0</td>\n",
       "      <td>48201C_10369</td>\n",
       "      <td>SFHAs WITH HIGH FLOOD RISK</td>\n",
       "      <td>X</td>\n",
       "      <td>0.2 PCT ANNUAL CHANCE FLOOD HAZARD</td>\n",
       "      <td>F</td>\n",
       "      <td>POLYGON ((-95.24917 29.94913, -95.24913 29.949...</td>\n",
       "    </tr>\n",
       "    <tr>\n",
       "      <th>9677</th>\n",
       "      <td>1.1.1.0</td>\n",
       "      <td>48201C_10370</td>\n",
       "      <td>SFHAs WITH HIGH FLOOD RISK</td>\n",
       "      <td>X</td>\n",
       "      <td>0.2 PCT ANNUAL CHANCE FLOOD HAZARD</td>\n",
       "      <td>F</td>\n",
       "      <td>POLYGON ((-95.21644 29.95230, -95.21644 29.952...</td>\n",
       "    </tr>\n",
       "  </tbody>\n",
       "</table>\n",
       "</div>"
      ],
      "text/plain": [
       "     VERSION_ID     FLD_AR_ID                   STUDY_TYP FLD_ZONE  \\\n",
       "9628    1.1.1.0  48201C_10189  SFHAs WITH HIGH FLOOD RISK        X   \n",
       "9629    1.1.1.0  48201C_10190  SFHAs WITH HIGH FLOOD RISK        X   \n",
       "9630    1.1.1.0  48201C_10191  SFHAs WITH HIGH FLOOD RISK        X   \n",
       "9631    1.1.1.0  48201C_10192  SFHAs WITH HIGH FLOOD RISK        X   \n",
       "9632    1.1.1.0  48201C_10193  SFHAs WITH HIGH FLOOD RISK        X   \n",
       "9633    1.1.1.0  48201C_10194  SFHAs WITH HIGH FLOOD RISK        X   \n",
       "9634    1.1.1.0  48201C_10195  SFHAs WITH HIGH FLOOD RISK        X   \n",
       "9635    1.1.1.0  48201C_10196  SFHAs WITH HIGH FLOOD RISK        X   \n",
       "9636    1.1.1.0  48201C_10228                          NP        X   \n",
       "9637    1.1.1.0  48201C_10230                          NP        X   \n",
       "9638    1.1.1.0  48201C_10232                          NP        X   \n",
       "9639    1.1.1.0  48201C_10234                          NP        X   \n",
       "9640    1.1.1.0  48201C_10235                          NP        X   \n",
       "9641    1.1.1.0  48201C_10238                          NP        X   \n",
       "9642    1.1.1.0  48201C_10241                          NP        X   \n",
       "9643    1.1.1.0  48201C_10264                          NP        X   \n",
       "9644    1.1.1.0  48201C_10271  SFHAs WITH HIGH FLOOD RISK        X   \n",
       "9645    1.1.1.0  48201C_10299                          NP        X   \n",
       "9646    1.1.1.0  48201C_10300   SFHAs WITH LOW FLOOD RISK        X   \n",
       "9647    1.1.1.0  48201C_10301   SFHAs WITH LOW FLOOD RISK        X   \n",
       "9648    1.1.1.0  48201C_10302   SFHAs WITH LOW FLOOD RISK        X   \n",
       "9649    1.1.1.0  48201C_10303   SFHAs WITH LOW FLOOD RISK        X   \n",
       "9650    1.1.1.0  48201C_10317   SFHAs WITH LOW FLOOD RISK        X   \n",
       "9651    1.1.1.0  48201C_10318   SFHAs WITH LOW FLOOD RISK        X   \n",
       "9652    1.1.1.0  48201C_10319   SFHAs WITH LOW FLOOD RISK        X   \n",
       "9653    1.1.1.0  48201C_10320   SFHAs WITH LOW FLOOD RISK        X   \n",
       "9654    1.1.1.0  48201C_10321   SFHAs WITH LOW FLOOD RISK        X   \n",
       "9655    1.1.1.0  48201C_10322   SFHAs WITH LOW FLOOD RISK        X   \n",
       "9656    1.1.1.0  48201C_10323   SFHAs WITH LOW FLOOD RISK        X   \n",
       "9657    1.1.1.0  48201C_10324   SFHAs WITH LOW FLOOD RISK        X   \n",
       "9658    1.1.1.0  48201C_10325   SFHAs WITH LOW FLOOD RISK        X   \n",
       "9659    1.1.1.0  48201C_10326   SFHAs WITH LOW FLOOD RISK        X   \n",
       "9660    1.1.1.0  48201C_10327   SFHAs WITH LOW FLOOD RISK        X   \n",
       "9661    1.1.1.0  48201C_10328   SFHAs WITH LOW FLOOD RISK        X   \n",
       "9662    1.1.1.0  48201C_10329   SFHAs WITH LOW FLOOD RISK        X   \n",
       "9663    1.1.1.0  48201C_10330   SFHAs WITH LOW FLOOD RISK        X   \n",
       "9664    1.1.1.0  48201C_10331   SFHAs WITH LOW FLOOD RISK        X   \n",
       "9665    1.1.1.0  48201C_10332   SFHAs WITH LOW FLOOD RISK        X   \n",
       "9666    1.1.1.0  48201C_10347  SFHAs WITH HIGH FLOOD RISK        X   \n",
       "9667    1.1.1.0  48201C_10348  SFHAs WITH HIGH FLOOD RISK        X   \n",
       "9668    1.1.1.0  48201C_10361  SFHAs WITH HIGH FLOOD RISK        X   \n",
       "9669    1.1.1.0  48201C_10362  SFHAs WITH HIGH FLOOD RISK        X   \n",
       "9670    1.1.1.0  48201C_10363  SFHAs WITH HIGH FLOOD RISK        X   \n",
       "9671    1.1.1.0  48201C_10364  SFHAs WITH HIGH FLOOD RISK        X   \n",
       "9672    1.1.1.0  48201C_10365  SFHAs WITH HIGH FLOOD RISK        X   \n",
       "9673    1.1.1.0  48201C_10366  SFHAs WITH HIGH FLOOD RISK        X   \n",
       "9674    1.1.1.0  48201C_10367  SFHAs WITH HIGH FLOOD RISK        X   \n",
       "9675    1.1.1.0  48201C_10368  SFHAs WITH HIGH FLOOD RISK        X   \n",
       "9676    1.1.1.0  48201C_10369  SFHAs WITH HIGH FLOOD RISK        X   \n",
       "9677    1.1.1.0  48201C_10370  SFHAs WITH HIGH FLOOD RISK        X   \n",
       "\n",
       "                              ZONE_SUBTY SFHA_TF  \\\n",
       "9628  0.2 PCT ANNUAL CHANCE FLOOD HAZARD       F   \n",
       "9629  0.2 PCT ANNUAL CHANCE FLOOD HAZARD       F   \n",
       "9630  0.2 PCT ANNUAL CHANCE FLOOD HAZARD       F   \n",
       "9631  0.2 PCT ANNUAL CHANCE FLOOD HAZARD       F   \n",
       "9632  0.2 PCT ANNUAL CHANCE FLOOD HAZARD       F   \n",
       "9633  0.2 PCT ANNUAL CHANCE FLOOD HAZARD       F   \n",
       "9634  0.2 PCT ANNUAL CHANCE FLOOD HAZARD       F   \n",
       "9635  0.2 PCT ANNUAL CHANCE FLOOD HAZARD       F   \n",
       "9636  0.2 PCT ANNUAL CHANCE FLOOD HAZARD       F   \n",
       "9637  0.2 PCT ANNUAL CHANCE FLOOD HAZARD       F   \n",
       "9638  0.2 PCT ANNUAL CHANCE FLOOD HAZARD       F   \n",
       "9639  0.2 PCT ANNUAL CHANCE FLOOD HAZARD       F   \n",
       "9640  0.2 PCT ANNUAL CHANCE FLOOD HAZARD       F   \n",
       "9641  0.2 PCT ANNUAL CHANCE FLOOD HAZARD       F   \n",
       "9642  0.2 PCT ANNUAL CHANCE FLOOD HAZARD       F   \n",
       "9643  0.2 PCT ANNUAL CHANCE FLOOD HAZARD       F   \n",
       "9644  0.2 PCT ANNUAL CHANCE FLOOD HAZARD       F   \n",
       "9645  0.2 PCT ANNUAL CHANCE FLOOD HAZARD       F   \n",
       "9646  0.2 PCT ANNUAL CHANCE FLOOD HAZARD       F   \n",
       "9647  0.2 PCT ANNUAL CHANCE FLOOD HAZARD       F   \n",
       "9648  0.2 PCT ANNUAL CHANCE FLOOD HAZARD       F   \n",
       "9649  0.2 PCT ANNUAL CHANCE FLOOD HAZARD       F   \n",
       "9650  0.2 PCT ANNUAL CHANCE FLOOD HAZARD       F   \n",
       "9651  0.2 PCT ANNUAL CHANCE FLOOD HAZARD       F   \n",
       "9652  0.2 PCT ANNUAL CHANCE FLOOD HAZARD       F   \n",
       "9653  0.2 PCT ANNUAL CHANCE FLOOD HAZARD       F   \n",
       "9654  0.2 PCT ANNUAL CHANCE FLOOD HAZARD       F   \n",
       "9655  0.2 PCT ANNUAL CHANCE FLOOD HAZARD       F   \n",
       "9656  0.2 PCT ANNUAL CHANCE FLOOD HAZARD       F   \n",
       "9657  0.2 PCT ANNUAL CHANCE FLOOD HAZARD       F   \n",
       "9658  0.2 PCT ANNUAL CHANCE FLOOD HAZARD       F   \n",
       "9659  0.2 PCT ANNUAL CHANCE FLOOD HAZARD       F   \n",
       "9660  0.2 PCT ANNUAL CHANCE FLOOD HAZARD       F   \n",
       "9661  0.2 PCT ANNUAL CHANCE FLOOD HAZARD       F   \n",
       "9662  0.2 PCT ANNUAL CHANCE FLOOD HAZARD       F   \n",
       "9663  0.2 PCT ANNUAL CHANCE FLOOD HAZARD       F   \n",
       "9664  0.2 PCT ANNUAL CHANCE FLOOD HAZARD       F   \n",
       "9665  0.2 PCT ANNUAL CHANCE FLOOD HAZARD       F   \n",
       "9666  0.2 PCT ANNUAL CHANCE FLOOD HAZARD       F   \n",
       "9667  0.2 PCT ANNUAL CHANCE FLOOD HAZARD       F   \n",
       "9668  0.2 PCT ANNUAL CHANCE FLOOD HAZARD       F   \n",
       "9669  0.2 PCT ANNUAL CHANCE FLOOD HAZARD       F   \n",
       "9670  0.2 PCT ANNUAL CHANCE FLOOD HAZARD       F   \n",
       "9671  0.2 PCT ANNUAL CHANCE FLOOD HAZARD       F   \n",
       "9672  0.2 PCT ANNUAL CHANCE FLOOD HAZARD       F   \n",
       "9673  0.2 PCT ANNUAL CHANCE FLOOD HAZARD       F   \n",
       "9674  0.2 PCT ANNUAL CHANCE FLOOD HAZARD       F   \n",
       "9675  0.2 PCT ANNUAL CHANCE FLOOD HAZARD       F   \n",
       "9676  0.2 PCT ANNUAL CHANCE FLOOD HAZARD       F   \n",
       "9677  0.2 PCT ANNUAL CHANCE FLOOD HAZARD       F   \n",
       "\n",
       "                                               geometry  \n",
       "9628  POLYGON ((-95.69191 30.05207, -95.69194 30.052...  \n",
       "9629  POLYGON ((-95.70649 30.04330, -95.70647 30.043...  \n",
       "9630  POLYGON ((-95.70669 30.04295, -95.70667 30.043...  \n",
       "9631  POLYGON ((-95.70629 30.04233, -95.70630 30.042...  \n",
       "9632  POLYGON ((-95.70588 30.04280, -95.70589 30.042...  \n",
       "9633  POLYGON ((-95.70601 30.04300, -95.70602 30.043...  \n",
       "9634  POLYGON ((-95.70511 30.04287, -95.70511 30.042...  \n",
       "9635  POLYGON ((-95.70492 30.04291, -95.70492 30.042...  \n",
       "9636  POLYGON ((-95.16102 29.71261, -95.16104 29.712...  \n",
       "9637  POLYGON ((-95.15775 29.71958, -95.15781 29.719...  \n",
       "9638  POLYGON ((-95.16565 29.72067, -95.16580 29.720...  \n",
       "9639  POLYGON ((-95.15883 29.72001, -95.15905 29.720...  \n",
       "9640  POLYGON ((-95.16545 29.71951, -95.16558 29.719...  \n",
       "9641  POLYGON ((-95.16141 29.72176, -95.16148 29.721...  \n",
       "9642  POLYGON ((-95.16092 29.72198, -95.16093 29.721...  \n",
       "9643  POLYGON ((-95.55981 29.99491, -95.55985 29.994...  \n",
       "9644  POLYGON ((-95.57363 30.00809, -95.57361 30.008...  \n",
       "9645  POLYGON ((-95.49414 30.10234, -95.49412 30.102...  \n",
       "9646  POLYGON ((-95.41731 29.59076, -95.41732 29.590...  \n",
       "9647  POLYGON ((-95.41730 29.58627, -95.41731 29.586...  \n",
       "9648  POLYGON ((-95.41646 29.58954, -95.41651 29.589...  \n",
       "9649  POLYGON ((-95.41624 29.58833, -95.41627 29.588...  \n",
       "9650  POLYGON ((-95.40182 29.59214, -95.40186 29.592...  \n",
       "9651  POLYGON ((-95.39482 29.60293, -95.39482 29.602...  \n",
       "9652  POLYGON ((-95.39659 29.60238, -95.39660 29.602...  \n",
       "9653  POLYGON ((-95.38790 29.59999, -95.38792 29.599...  \n",
       "9654  POLYGON ((-95.39461 29.60308, -95.39460 29.603...  \n",
       "9655  POLYGON ((-95.39415 29.60289, -95.39411 29.602...  \n",
       "9656  POLYGON ((-95.39303 29.60365, -95.39312 29.603...  \n",
       "9657  POLYGON ((-95.39601 29.60350, -95.39602 29.603...  \n",
       "9658  POLYGON ((-95.39457 29.60413, -95.39461 29.604...  \n",
       "9659  POLYGON ((-95.39252 29.60440, -95.39257 29.604...  \n",
       "9660  POLYGON ((-95.39247 29.60466, -95.39248 29.604...  \n",
       "9661  POLYGON ((-95.39056 29.60530, -95.39056 29.605...  \n",
       "9662  POLYGON ((-95.39051 29.60540, -95.39052 29.605...  \n",
       "9663  POLYGON ((-95.39041 29.60591, -95.39041 29.605...  \n",
       "9664  POLYGON ((-95.38879 29.60686, -95.38880 29.606...  \n",
       "9665  POLYGON ((-95.38717 29.60776, -95.38717 29.607...  \n",
       "9666  POLYGON ((-95.22149 29.93518, -95.22146 29.935...  \n",
       "9667  POLYGON ((-95.22146 29.93520, -95.22143 29.935...  \n",
       "9668  POLYGON ((-95.21305 29.94727, -95.21305 29.947...  \n",
       "9669  POLYGON ((-95.21694 29.95180, -95.21692 29.951...  \n",
       "9670  POLYGON ((-95.22214 29.94669, -95.22212 29.946...  \n",
       "9671  POLYGON ((-95.21692 29.95181, -95.21688 29.951...  \n",
       "9672  POLYGON ((-95.21942 29.95148, -95.21942 29.951...  \n",
       "9673  POLYGON ((-95.21675 29.95191, -95.21671 29.951...  \n",
       "9674  POLYGON ((-95.21647 29.95203, -95.21646 29.952...  \n",
       "9675  POLYGON ((-95.21648 29.95205, -95.21648 29.952...  \n",
       "9676  POLYGON ((-95.24917 29.94913, -95.24913 29.949...  \n",
       "9677  POLYGON ((-95.21644 29.95230, -95.21644 29.952...  "
      ]
     },
     "execution_count": 102,
     "metadata": {},
     "output_type": "execute_result"
    }
   ],
   "source": [
    "geodf_readFromFile_FEMA_FIRM_FloodPolygons_forDisplay_fromNFHL_exported202209[-100:-50]"
   ]
  },
  {
   "cell_type": "code",
   "execution_count": 98,
   "id": "1afdf34b",
   "metadata": {},
   "outputs": [
    {
     "name": "stdout",
     "output_type": "stream",
     "text": [
      "col = DFIRM_ID || values = ['48201C']\n",
      "col = VERSION_ID || values = ['1.1.1.0' '2.3.3.3']\n",
      "col = FLD_AR_ID || values = ['48201C_1212' '48201C_8720' '48201C_8722' ... '48201C_10563'\n",
      " '48201C_10565' '48201C_10568']\n",
      "col = STUDY_TYP || values = ['NP' 'SFHAs WITH HIGH FLOOD RISK' 'SFHAs WITH LOW FLOOD RISK']\n",
      "col = FLD_ZONE || values = ['AE' 'A' 'AO' 'VE' 'X']\n",
      "col = ZONE_SUBTY || values = ['FLOODWAY' None 'RIVERINE FLOODWAY SHOWN IN COASTAL ZONE'\n",
      " '0.2 PCT ANNUAL CHANCE FLOOD HAZARD']\n",
      "col = SFHA_TF || values = ['T' 'F']\n",
      "col = DEPTH || values = [-9.999e+03  1.000e+00  3.000e+00  2.000e+00]\n",
      "col = SOURCE_CIT || values = ['48201C_STUDY1' '48201C_FIRM1' '48201C_LOMC93' '48201C_LOMC90'\n",
      " '48201C_LOMC9' '48201C_STUDY2' '48201C_LOMC85' '48201C_LOMC97'\n",
      " '48201C_LOMC4' '48201C_STUDY3' '48201C_LOMC6' '48201C_LOMC5'\n",
      " '48201C_LOMC102' '48201C_LOMC136' '48201C_LOMC100' '48201C_LOMC135'\n",
      " '48201C_LOMC115' '48201C_LOMC106' '48201C_LOMC110' '48201C_LOMC95'\n",
      " '48201C_LOMC108' '48201C_LOMC130' '48201C_LOMC131' '48201C_LOMC141'\n",
      " '48201C_LOMC122' '48201C_FIRM4' '48201C_LOMC139' '48201C_LOMC96'\n",
      " '48201C_LOMC103' '48201C_LOMC101' '48201C_LOMC87' '48201C_LOMC98'\n",
      " '48201C_LOMC137' '48201C_LOMC112' '48201C_LOMC124' '48201C_LOMC143'\n",
      " '48201C_LOMC125' '48201C_LOMC126' '48201C_LOMC127' '48201C_LOMC123'\n",
      " '48201C_LOMC146' '48201C_LOMC2' '48201C_LOMC1' '48201C_FIRM2'\n",
      " '48201C_LOMC133' '48201C_LOMC116' '48201C_LOMC117' '48201C_LOMC119'\n",
      " '48201C_LOMC92' '48201C_LOMC120' '48201C_LOMC121' '48201C_LOMC109'\n",
      " '48201C_LOMC129' '48201C_LOMC132' '48201C_LOMC138' '48201C_LOMC142'\n",
      " '48201C_LOMC149' '48201C_LOMC147' '48201C_LOMC150' None '48201C_LOMC152'\n",
      " '48201C_LOMC153' '48201C_LOMC154' '48201C_LOMC7' '48201C_LOMC78'\n",
      " '48201C_LOMC3' '48201C_LOMC148' '48201C_LOMC113' '48201C_LOMC10']\n",
      "col = geometry || values = <GeometryArray>\n",
      "[<shapely.geometry.polygon.Polygon object at 0x3bdaabe80>,\n",
      " <shapely.geometry.polygon.Polygon object at 0x3bdaabe50>,\n",
      " <shapely.geometry.polygon.Polygon object at 0x2c6d13910>,\n",
      " <shapely.geometry.polygon.Polygon object at 0x2c6d12e90>,\n",
      " <shapely.geometry.polygon.Polygon object at 0x2c6d13a60>,\n",
      " <shapely.geometry.polygon.Polygon object at 0x3bc968d30>,\n",
      " <shapely.geometry.polygon.Polygon object at 0x3bc969810>,\n",
      " <shapely.geometry.polygon.Polygon object at 0x3bc9692d0>,\n",
      " <shapely.geometry.polygon.Polygon object at 0x3bc968f10>,\n",
      " <shapely.geometry.polygon.Polygon object at 0x3bc968b80>,\n",
      " ...\n",
      " <shapely.geometry.polygon.Polygon object at 0x2c345f0d0>,\n",
      " <shapely.geometry.polygon.Polygon object at 0x2c345f100>,\n",
      " <shapely.geometry.polygon.Polygon object at 0x2c345f130>,\n",
      " <shapely.geometry.polygon.Polygon object at 0x2c345f160>,\n",
      " <shapely.geometry.polygon.Polygon object at 0x2c345f190>,\n",
      " <shapely.geometry.polygon.Polygon object at 0x2c345f1c0>,\n",
      " <shapely.geometry.polygon.Polygon object at 0x2c345f1f0>,\n",
      " <shapely.geometry.polygon.Polygon object at 0x2c345f220>,\n",
      " <shapely.geometry.polygon.Polygon object at 0x2c345f250>,\n",
      " <shapely.geometry.polygon.Polygon object at 0x2c345f280>]\n",
      "Length: 9375, dtype: geometry\n"
     ]
    }
   ],
   "source": [
    "for col in geodf_readFromFile_FEMA_FIRM_FloodPolygons_forDisplay_fromNFHL_exported202209:\n",
    "  print(\"col =\",col,\"|| values =\",geodf_readFromFile_FEMA_FIRM_FloodPolygons_forDisplay_fromNFHL_exported202209[col].unique())"
   ]
  },
  {
   "cell_type": "markdown",
   "id": "b9d33d03",
   "metadata": {},
   "source": [
    "Columns that seem to only have 1 value or do not have value for our purposes are:\n",
    "\n",
    "    - DFIRM_ID\n",
    "    - DEPTH\n",
    "    - SOURCE_CIT"
   ]
  },
  {
   "cell_type": "markdown",
   "id": "ca45a0b7",
   "metadata": {},
   "source": [
    "### So we will take them out and overwrite the merged geojson"
   ]
  },
  {
   "cell_type": "code",
   "execution_count": 100,
   "id": "e66b7c46",
   "metadata": {},
   "outputs": [],
   "source": [
    "\n",
    "\n",
    "\n",
    "geodf_readFromFile_FEMA_FIRM_FloodPolygons_forDisplay_fromNFHL_exported202209.drop(['DFIRM_ID', 'DEPTH','SOURCE_CIT'], axis=1, inplace=True)"
   ]
  },
  {
   "cell_type": "code",
   "execution_count": 104,
   "id": "96912d3c",
   "metadata": {},
   "outputs": [
    {
     "data": {
      "text/html": [
       "<div>\n",
       "<style scoped>\n",
       "    .dataframe tbody tr th:only-of-type {\n",
       "        vertical-align: middle;\n",
       "    }\n",
       "\n",
       "    .dataframe tbody tr th {\n",
       "        vertical-align: top;\n",
       "    }\n",
       "\n",
       "    .dataframe thead th {\n",
       "        text-align: right;\n",
       "    }\n",
       "</style>\n",
       "<table border=\"1\" class=\"dataframe\">\n",
       "  <thead>\n",
       "    <tr style=\"text-align: right;\">\n",
       "      <th></th>\n",
       "      <th>VERSION_ID</th>\n",
       "      <th>FLD_AR_ID</th>\n",
       "      <th>STUDY_TYP</th>\n",
       "      <th>FLD_ZONE</th>\n",
       "      <th>ZONE_SUBTY</th>\n",
       "      <th>SFHA_TF</th>\n",
       "      <th>geometry</th>\n",
       "    </tr>\n",
       "  </thead>\n",
       "  <tbody>\n",
       "    <tr>\n",
       "      <th>9188</th>\n",
       "      <td>1.1.1.0</td>\n",
       "      <td>48201C_10309</td>\n",
       "      <td>SFHAs WITH LOW FLOOD RISK</td>\n",
       "      <td>X</td>\n",
       "      <td>0.2 PCT ANNUAL CHANCE FLOOD HAZARD</td>\n",
       "      <td>F</td>\n",
       "      <td>POLYGON ((-95.40692 29.59015, -95.40692 29.590...</td>\n",
       "    </tr>\n",
       "    <tr>\n",
       "      <th>9189</th>\n",
       "      <td>1.1.1.0</td>\n",
       "      <td>48201C_10310</td>\n",
       "      <td>SFHAs WITH LOW FLOOD RISK</td>\n",
       "      <td>X</td>\n",
       "      <td>0.2 PCT ANNUAL CHANCE FLOOD HAZARD</td>\n",
       "      <td>F</td>\n",
       "      <td>POLYGON ((-95.41580 29.58459, -95.41584 29.584...</td>\n",
       "    </tr>\n",
       "    <tr>\n",
       "      <th>9190</th>\n",
       "      <td>1.1.1.0</td>\n",
       "      <td>48201C_8593</td>\n",
       "      <td>SFHAs WITH HIGH FLOOD RISK</td>\n",
       "      <td>X</td>\n",
       "      <td>0.2 PCT ANNUAL CHANCE FLOOD HAZARD</td>\n",
       "      <td>F</td>\n",
       "      <td>POLYGON ((-95.15761 29.63514, -95.15765 29.635...</td>\n",
       "    </tr>\n",
       "    <tr>\n",
       "      <th>9191</th>\n",
       "      <td>1.1.1.0</td>\n",
       "      <td>48201C_8620</td>\n",
       "      <td>NP</td>\n",
       "      <td>X</td>\n",
       "      <td>0.2 PCT ANNUAL CHANCE FLOOD HAZARD</td>\n",
       "      <td>F</td>\n",
       "      <td>POLYGON ((-95.13189 29.65558, -95.13189 29.655...</td>\n",
       "    </tr>\n",
       "    <tr>\n",
       "      <th>9192</th>\n",
       "      <td>1.1.1.0</td>\n",
       "      <td>48201C_8621</td>\n",
       "      <td>NP</td>\n",
       "      <td>X</td>\n",
       "      <td>0.2 PCT ANNUAL CHANCE FLOOD HAZARD</td>\n",
       "      <td>F</td>\n",
       "      <td>POLYGON ((-95.13263 29.63912, -95.13253 29.639...</td>\n",
       "    </tr>\n",
       "    <tr>\n",
       "      <th>...</th>\n",
       "      <td>...</td>\n",
       "      <td>...</td>\n",
       "      <td>...</td>\n",
       "      <td>...</td>\n",
       "      <td>...</td>\n",
       "      <td>...</td>\n",
       "      <td>...</td>\n",
       "    </tr>\n",
       "    <tr>\n",
       "      <th>9323</th>\n",
       "      <td>1.1.1.0</td>\n",
       "      <td>48201C_9004</td>\n",
       "      <td>NP</td>\n",
       "      <td>X</td>\n",
       "      <td>0.2 PCT ANNUAL CHANCE FLOOD HAZARD</td>\n",
       "      <td>F</td>\n",
       "      <td>POLYGON ((-95.78554 30.03055, -95.78554 30.030...</td>\n",
       "    </tr>\n",
       "    <tr>\n",
       "      <th>9324</th>\n",
       "      <td>1.1.1.0</td>\n",
       "      <td>48201C_9005</td>\n",
       "      <td>NP</td>\n",
       "      <td>X</td>\n",
       "      <td>0.2 PCT ANNUAL CHANCE FLOOD HAZARD</td>\n",
       "      <td>F</td>\n",
       "      <td>POLYGON ((-95.78300 30.03449, -95.78302 30.034...</td>\n",
       "    </tr>\n",
       "    <tr>\n",
       "      <th>9325</th>\n",
       "      <td>1.1.1.0</td>\n",
       "      <td>48201C_9007</td>\n",
       "      <td>SFHAs WITH HIGH FLOOD RISK</td>\n",
       "      <td>X</td>\n",
       "      <td>0.2 PCT ANNUAL CHANCE FLOOD HAZARD</td>\n",
       "      <td>F</td>\n",
       "      <td>POLYGON ((-95.19033 29.82963, -95.19034 29.829...</td>\n",
       "    </tr>\n",
       "    <tr>\n",
       "      <th>9326</th>\n",
       "      <td>2.3.3.3</td>\n",
       "      <td>48201C_9010</td>\n",
       "      <td>SFHAs WITH LOW FLOOD RISK</td>\n",
       "      <td>X</td>\n",
       "      <td>0.2 PCT ANNUAL CHANCE FLOOD HAZARD</td>\n",
       "      <td>F</td>\n",
       "      <td>POLYGON ((-95.32789 29.59979, -95.32785 29.599...</td>\n",
       "    </tr>\n",
       "    <tr>\n",
       "      <th>9327</th>\n",
       "      <td>2.3.3.3</td>\n",
       "      <td>48201C_9011</td>\n",
       "      <td>SFHAs WITH LOW FLOOD RISK</td>\n",
       "      <td>X</td>\n",
       "      <td>0.2 PCT ANNUAL CHANCE FLOOD HAZARD</td>\n",
       "      <td>F</td>\n",
       "      <td>POLYGON ((-95.37265 29.61220, -95.37261 29.612...</td>\n",
       "    </tr>\n",
       "  </tbody>\n",
       "</table>\n",
       "<p>140 rows × 7 columns</p>\n",
       "</div>"
      ],
      "text/plain": [
       "     VERSION_ID     FLD_AR_ID                   STUDY_TYP FLD_ZONE  \\\n",
       "9188    1.1.1.0  48201C_10309   SFHAs WITH LOW FLOOD RISK        X   \n",
       "9189    1.1.1.0  48201C_10310   SFHAs WITH LOW FLOOD RISK        X   \n",
       "9190    1.1.1.0   48201C_8593  SFHAs WITH HIGH FLOOD RISK        X   \n",
       "9191    1.1.1.0   48201C_8620                          NP        X   \n",
       "9192    1.1.1.0   48201C_8621                          NP        X   \n",
       "...         ...           ...                         ...      ...   \n",
       "9323    1.1.1.0   48201C_9004                          NP        X   \n",
       "9324    1.1.1.0   48201C_9005                          NP        X   \n",
       "9325    1.1.1.0   48201C_9007  SFHAs WITH HIGH FLOOD RISK        X   \n",
       "9326    2.3.3.3   48201C_9010   SFHAs WITH LOW FLOOD RISK        X   \n",
       "9327    2.3.3.3   48201C_9011   SFHAs WITH LOW FLOOD RISK        X   \n",
       "\n",
       "                              ZONE_SUBTY SFHA_TF  \\\n",
       "9188  0.2 PCT ANNUAL CHANCE FLOOD HAZARD       F   \n",
       "9189  0.2 PCT ANNUAL CHANCE FLOOD HAZARD       F   \n",
       "9190  0.2 PCT ANNUAL CHANCE FLOOD HAZARD       F   \n",
       "9191  0.2 PCT ANNUAL CHANCE FLOOD HAZARD       F   \n",
       "9192  0.2 PCT ANNUAL CHANCE FLOOD HAZARD       F   \n",
       "...                                  ...     ...   \n",
       "9323  0.2 PCT ANNUAL CHANCE FLOOD HAZARD       F   \n",
       "9324  0.2 PCT ANNUAL CHANCE FLOOD HAZARD       F   \n",
       "9325  0.2 PCT ANNUAL CHANCE FLOOD HAZARD       F   \n",
       "9326  0.2 PCT ANNUAL CHANCE FLOOD HAZARD       F   \n",
       "9327  0.2 PCT ANNUAL CHANCE FLOOD HAZARD       F   \n",
       "\n",
       "                                               geometry  \n",
       "9188  POLYGON ((-95.40692 29.59015, -95.40692 29.590...  \n",
       "9189  POLYGON ((-95.41580 29.58459, -95.41584 29.584...  \n",
       "9190  POLYGON ((-95.15761 29.63514, -95.15765 29.635...  \n",
       "9191  POLYGON ((-95.13189 29.65558, -95.13189 29.655...  \n",
       "9192  POLYGON ((-95.13263 29.63912, -95.13253 29.639...  \n",
       "...                                                 ...  \n",
       "9323  POLYGON ((-95.78554 30.03055, -95.78554 30.030...  \n",
       "9324  POLYGON ((-95.78300 30.03449, -95.78302 30.034...  \n",
       "9325  POLYGON ((-95.19033 29.82963, -95.19034 29.829...  \n",
       "9326  POLYGON ((-95.32789 29.59979, -95.32785 29.599...  \n",
       "9327  POLYGON ((-95.37265 29.61220, -95.37261 29.612...  \n",
       "\n",
       "[140 rows x 7 columns]"
      ]
     },
     "execution_count": 104,
     "metadata": {},
     "output_type": "execute_result"
    }
   ],
   "source": [
    "geodf_readFromFile_FEMA_FIRM_FloodPolygons_forDisplay_fromNFHL_exported202209[-540:-400]"
   ]
  },
  {
   "cell_type": "code",
   "execution_count": 105,
   "id": "60340703",
   "metadata": {},
   "outputs": [
    {
     "data": {
      "text/plain": [
       "Index           128\n",
       "VERSION_ID    77824\n",
       "FLD_AR_ID     77824\n",
       "STUDY_TYP     77824\n",
       "FLD_ZONE      77824\n",
       "ZONE_SUBTY    77824\n",
       "SFHA_TF       77824\n",
       "geometry      77824\n",
       "dtype: int64"
      ]
     },
     "execution_count": 105,
     "metadata": {},
     "output_type": "execute_result"
    }
   ],
   "source": [
    "geodf_readFromFile_FEMA_FIRM_FloodPolygons_forDisplay_fromNFHL_exported202209.memory_usage()"
   ]
  },
  {
   "cell_type": "markdown",
   "id": "5e43d4d3",
   "metadata": {},
   "source": [
    "We could also merge all the polygons such that all overlapping polygons got dissolved, but that would require us to delete some data, so we won't do it for now."
   ]
  },
  {
   "cell_type": "markdown",
   "id": "10f3d599",
   "metadata": {},
   "source": [
    "## OVERWRITING THE PREVIOUS FILE! "
   ]
  },
  {
   "cell_type": "code",
   "execution_count": 106,
   "id": "f98a1904",
   "metadata": {},
   "outputs": [],
   "source": [
    "geodf_readFromFile_FEMA_FIRM_FloodPolygons_forDisplay_fromNFHL_exported202209.to_file(\"../created_data/FEMA_FIRM_FloodPolygons_forDisplay_fromNFHL_exported2022_09.geojson\", driver=\"GeoJSON\")  "
   ]
  },
  {
   "cell_type": "markdown",
   "id": "90470359",
   "metadata": {},
   "source": [
    "Unfortunately it looks like this only shrunk the file 1%. When I look at the size of the saved file. Suspect this is due to most of the strings being in the geometry column"
   ]
  },
  {
   "cell_type": "code",
   "execution_count": null,
   "id": "9c1914cc",
   "metadata": {},
   "outputs": [],
   "source": []
  }
 ],
 "metadata": {
  "iooxa": {
   "id": {
    "block": "TM4VfQ5w1ZijuNG4js9s",
    "project": "0y7RFnL8NkCdaXBu8Iog",
    "version": 1
   }
  },
  "kernelspec": {
   "display_name": "Python [conda env:river-maps-experiments] *",
   "language": "python",
   "name": "conda-env-river-maps-experiments-py"
  },
  "language_info": {
   "codemirror_mode": {
    "name": "ipython",
    "version": 3
   },
   "file_extension": ".py",
   "mimetype": "text/x-python",
   "name": "python",
   "nbconvert_exporter": "python",
   "pygments_lexer": "ipython3",
   "version": "3.10.5"
  }
 },
 "nbformat": 4,
 "nbformat_minor": 5
}
